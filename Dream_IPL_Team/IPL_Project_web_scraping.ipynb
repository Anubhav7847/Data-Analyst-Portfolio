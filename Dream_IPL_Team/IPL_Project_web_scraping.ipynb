{
 "cells": [
  {
   "cell_type": "markdown",
   "id": "6f8bdee5",
   "metadata": {},
   "source": [
    "<h1 align=\"center\"> Dream IPL team Data Scraping </h1>"
   ]
  },
  {
   "cell_type": "markdown",
   "id": "0b6fc3cd",
   "metadata": {},
   "source": [
    "**OBJECTIVE**"
   ]
  },
  {
   "cell_type": "markdown",
   "id": "6aa059a8",
   "metadata": {},
   "source": [
    "This project is about determining the best 11 players that can maximize the chances of winning the tournament based on analysis of data from the T20 world cup 2022/23 held in November 2022. BeautifulSoup library in Python was used to scrap the data from ESPN website. Data was further cleaned and preprocessed using various libraries in python and finally an interactive dashboard was built using PowerBI. The dashboard helps in 360 degree analysis of performance, potential and recent form of players to help shape the dream team driven by data."
   ]
  },
  {
   "cell_type": "code",
   "execution_count": null,
   "id": "01b185e2",
   "metadata": {},
   "outputs": [],
   "source": [
    "#libraires required\n",
    "import pandas as pd\n",
    "import json\n",
    "from bs4 import BeautifulSoup # this module helps in web scrapping.\n",
    "import requests  # this module helps us to download a web page"
   ]
  },
  {
   "cell_type": "markdown",
   "id": "74ed0b79",
   "metadata": {},
   "source": [
    "**1. Scraping Match Summary**"
   ]
  },
  {
   "cell_type": "code",
   "execution_count": 15,
   "id": "5e6c8bab",
   "metadata": {},
   "outputs": [],
   "source": [
    "url='https://stats.espncricinfo.com/ci/engine/records/team/match_results.html?id=14450;type=tournament'"
   ]
  },
  {
   "cell_type": "code",
   "execution_count": 17,
   "id": "8488ff9f",
   "metadata": {},
   "outputs": [
    {
     "data": {
      "text/html": [
       "<div>\n",
       "<style scoped>\n",
       "    .dataframe tbody tr th:only-of-type {\n",
       "        vertical-align: middle;\n",
       "    }\n",
       "\n",
       "    .dataframe tbody tr th {\n",
       "        vertical-align: top;\n",
       "    }\n",
       "\n",
       "    .dataframe thead th {\n",
       "        text-align: right;\n",
       "    }\n",
       "</style>\n",
       "<table border=\"1\" class=\"dataframe\">\n",
       "  <thead>\n",
       "    <tr style=\"text-align: right;\">\n",
       "      <th></th>\n",
       "      <th>Team 1</th>\n",
       "      <th>Team 2</th>\n",
       "      <th>Winner</th>\n",
       "      <th>Margin</th>\n",
       "      <th>Ground</th>\n",
       "      <th>Match Date</th>\n",
       "      <th>Scorecard</th>\n",
       "    </tr>\n",
       "  </thead>\n",
       "  <tbody>\n",
       "    <tr>\n",
       "      <th>0</th>\n",
       "      <td>Namibia</td>\n",
       "      <td>Sri Lanka</td>\n",
       "      <td>Namibia</td>\n",
       "      <td>55 runs</td>\n",
       "      <td>Geelong</td>\n",
       "      <td>Oct 16, 2022</td>\n",
       "      <td>T20I # 1823</td>\n",
       "    </tr>\n",
       "    <tr>\n",
       "      <th>1</th>\n",
       "      <td>Netherlands</td>\n",
       "      <td>U.A.E.</td>\n",
       "      <td>Netherlands</td>\n",
       "      <td>3 wickets</td>\n",
       "      <td>Geelong</td>\n",
       "      <td>Oct 16, 2022</td>\n",
       "      <td>T20I # 1825</td>\n",
       "    </tr>\n",
       "    <tr>\n",
       "      <th>2</th>\n",
       "      <td>Scotland</td>\n",
       "      <td>West Indies</td>\n",
       "      <td>Scotland</td>\n",
       "      <td>42 runs</td>\n",
       "      <td>Hobart</td>\n",
       "      <td>Oct 17, 2022</td>\n",
       "      <td>T20I # 1826</td>\n",
       "    </tr>\n",
       "    <tr>\n",
       "      <th>3</th>\n",
       "      <td>Ireland</td>\n",
       "      <td>Zimbabwe</td>\n",
       "      <td>Zimbabwe</td>\n",
       "      <td>31 runs</td>\n",
       "      <td>Hobart</td>\n",
       "      <td>Oct 17, 2022</td>\n",
       "      <td>T20I # 1828</td>\n",
       "    </tr>\n",
       "    <tr>\n",
       "      <th>4</th>\n",
       "      <td>Namibia</td>\n",
       "      <td>Netherlands</td>\n",
       "      <td>Netherlands</td>\n",
       "      <td>5 wickets</td>\n",
       "      <td>Geelong</td>\n",
       "      <td>Oct 18, 2022</td>\n",
       "      <td>T20I # 1830</td>\n",
       "    </tr>\n",
       "  </tbody>\n",
       "</table>\n",
       "</div>"
      ],
      "text/plain": [
       "        Team 1       Team 2       Winner     Margin   Ground    Match Date  \\\n",
       "0      Namibia    Sri Lanka      Namibia    55 runs  Geelong  Oct 16, 2022   \n",
       "1  Netherlands       U.A.E.  Netherlands  3 wickets  Geelong  Oct 16, 2022   \n",
       "2     Scotland  West Indies     Scotland    42 runs   Hobart  Oct 17, 2022   \n",
       "3      Ireland     Zimbabwe     Zimbabwe    31 runs   Hobart  Oct 17, 2022   \n",
       "4      Namibia  Netherlands  Netherlands  5 wickets  Geelong  Oct 18, 2022   \n",
       "\n",
       "     Scorecard  \n",
       "0  T20I # 1823  \n",
       "1  T20I # 1825  \n",
       "2  T20I # 1826  \n",
       "3  T20I # 1828  \n",
       "4  T20I # 1830  "
      ]
     },
     "execution_count": 17,
     "metadata": {},
     "output_type": "execute_result"
    }
   ],
   "source": [
    "df_match=pd.read_html(url)[0]\n",
    "df_match.head()\n"
   ]
  },
  {
   "cell_type": "code",
   "execution_count": 18,
   "id": "0c63bce1",
   "metadata": {},
   "outputs": [],
   "source": [
    "df_match.to_csv('C:/Users/SKS/Desktop/IPL project/match_info.csv',index=False)"
   ]
  },
  {
   "cell_type": "markdown",
   "id": "a193fcf2",
   "metadata": {},
   "source": [
    "**2. Scraping Bowling Summary**"
   ]
  },
  {
   "cell_type": "markdown",
   "id": "f2aaf02a",
   "metadata": {},
   "source": [
    "Batting data is gathered from individual scorecard of matches"
   ]
  },
  {
   "cell_type": "code",
   "execution_count": 4,
   "id": "b091872b",
   "metadata": {},
   "outputs": [],
   "source": [
    "data  = requests.get(url).text \n",
    "soup = BeautifulSoup(data,\"html.parser\") "
   ]
  },
  {
   "cell_type": "code",
   "execution_count": 5,
   "id": "0a5f0bc5",
   "metadata": {},
   "outputs": [],
   "source": [
    "tables=soup.find_all('table')"
   ]
  },
  {
   "cell_type": "code",
   "execution_count": 6,
   "id": "a0950d8e",
   "metadata": {},
   "outputs": [
    {
     "name": "stdout",
     "output_type": "stream",
     "text": [
      "0\n"
     ]
    }
   ],
   "source": [
    "for index,table in enumerate(tables):\n",
    "    if (\"Match results\" in str(table)):\n",
    "        table_index = index\n",
    "        print(table_index)"
   ]
  },
  {
   "cell_type": "markdown",
   "id": "6bb31261",
   "metadata": {},
   "source": [
    "**2.1 Storing all the scorecard links in a list**"
   ]
  },
  {
   "cell_type": "code",
   "execution_count": 7,
   "id": "e6210688",
   "metadata": {},
   "outputs": [],
   "source": [
    "links_list=[]\n",
    "for link in tables[table_index].find_all('a'):\n",
    "    links_list.append(link.get('href'))\n"
   ]
  },
  {
   "cell_type": "code",
   "execution_count": 8,
   "id": "e2d9572f",
   "metadata": {},
   "outputs": [],
   "source": [
    "result=[i for i in links_list if \"match\" in i]\n",
    "final_links=['https://stats.espncricinfo.com'+s for s in result]\n"
   ]
  },
  {
   "cell_type": "code",
   "execution_count": 9,
   "id": "3e126cfe",
   "metadata": {},
   "outputs": [],
   "source": [
    "df_links= pd.DataFrame({'links':final_links,'match_id':df_match['Scorecard']})\n"
   ]
  },
  {
   "cell_type": "code",
   "execution_count": 10,
   "id": "7c1bf29a",
   "metadata": {},
   "outputs": [],
   "source": [
    "df_links.drop(labels=[20,24,25],axis=0,inplace=True)\n"
   ]
  },
  {
   "cell_type": "code",
   "execution_count": 11,
   "id": "77b38ead",
   "metadata": {},
   "outputs": [
    {
     "data": {
      "text/html": [
       "<div>\n",
       "<style scoped>\n",
       "    .dataframe tbody tr th:only-of-type {\n",
       "        vertical-align: middle;\n",
       "    }\n",
       "\n",
       "    .dataframe tbody tr th {\n",
       "        vertical-align: top;\n",
       "    }\n",
       "\n",
       "    .dataframe thead th {\n",
       "        text-align: right;\n",
       "    }\n",
       "</style>\n",
       "<table border=\"1\" class=\"dataframe\">\n",
       "  <thead>\n",
       "    <tr style=\"text-align: right;\">\n",
       "      <th></th>\n",
       "      <th>links</th>\n",
       "      <th>match_id</th>\n",
       "    </tr>\n",
       "  </thead>\n",
       "  <tbody>\n",
       "    <tr>\n",
       "      <th>0</th>\n",
       "      <td>https://stats.espncricinfo.com/ci/engine/match...</td>\n",
       "      <td>T20I # 1823</td>\n",
       "    </tr>\n",
       "    <tr>\n",
       "      <th>1</th>\n",
       "      <td>https://stats.espncricinfo.com/ci/engine/match...</td>\n",
       "      <td>T20I # 1825</td>\n",
       "    </tr>\n",
       "    <tr>\n",
       "      <th>2</th>\n",
       "      <td>https://stats.espncricinfo.com/ci/engine/match...</td>\n",
       "      <td>T20I # 1826</td>\n",
       "    </tr>\n",
       "    <tr>\n",
       "      <th>3</th>\n",
       "      <td>https://stats.espncricinfo.com/ci/engine/match...</td>\n",
       "      <td>T20I # 1828</td>\n",
       "    </tr>\n",
       "    <tr>\n",
       "      <th>4</th>\n",
       "      <td>https://stats.espncricinfo.com/ci/engine/match...</td>\n",
       "      <td>T20I # 1830</td>\n",
       "    </tr>\n",
       "  </tbody>\n",
       "</table>\n",
       "</div>"
      ],
      "text/plain": [
       "                                               links     match_id\n",
       "0  https://stats.espncricinfo.com/ci/engine/match...  T20I # 1823\n",
       "1  https://stats.espncricinfo.com/ci/engine/match...  T20I # 1825\n",
       "2  https://stats.espncricinfo.com/ci/engine/match...  T20I # 1826\n",
       "3  https://stats.espncricinfo.com/ci/engine/match...  T20I # 1828\n",
       "4  https://stats.espncricinfo.com/ci/engine/match...  T20I # 1830"
      ]
     },
     "execution_count": 11,
     "metadata": {},
     "output_type": "execute_result"
    }
   ],
   "source": [
    "df_links.reset_index(inplace=True)\n",
    "df_links.drop(columns=['index'],inplace=True)\n",
    "df_links.head()"
   ]
  },
  {
   "cell_type": "markdown",
   "id": "ceff5e4f",
   "metadata": {},
   "source": [
    "**2.2 Code for scraping bowling data**"
   ]
  },
  {
   "cell_type": "code",
   "execution_count": 208,
   "id": "54c73896",
   "metadata": {},
   "outputs": [
    {
     "data": {
      "text/html": [
       "<div>\n",
       "<style scoped>\n",
       "    .dataframe tbody tr th:only-of-type {\n",
       "        vertical-align: middle;\n",
       "    }\n",
       "\n",
       "    .dataframe tbody tr th {\n",
       "        vertical-align: top;\n",
       "    }\n",
       "\n",
       "    .dataframe thead th {\n",
       "        text-align: right;\n",
       "    }\n",
       "</style>\n",
       "<table border=\"1\" class=\"dataframe\">\n",
       "  <thead>\n",
       "    <tr style=\"text-align: right;\">\n",
       "      <th></th>\n",
       "      <th>BOWLING</th>\n",
       "      <th>O</th>\n",
       "      <th>M</th>\n",
       "      <th>R</th>\n",
       "      <th>W</th>\n",
       "      <th>ECON</th>\n",
       "      <th>0s</th>\n",
       "      <th>4s</th>\n",
       "      <th>6s</th>\n",
       "      <th>WD</th>\n",
       "      <th>NB</th>\n",
       "      <th>match_id</th>\n",
       "    </tr>\n",
       "  </thead>\n",
       "  <tbody>\n",
       "    <tr>\n",
       "      <th>0</th>\n",
       "      <td>Maheesh Theekshana</td>\n",
       "      <td>4</td>\n",
       "      <td>0</td>\n",
       "      <td>23</td>\n",
       "      <td>1</td>\n",
       "      <td>5.75</td>\n",
       "      <td>7</td>\n",
       "      <td>0</td>\n",
       "      <td>0</td>\n",
       "      <td>2</td>\n",
       "      <td>0</td>\n",
       "      <td>T20I # 1823</td>\n",
       "    </tr>\n",
       "    <tr>\n",
       "      <th>1</th>\n",
       "      <td>Dushmantha Chameera</td>\n",
       "      <td>4</td>\n",
       "      <td>0</td>\n",
       "      <td>39</td>\n",
       "      <td>1</td>\n",
       "      <td>9.75</td>\n",
       "      <td>6</td>\n",
       "      <td>3</td>\n",
       "      <td>1</td>\n",
       "      <td>2</td>\n",
       "      <td>0</td>\n",
       "      <td>T20I # 1823</td>\n",
       "    </tr>\n",
       "    <tr>\n",
       "      <th>2</th>\n",
       "      <td>Pramod Madushan</td>\n",
       "      <td>4</td>\n",
       "      <td>0</td>\n",
       "      <td>37</td>\n",
       "      <td>2</td>\n",
       "      <td>9.25</td>\n",
       "      <td>6</td>\n",
       "      <td>3</td>\n",
       "      <td>1</td>\n",
       "      <td>0</td>\n",
       "      <td>0</td>\n",
       "      <td>T20I # 1823</td>\n",
       "    </tr>\n",
       "    <tr>\n",
       "      <th>3</th>\n",
       "      <td>Chamika Karunaratne</td>\n",
       "      <td>4</td>\n",
       "      <td>0</td>\n",
       "      <td>36</td>\n",
       "      <td>1</td>\n",
       "      <td>9.00</td>\n",
       "      <td>7</td>\n",
       "      <td>3</td>\n",
       "      <td>1</td>\n",
       "      <td>1</td>\n",
       "      <td>0</td>\n",
       "      <td>T20I # 1823</td>\n",
       "    </tr>\n",
       "    <tr>\n",
       "      <th>4</th>\n",
       "      <td>Wanindu Hasaranga de Silva</td>\n",
       "      <td>4</td>\n",
       "      <td>0</td>\n",
       "      <td>27</td>\n",
       "      <td>1</td>\n",
       "      <td>6.75</td>\n",
       "      <td>8</td>\n",
       "      <td>1</td>\n",
       "      <td>1</td>\n",
       "      <td>0</td>\n",
       "      <td>0</td>\n",
       "      <td>T20I # 1823</td>\n",
       "    </tr>\n",
       "    <tr>\n",
       "      <th>...</th>\n",
       "      <td>...</td>\n",
       "      <td>...</td>\n",
       "      <td>...</td>\n",
       "      <td>...</td>\n",
       "      <td>...</td>\n",
       "      <td>...</td>\n",
       "      <td>...</td>\n",
       "      <td>...</td>\n",
       "      <td>...</td>\n",
       "      <td>...</td>\n",
       "      <td>...</td>\n",
       "      <td>...</td>\n",
       "    </tr>\n",
       "    <tr>\n",
       "      <th>495</th>\n",
       "      <td>Naseem Shah</td>\n",
       "      <td>4</td>\n",
       "      <td>0</td>\n",
       "      <td>30</td>\n",
       "      <td>0</td>\n",
       "      <td>7.50</td>\n",
       "      <td>15</td>\n",
       "      <td>3</td>\n",
       "      <td>1</td>\n",
       "      <td>1</td>\n",
       "      <td>0</td>\n",
       "      <td>T20I # 1879</td>\n",
       "    </tr>\n",
       "    <tr>\n",
       "      <th>496</th>\n",
       "      <td>Haris Rauf</td>\n",
       "      <td>4</td>\n",
       "      <td>0</td>\n",
       "      <td>23</td>\n",
       "      <td>2</td>\n",
       "      <td>5.75</td>\n",
       "      <td>13</td>\n",
       "      <td>3</td>\n",
       "      <td>0</td>\n",
       "      <td>1</td>\n",
       "      <td>0</td>\n",
       "      <td>T20I # 1879</td>\n",
       "    </tr>\n",
       "    <tr>\n",
       "      <th>497</th>\n",
       "      <td>Shadab Khan</td>\n",
       "      <td>4</td>\n",
       "      <td>0</td>\n",
       "      <td>20</td>\n",
       "      <td>1</td>\n",
       "      <td>5.00</td>\n",
       "      <td>10</td>\n",
       "      <td>1</td>\n",
       "      <td>0</td>\n",
       "      <td>0</td>\n",
       "      <td>0</td>\n",
       "      <td>T20I # 1879</td>\n",
       "    </tr>\n",
       "    <tr>\n",
       "      <th>498</th>\n",
       "      <td>Mohammad Wasim</td>\n",
       "      <td>4</td>\n",
       "      <td>0</td>\n",
       "      <td>38</td>\n",
       "      <td>1</td>\n",
       "      <td>9.50</td>\n",
       "      <td>5</td>\n",
       "      <td>5</td>\n",
       "      <td>0</td>\n",
       "      <td>2</td>\n",
       "      <td>0</td>\n",
       "      <td>T20I # 1879</td>\n",
       "    </tr>\n",
       "    <tr>\n",
       "      <th>499</th>\n",
       "      <td>Iftikhar Ahmed</td>\n",
       "      <td>0.5</td>\n",
       "      <td>0</td>\n",
       "      <td>13</td>\n",
       "      <td>0</td>\n",
       "      <td>15.60</td>\n",
       "      <td>0</td>\n",
       "      <td>1</td>\n",
       "      <td>1</td>\n",
       "      <td>0</td>\n",
       "      <td>0</td>\n",
       "      <td>T20I # 1879</td>\n",
       "    </tr>\n",
       "  </tbody>\n",
       "</table>\n",
       "<p>500 rows × 12 columns</p>\n",
       "</div>"
      ],
      "text/plain": [
       "                        BOWLING    O  M   R  W   ECON  0s 4s 6s WD NB  \\\n",
       "0            Maheesh Theekshana    4  0  23  1   5.75   7  0  0  2  0   \n",
       "1           Dushmantha Chameera    4  0  39  1   9.75   6  3  1  2  0   \n",
       "2               Pramod Madushan    4  0  37  2   9.25   6  3  1  0  0   \n",
       "3           Chamika Karunaratne    4  0  36  1   9.00   7  3  1  1  0   \n",
       "4    Wanindu Hasaranga de Silva    4  0  27  1   6.75   8  1  1  0  0   \n",
       "..                          ...  ... ..  .. ..    ...  .. .. .. .. ..   \n",
       "495                 Naseem Shah    4  0  30  0   7.50  15  3  1  1  0   \n",
       "496                  Haris Rauf    4  0  23  2   5.75  13  3  0  1  0   \n",
       "497                 Shadab Khan    4  0  20  1   5.00  10  1  0  0  0   \n",
       "498              Mohammad Wasim    4  0  38  1   9.50   5  5  0  2  0   \n",
       "499              Iftikhar Ahmed  0.5  0  13  0  15.60   0  1  1  0  0   \n",
       "\n",
       "        match_id  \n",
       "0    T20I # 1823  \n",
       "1    T20I # 1823  \n",
       "2    T20I # 1823  \n",
       "3    T20I # 1823  \n",
       "4    T20I # 1823  \n",
       "..           ...  \n",
       "495  T20I # 1879  \n",
       "496  T20I # 1879  \n",
       "497  T20I # 1879  \n",
       "498  T20I # 1879  \n",
       "499  T20I # 1879  \n",
       "\n",
       "[500 rows x 12 columns]"
      ]
     },
     "execution_count": 208,
     "metadata": {},
     "output_type": "execute_result"
    }
   ],
   "source": [
    "df_bowling=pd.DataFrame()\n",
    "for count,i in enumerate(df_links['links']):\n",
    "    df_bowling1=pd.read_html(i)[1]\n",
    "    df_bowling2=pd.read_html(i)[3]\n",
    "    df_bowl_full=pd.concat([df_bowling1,df_bowling2],ignore_index=True)\n",
    "    df_bowl_full=df_bowl_full[df_bowl_full['BOWLING'].apply(lambda x:  len(x)<30 )]\n",
    "    df_bowl_full.reset_index(drop=True)\n",
    "    df_bowl_full['match_id']=df_links['match_id'][count]\n",
    "    df_bowling=pd.concat([df_bowling,df_bowl_full],ignore_index=True)\n",
    "    \n",
    "df_bowling  "
   ]
  },
  {
   "cell_type": "markdown",
   "id": "f3adc1b3",
   "metadata": {},
   "source": [
    "**3. Code for scraping batting data**"
   ]
  },
  {
   "cell_type": "code",
   "execution_count": 239,
   "id": "c66ba642",
   "metadata": {},
   "outputs": [
    {
     "data": {
      "text/html": [
       "<div>\n",
       "<style scoped>\n",
       "    .dataframe tbody tr th:only-of-type {\n",
       "        vertical-align: middle;\n",
       "    }\n",
       "\n",
       "    .dataframe tbody tr th {\n",
       "        vertical-align: top;\n",
       "    }\n",
       "\n",
       "    .dataframe thead th {\n",
       "        text-align: right;\n",
       "    }\n",
       "</style>\n",
       "<table border=\"1\" class=\"dataframe\">\n",
       "  <thead>\n",
       "    <tr style=\"text-align: right;\">\n",
       "      <th></th>\n",
       "      <th>BATTING</th>\n",
       "      <th>Unnamed: 1</th>\n",
       "      <th>R</th>\n",
       "      <th>B</th>\n",
       "      <th>M</th>\n",
       "      <th>4s</th>\n",
       "      <th>6s</th>\n",
       "      <th>SR</th>\n",
       "      <th>battingPos</th>\n",
       "      <th>match_id</th>\n",
       "    </tr>\n",
       "  </thead>\n",
       "  <tbody>\n",
       "    <tr>\n",
       "      <th>0</th>\n",
       "      <td>Michael van Lingen</td>\n",
       "      <td>c Pramod Madushan b Chameera</td>\n",
       "      <td>3</td>\n",
       "      <td>6</td>\n",
       "      <td>7</td>\n",
       "      <td>0</td>\n",
       "      <td>0</td>\n",
       "      <td>50.00</td>\n",
       "      <td>1</td>\n",
       "      <td>T20I # 1823</td>\n",
       "    </tr>\n",
       "    <tr>\n",
       "      <th>1</th>\n",
       "      <td>Divan la Cock</td>\n",
       "      <td>c Shanaka b Pramod Madushan</td>\n",
       "      <td>9</td>\n",
       "      <td>9</td>\n",
       "      <td>15</td>\n",
       "      <td>1</td>\n",
       "      <td>0</td>\n",
       "      <td>100.00</td>\n",
       "      <td>2</td>\n",
       "      <td>T20I # 1823</td>\n",
       "    </tr>\n",
       "    <tr>\n",
       "      <th>2</th>\n",
       "      <td>Jan Nicol Loftie-Eaton</td>\n",
       "      <td>c †Mendis b Karunaratne</td>\n",
       "      <td>20</td>\n",
       "      <td>12</td>\n",
       "      <td>18</td>\n",
       "      <td>1</td>\n",
       "      <td>2</td>\n",
       "      <td>166.66</td>\n",
       "      <td>3</td>\n",
       "      <td>T20I # 1823</td>\n",
       "    </tr>\n",
       "    <tr>\n",
       "      <th>3</th>\n",
       "      <td>Stephan Baard</td>\n",
       "      <td>c DM de Silva b Pramod Madushan</td>\n",
       "      <td>26</td>\n",
       "      <td>24</td>\n",
       "      <td>49</td>\n",
       "      <td>2</td>\n",
       "      <td>0</td>\n",
       "      <td>108.33</td>\n",
       "      <td>4</td>\n",
       "      <td>T20I # 1823</td>\n",
       "    </tr>\n",
       "    <tr>\n",
       "      <th>4</th>\n",
       "      <td>Gerhard Erasmus (c)</td>\n",
       "      <td>c Gunathilaka b PWH de Silva</td>\n",
       "      <td>20</td>\n",
       "      <td>24</td>\n",
       "      <td>30</td>\n",
       "      <td>0</td>\n",
       "      <td>0</td>\n",
       "      <td>83.33</td>\n",
       "      <td>5</td>\n",
       "      <td>T20I # 1823</td>\n",
       "    </tr>\n",
       "    <tr>\n",
       "      <th>...</th>\n",
       "      <td>...</td>\n",
       "      <td>...</td>\n",
       "      <td>...</td>\n",
       "      <td>...</td>\n",
       "      <td>...</td>\n",
       "      <td>...</td>\n",
       "      <td>...</td>\n",
       "      <td>...</td>\n",
       "      <td>...</td>\n",
       "      <td>...</td>\n",
       "    </tr>\n",
       "    <tr>\n",
       "      <th>2</th>\n",
       "      <td>Phil Salt</td>\n",
       "      <td>c Iftikhar Ahmed b Haris Rauf</td>\n",
       "      <td>10</td>\n",
       "      <td>9</td>\n",
       "      <td>16</td>\n",
       "      <td>2</td>\n",
       "      <td>0</td>\n",
       "      <td>111.11</td>\n",
       "      <td>3</td>\n",
       "      <td>T20I # 1879</td>\n",
       "    </tr>\n",
       "    <tr>\n",
       "      <th>3</th>\n",
       "      <td>Ben Stokes</td>\n",
       "      <td>not out</td>\n",
       "      <td>52</td>\n",
       "      <td>49</td>\n",
       "      <td>81</td>\n",
       "      <td>5</td>\n",
       "      <td>1</td>\n",
       "      <td>106.12</td>\n",
       "      <td>4</td>\n",
       "      <td>T20I # 1879</td>\n",
       "    </tr>\n",
       "    <tr>\n",
       "      <th>4</th>\n",
       "      <td>Harry Brook</td>\n",
       "      <td>c Shaheen Shah Afridi b Shadab Khan</td>\n",
       "      <td>20</td>\n",
       "      <td>23</td>\n",
       "      <td>36</td>\n",
       "      <td>1</td>\n",
       "      <td>0</td>\n",
       "      <td>86.95</td>\n",
       "      <td>5</td>\n",
       "      <td>T20I # 1879</td>\n",
       "    </tr>\n",
       "    <tr>\n",
       "      <th>5</th>\n",
       "      <td>Moeen Ali</td>\n",
       "      <td>b Mohammad Wasim</td>\n",
       "      <td>19</td>\n",
       "      <td>13</td>\n",
       "      <td>30</td>\n",
       "      <td>3</td>\n",
       "      <td>0</td>\n",
       "      <td>146.15</td>\n",
       "      <td>6</td>\n",
       "      <td>T20I # 1879</td>\n",
       "    </tr>\n",
       "    <tr>\n",
       "      <th>6</th>\n",
       "      <td>Liam Livingstone</td>\n",
       "      <td>not out</td>\n",
       "      <td>1</td>\n",
       "      <td>1</td>\n",
       "      <td>3</td>\n",
       "      <td>0</td>\n",
       "      <td>0</td>\n",
       "      <td>100.00</td>\n",
       "      <td>7</td>\n",
       "      <td>T20I # 1879</td>\n",
       "    </tr>\n",
       "  </tbody>\n",
       "</table>\n",
       "<p>699 rows × 10 columns</p>\n",
       "</div>"
      ],
      "text/plain": [
       "                   BATTING                           Unnamed: 1   R   B   M  \\\n",
       "0       Michael van Lingen         c Pramod Madushan b Chameera   3   6   7   \n",
       "1            Divan la Cock          c Shanaka b Pramod Madushan   9   9  15   \n",
       "2   Jan Nicol Loftie-Eaton              c †Mendis b Karunaratne  20  12  18   \n",
       "3            Stephan Baard      c DM de Silva b Pramod Madushan  26  24  49   \n",
       "4      Gerhard Erasmus (c)         c Gunathilaka b PWH de Silva  20  24  30   \n",
       "..                     ...                                  ...  ..  ..  ..   \n",
       "2                Phil Salt        c Iftikhar Ahmed b Haris Rauf  10   9  16   \n",
       "3               Ben Stokes                              not out  52  49  81   \n",
       "4              Harry Brook  c Shaheen Shah Afridi b Shadab Khan  20  23  36   \n",
       "5                Moeen Ali                     b Mohammad Wasim  19  13  30   \n",
       "6         Liam Livingstone                              not out   1   1   3   \n",
       "\n",
       "   4s 6s      SR  battingPos     match_id  \n",
       "0   0  0   50.00           1  T20I # 1823  \n",
       "1   1  0  100.00           2  T20I # 1823  \n",
       "2   1  2  166.66           3  T20I # 1823  \n",
       "3   2  0  108.33           4  T20I # 1823  \n",
       "4   0  0   83.33           5  T20I # 1823  \n",
       ".. .. ..     ...         ...          ...  \n",
       "2   2  0  111.11           3  T20I # 1879  \n",
       "3   5  1  106.12           4  T20I # 1879  \n",
       "4   1  0   86.95           5  T20I # 1879  \n",
       "5   3  0  146.15           6  T20I # 1879  \n",
       "6   0  0  100.00           7  T20I # 1879  \n",
       "\n",
       "[699 rows x 10 columns]"
      ]
     },
     "execution_count": 239,
     "metadata": {},
     "output_type": "execute_result"
    }
   ],
   "source": [
    "df_batting=pd.DataFrame()\n",
    "for count,i in enumerate(df_links['links']):\n",
    "    df_batting1=pd.read_html(i)[0]\n",
    "    df_batting2=pd.read_html(i)[2]\n",
    "    df_batting1=df_batting1.iloc[:df_batting1[df_batting1.BATTING=='Extras'].index[0],:-2].dropna()\n",
    "    df_batting1.reset_index(inplace=True,drop=True)\n",
    "    df_batting1['battingPos']=df_batting1.index+1\n",
    "    df_batting2=df_batting2.iloc[:df_batting2[df_batting2.BATTING=='Extras'].index[0],:-2].dropna()\n",
    "    df_batting2.reset_index(inplace=True,drop=True)\n",
    "    df_batting2['battingPos']=df_batting2.index+1\n",
    "    df_bat_full=pd.concat([df_batting1,df_batting2])\n",
    "    df_bat_full['match_id']=df_links['match_id'][count]\n",
    "    df_batting=pd.concat([df_batting,df_bat_full])\n",
    "df_batting\n",
    "    \n",
    "   "
   ]
  },
  {
   "cell_type": "code",
   "execution_count": 240,
   "id": "a88ce7db",
   "metadata": {},
   "outputs": [],
   "source": [
    "df_batting.to_csv('batting_uncleaned.csv',index=False)"
   ]
  },
  {
   "cell_type": "markdown",
   "id": "e1983baa",
   "metadata": {},
   "source": [
    "**4. Information about players regarding their team, playing role, batting or bowling style and description about them which would be useful in determing the role the selected players would fit in for the dream team**"
   ]
  },
  {
   "cell_type": "code",
   "execution_count": 246,
   "id": "8c46245f",
   "metadata": {},
   "outputs": [],
   "source": [
    "\n",
    "player_data  = requests.get(final_links[0]).text \n",
    "player_soup = BeautifulSoup(player_data,\"html.parser\")"
   ]
  },
  {
   "cell_type": "code",
   "execution_count": 267,
   "id": "6228e0fb",
   "metadata": {},
   "outputs": [],
   "source": [
    "match_tables=player_soup.find_all('table')"
   ]
  },
  {
   "cell_type": "markdown",
   "id": "dd440850",
   "metadata": {},
   "source": [
    "**4.1 Creating a list of links with info of players**"
   ]
  },
  {
   "cell_type": "code",
   "execution_count": 276,
   "id": "b6af3f3e",
   "metadata": {},
   "outputs": [
    {
     "data": {
      "text/plain": [
       "['/cricketers/michael-van-lingen-833777',\n",
       " '/cricketers/divan-la-cock-1178065',\n",
       " '/cricketers/jan-nicol-loftie-eaton-1071473',\n",
       " '/cricketers/stephan-baard-437927',\n",
       " '/cricketers/gerhard-erasmus-519070',\n",
       " '/cricketers/jan-frylinck-482478',\n",
       " '/cricketers/david-wiese-221140',\n",
       " '/cricketers/jj-smit-553821',\n",
       " '/cricketers/zane-green-596664',\n",
       " '/cricketers/bernard-scholtz-330223',\n",
       " '/cricketers/ben-shikongo-1069820',\n",
       " '/cricketers/maheesh-theekshana-1138316',\n",
       " '/cricketers/dushmantha-chameera-552152',\n",
       " '/cricketers/pramod-madushan-826689',\n",
       " '/cricketers/chamika-karunaratne-623695',\n",
       " '/cricketers/wanindu-hasaranga-de-silva-784379',\n",
       " '/cricketers/pathum-nissanka-1028655',\n",
       " '/cricketers/kusal-mendis-629074',\n",
       " '/cricketers/dhananjaya-de-silva-465793',\n",
       " '/cricketers/danushka-gunathilaka-345821',\n",
       " '/cricketers/bhanuka-rajapaksa-342619',\n",
       " '/cricketers/dasun-shanaka-437316',\n",
       " '/cricketers/wanindu-hasaranga-de-silva-784379',\n",
       " '/cricketers/chamika-karunaratne-623695',\n",
       " '/cricketers/pramod-madushan-826689',\n",
       " '/cricketers/dushmantha-chameera-552152',\n",
       " '/cricketers/maheesh-theekshana-1138316',\n",
       " '/cricketers/gerhard-erasmus-519070',\n",
       " '/cricketers/david-wiese-221140',\n",
       " '/cricketers/bernard-scholtz-330223',\n",
       " '/cricketers/ben-shikongo-1069820',\n",
       " '/cricketers/jj-smit-553821',\n",
       " '/cricketers/jan-frylinck-482478',\n",
       " '/cricketers/chirag-suri-534734',\n",
       " '/cricketers/muhammad-waseem-1241277',\n",
       " '/cricketers/kashif-daud-229225',\n",
       " '/cricketers/vriitya-aravind-1178586',\n",
       " '/cricketers/zawar-farid-1196500',\n",
       " '/cricketers/basil-hameed-1209110',\n",
       " '/cricketers/chundangapoyil-rizwan-474760',\n",
       " '/cricketers/aayan-afzal-khan-1241265',\n",
       " '/cricketers/karthik-meiyappan-1058987',\n",
       " '/cricketers/junaid-siddique-1203754',\n",
       " '/cricketers/zahoor-khan-384525',\n",
       " '/cricketers/fred-klaassen-1104703',\n",
       " '/cricketers/tim-pringle-1193548',\n",
       " '/cricketers/logan-van-beek-440522',\n",
       " '/cricketers/bas-de-leede-1036191',\n",
       " '/cricketers/paul-van-meekeren-348109',\n",
       " '/cricketers/roelof-van-der-merwe-47850',\n",
       " '/cricketers/vikramjit-singh-1153767',\n",
       " '/cricketers/max-o-dowd-643197',\n",
       " '/cricketers/bas-de-leede-1036191',\n",
       " '/cricketers/colin-ackermann-379774',\n",
       " '/cricketers/tom-cooper-219885',\n",
       " '/cricketers/scott-edwards-1127317',\n",
       " '/cricketers/roelof-van-der-merwe-47850',\n",
       " '/cricketers/tim-pringle-1193548',\n",
       " '/cricketers/logan-van-beek-440522',\n",
       " '/cricketers/fred-klaassen-1104703',\n",
       " '/cricketers/paul-van-meekeren-348109',\n",
       " '/cricketers/junaid-siddique-1203754',\n",
       " '/cricketers/basil-hameed-1209110',\n",
       " '/cricketers/aayan-afzal-khan-1241265',\n",
       " '/cricketers/karthik-meiyappan-1058987',\n",
       " '/cricketers/zahoor-khan-384525',\n",
       " '/cricketers/zawar-farid-1196500',\n",
       " '/cricketers/kashif-daud-229225',\n",
       " '/cricketers/george-munsey-671805',\n",
       " '/cricketers/michael-jones-1093091',\n",
       " '/cricketers/matthew-cross-417268',\n",
       " '/cricketers/richie-berrington-25490',\n",
       " '/cricketers/calum-macleod-232435',\n",
       " '/cricketers/michael-leask-414966',\n",
       " '/cricketers/chris-greaves-873199',\n",
       " '/cricketers/mark-watt-659081',\n",
       " '/cricketers/josh-davey-407265',\n",
       " '/cricketers/safyaan-sharif-414970',\n",
       " '/cricketers/brad-wheal-807535',\n",
       " '/cricketers/kyle-mayers-348056',\n",
       " '/cricketers/akeal-hosein-530812',\n",
       " '/cricketers/alzarri-joseph-670031',\n",
       " '/cricketers/obed-mccoy-906783',\n",
       " '/cricketers/jason-holder-391485',\n",
       " '/cricketers/odean-smith-820691',\n",
       " '/cricketers/kyle-mayers-348056',\n",
       " '/cricketers/evin-lewis-431901',\n",
       " '/cricketers/brandon-king-670035',\n",
       " '/cricketers/nicholas-pooran-604302',\n",
       " '/cricketers/shamarh-brooks-230555',\n",
       " '/cricketers/rovman-powell-820351',\n",
       " '/cricketers/jason-holder-391485',\n",
       " '/cricketers/akeal-hosein-530812',\n",
       " '/cricketers/alzarri-joseph-670031',\n",
       " '/cricketers/odean-smith-820691',\n",
       " '/cricketers/obed-mccoy-906783',\n",
       " '/cricketers/mark-watt-659081',\n",
       " '/cricketers/brad-wheal-807535',\n",
       " '/cricketers/josh-davey-407265',\n",
       " '/cricketers/safyaan-sharif-414970',\n",
       " '/cricketers/michael-leask-414966',\n",
       " '/cricketers/regis-chakabva-293831',\n",
       " '/cricketers/craig-ervine-55412',\n",
       " '/cricketers/wessly-madhevere-938959',\n",
       " '/cricketers/sean-williams-55870',\n",
       " '/cricketers/sikandar-raza-299572',\n",
       " '/cricketers/milton-shumba-951781',\n",
       " '/cricketers/ryan-burl-495964',\n",
       " '/cricketers/luke-jongwe-541224',\n",
       " '/cricketers/tendai-chatara-425639',\n",
       " '/cricketers/richard-ngarava-806241',\n",
       " '/cricketers/blessing-muzarabani-827051',\n",
       " '/cricketers/josh-little-928067',\n",
       " '/cricketers/mark-adair-526441',\n",
       " '/cricketers/barry-mccarthy-348059',\n",
       " '/cricketers/curtis-campher-595921',\n",
       " '/cricketers/simi-singh-1005257',\n",
       " '/cricketers/gareth-delany-1099379',\n",
       " '/cricketers/paul-stirling-303427',\n",
       " '/cricketers/andy-balbirnie-303423',\n",
       " '/cricketers/lorcan-tucker-928057',\n",
       " '/cricketers/harry-tector-961407',\n",
       " '/cricketers/curtis-campher-595921',\n",
       " '/cricketers/george-dockrell-348034',\n",
       " '/cricketers/gareth-delany-1099379',\n",
       " '/cricketers/mark-adair-526441',\n",
       " '/cricketers/simi-singh-1005257',\n",
       " '/cricketers/barry-mccarthy-348059',\n",
       " '/cricketers/josh-little-928067',\n",
       " '/cricketers/richard-ngarava-806241',\n",
       " '/cricketers/tendai-chatara-425639',\n",
       " '/cricketers/blessing-muzarabani-827051',\n",
       " '/cricketers/luke-jongwe-541224',\n",
       " '/cricketers/sean-williams-55870',\n",
       " '/cricketers/sikandar-raza-299572',\n",
       " '/cricketers/michael-van-lingen-833777',\n",
       " '/cricketers/divan-la-cock-1178065',\n",
       " '/cricketers/stephan-baard-437927',\n",
       " '/cricketers/jan-nicol-loftie-eaton-1071473',\n",
       " '/cricketers/jan-frylinck-482478',\n",
       " '/cricketers/gerhard-erasmus-519070',\n",
       " '/cricketers/david-wiese-221140',\n",
       " '/cricketers/jj-smit-553821',\n",
       " '/cricketers/zane-green-596664',\n",
       " '/cricketers/bernard-scholtz-330223',\n",
       " '/cricketers/ben-shikongo-1069820',\n",
       " '/cricketers/fred-klaassen-1104703',\n",
       " '/cricketers/tim-pringle-1193548',\n",
       " '/cricketers/bas-de-leede-1036191',\n",
       " '/cricketers/colin-ackermann-379774',\n",
       " '/cricketers/paul-van-meekeren-348109',\n",
       " '/cricketers/timm-van-der-gugten-333782',\n",
       " '/cricketers/roelof-van-der-merwe-47850',\n",
       " '/cricketers/max-o-dowd-643197',\n",
       " '/cricketers/vikramjit-singh-1153767',\n",
       " '/cricketers/bas-de-leede-1036191',\n",
       " '/cricketers/tom-cooper-219885',\n",
       " '/cricketers/colin-ackermann-379774',\n",
       " '/cricketers/scott-edwards-1127317',\n",
       " '/cricketers/tim-pringle-1193548',\n",
       " '/cricketers/roelof-van-der-merwe-47850',\n",
       " '/cricketers/timm-van-der-gugten-333782',\n",
       " '/cricketers/fred-klaassen-1104703',\n",
       " '/cricketers/paul-van-meekeren-348109',\n",
       " '/cricketers/bernard-scholtz-330223',\n",
       " '/cricketers/david-wiese-221140',\n",
       " '/cricketers/gerhard-erasmus-519070',\n",
       " '/cricketers/ben-shikongo-1069820',\n",
       " '/cricketers/jj-smit-553821',\n",
       " '/cricketers/jan-frylinck-482478',\n",
       " '/cricketers/jan-nicol-loftie-eaton-1071473',\n",
       " '/cricketers/pathum-nissanka-1028655',\n",
       " '/cricketers/kusal-mendis-629074',\n",
       " '/cricketers/dhananjaya-de-silva-465793',\n",
       " '/cricketers/bhanuka-rajapaksa-342619',\n",
       " '/cricketers/charith-asalanka-784367',\n",
       " '/cricketers/dasun-shanaka-437316',\n",
       " '/cricketers/wanindu-hasaranga-de-silva-784379',\n",
       " '/cricketers/chamika-karunaratne-623695',\n",
       " '/cricketers/pramod-madushan-826689',\n",
       " '/cricketers/dushmantha-chameera-552152',\n",
       " '/cricketers/maheesh-theekshana-1138316',\n",
       " '/cricketers/junaid-siddique-1203754',\n",
       " '/cricketers/kashif-daud-229225',\n",
       " '/cricketers/zahoor-khan-384525',\n",
       " '/cricketers/aayan-afzal-khan-1241265',\n",
       " '/cricketers/aryan-lakra-1058989',\n",
       " '/cricketers/karthik-meiyappan-1058987',\n",
       " '/cricketers/basil-hameed-1209110',\n",
       " '/cricketers/muhammad-waseem-1241277',\n",
       " '/cricketers/chirag-suri-534734',\n",
       " '/cricketers/aryan-lakra-1058989',\n",
       " '/cricketers/chundangapoyil-rizwan-474760',\n",
       " '/cricketers/vriitya-aravind-1178586',\n",
       " '/cricketers/basil-hameed-1209110',\n",
       " '/cricketers/aayan-afzal-khan-1241265',\n",
       " '/cricketers/kashif-daud-229225',\n",
       " '/cricketers/karthik-meiyappan-1058987',\n",
       " '/cricketers/junaid-siddique-1203754',\n",
       " '/cricketers/zahoor-khan-384525',\n",
       " '/cricketers/pramod-madushan-826689',\n",
       " '/cricketers/maheesh-theekshana-1138316',\n",
       " '/cricketers/dushmantha-chameera-552152',\n",
       " '/cricketers/chamika-karunaratne-623695',\n",
       " '/cricketers/wanindu-hasaranga-de-silva-784379',\n",
       " '/cricketers/dasun-shanaka-437316',\n",
       " '/cricketers/george-munsey-671805',\n",
       " '/cricketers/michael-jones-1093091',\n",
       " '/cricketers/matthew-cross-417268',\n",
       " '/cricketers/richie-berrington-25490',\n",
       " '/cricketers/michael-leask-414966',\n",
       " '/cricketers/calum-macleod-232435',\n",
       " '/cricketers/chris-greaves-873199',\n",
       " '/cricketers/mark-watt-659081',\n",
       " '/cricketers/josh-davey-407265',\n",
       " '/cricketers/safyaan-sharif-414970',\n",
       " '/cricketers/brad-wheal-807535',\n",
       " '/cricketers/josh-little-928067',\n",
       " '/cricketers/mark-adair-526441',\n",
       " '/cricketers/barry-mccarthy-348059',\n",
       " '/cricketers/gareth-delany-1099379',\n",
       " '/cricketers/simi-singh-1005257',\n",
       " '/cricketers/curtis-campher-595921',\n",
       " '/cricketers/george-dockrell-348034',\n",
       " '/cricketers/paul-stirling-303427',\n",
       " '/cricketers/andy-balbirnie-303423',\n",
       " '/cricketers/lorcan-tucker-928057',\n",
       " '/cricketers/harry-tector-961407',\n",
       " '/cricketers/curtis-campher-595921',\n",
       " '/cricketers/george-dockrell-348034',\n",
       " '/cricketers/gareth-delany-1099379',\n",
       " '/cricketers/mark-adair-526441',\n",
       " '/cricketers/simi-singh-1005257',\n",
       " '/cricketers/barry-mccarthy-348059',\n",
       " '/cricketers/josh-little-928067',\n",
       " '/cricketers/mark-watt-659081',\n",
       " '/cricketers/brad-wheal-807535',\n",
       " '/cricketers/josh-davey-407265',\n",
       " '/cricketers/safyaan-sharif-414970',\n",
       " '/cricketers/chris-greaves-873199',\n",
       " '/cricketers/michael-leask-414966',\n",
       " '/cricketers/kyle-mayers-348056',\n",
       " '/cricketers/johnson-charles-333066',\n",
       " '/cricketers/evin-lewis-431901',\n",
       " '/cricketers/nicholas-pooran-604302',\n",
       " '/cricketers/rovman-powell-820351',\n",
       " '/cricketers/shamarh-brooks-230555',\n",
       " '/cricketers/jason-holder-391485',\n",
       " '/cricketers/akeal-hosein-530812',\n",
       " '/cricketers/odean-smith-820691',\n",
       " '/cricketers/alzarri-joseph-670031',\n",
       " '/cricketers/obed-mccoy-906783',\n",
       " '/cricketers/richard-ngarava-806241',\n",
       " '/cricketers/tendai-chatara-425639',\n",
       " '/cricketers/blessing-muzarabani-827051',\n",
       " '/cricketers/ryan-burl-495964',\n",
       " '/cricketers/sikandar-raza-299572',\n",
       " '/cricketers/sean-williams-55870',\n",
       " '/cricketers/wessly-madhevere-938959',\n",
       " '/cricketers/regis-chakabva-293831',\n",
       " '/cricketers/tony-munyonga-1122853',\n",
       " '/cricketers/sean-williams-55870',\n",
       " '/cricketers/sikandar-raza-299572',\n",
       " '/cricketers/milton-shumba-951781',\n",
       " '/cricketers/ryan-burl-495964',\n",
       " '/cricketers/luke-jongwe-541224',\n",
       " '/cricketers/richard-ngarava-806241',\n",
       " '/cricketers/tendai-chatara-425639',\n",
       " '/cricketers/blessing-muzarabani-827051',\n",
       " '/cricketers/kyle-mayers-348056',\n",
       " '/cricketers/akeal-hosein-530812',\n",
       " '/cricketers/alzarri-joseph-670031',\n",
       " '/cricketers/obed-mccoy-906783',\n",
       " '/cricketers/jason-holder-391485',\n",
       " '/cricketers/odean-smith-820691',\n",
       " '/cricketers/pathum-nissanka-1028655',\n",
       " '/cricketers/kusal-mendis-629074',\n",
       " '/cricketers/dhananjaya-de-silva-465793',\n",
       " '/cricketers/charith-asalanka-784367',\n",
       " '/cricketers/bhanuka-rajapaksa-342619',\n",
       " '/cricketers/dasun-shanaka-437316',\n",
       " '/cricketers/wanindu-hasaranga-de-silva-784379',\n",
       " '/cricketers/chamika-karunaratne-623695',\n",
       " '/cricketers/maheesh-theekshana-1138316',\n",
       " '/cricketers/lahiru-kumara-784375',\n",
       " '/cricketers/binura-fernando-629080',\n",
       " '/cricketers/fred-klaassen-1104703',\n",
       " '/cricketers/tim-pringle-1193548',\n",
       " '/cricketers/roelof-van-der-merwe-47850',\n",
       " '/cricketers/paul-van-meekeren-348109',\n",
       " '/cricketers/bas-de-leede-1036191',\n",
       " '/cricketers/timm-van-der-gugten-333782',\n",
       " '/cricketers/max-o-dowd-643197',\n",
       " '/cricketers/vikramjit-singh-1153767',\n",
       " '/cricketers/bas-de-leede-1036191',\n",
       " '/cricketers/colin-ackermann-379774',\n",
       " '/cricketers/tom-cooper-219885',\n",
       " '/cricketers/scott-edwards-1127317',\n",
       " '/cricketers/tim-pringle-1193548',\n",
       " '/cricketers/timm-van-der-gugten-333782',\n",
       " '/cricketers/fred-klaassen-1104703',\n",
       " '/cricketers/paul-van-meekeren-348109',\n",
       " '/cricketers/roelof-van-der-merwe-47850',\n",
       " '/cricketers/dhananjaya-de-silva-465793',\n",
       " '/cricketers/lahiru-kumara-784375',\n",
       " '/cricketers/binura-fernando-629080',\n",
       " '/cricketers/maheesh-theekshana-1138316',\n",
       " '/cricketers/wanindu-hasaranga-de-silva-784379',\n",
       " '/cricketers/chamika-karunaratne-623695',\n",
       " '/cricketers/dasun-shanaka-437316',\n",
       " '/cricketers/muhammad-waseem-1241277',\n",
       " '/cricketers/vriitya-aravind-1178586',\n",
       " '/cricketers/chundangapoyil-rizwan-474760',\n",
       " '/cricketers/alishan-sharafu-1161038',\n",
       " '/cricketers/basil-hameed-1209110',\n",
       " '/cricketers/aayan-afzal-khan-1241265',\n",
       " '/cricketers/fahad-nawaz-1126002',\n",
       " '/cricketers/karthik-meiyappan-1058987',\n",
       " '/cricketers/ahmed-raza-245490',\n",
       " '/cricketers/junaid-siddique-1203754',\n",
       " '/cricketers/zahoor-khan-384525',\n",
       " '/cricketers/ruben-trumpelmann-698317',\n",
       " '/cricketers/david-wiese-221140',\n",
       " '/cricketers/bernard-scholtz-330223',\n",
       " '/cricketers/jj-smit-553821',\n",
       " '/cricketers/jan-frylinck-482478',\n",
       " '/cricketers/ben-shikongo-1069820',\n",
       " '/cricketers/michael-van-lingen-833777',\n",
       " '/cricketers/stephan-baard-437927',\n",
       " '/cricketers/jan-nicol-loftie-eaton-1071473',\n",
       " '/cricketers/gerhard-erasmus-519070',\n",
       " '/cricketers/jan-frylinck-482478',\n",
       " '/cricketers/jj-smit-553821',\n",
       " '/cricketers/david-wiese-221140',\n",
       " '/cricketers/zane-green-596664',\n",
       " '/cricketers/ruben-trumpelmann-698317',\n",
       " '/cricketers/bernard-scholtz-330223',\n",
       " '/cricketers/ben-shikongo-1069820',\n",
       " '/cricketers/basil-hameed-1209110',\n",
       " '/cricketers/junaid-siddique-1203754',\n",
       " '/cricketers/zahoor-khan-384525',\n",
       " '/cricketers/ahmed-raza-245490',\n",
       " '/cricketers/karthik-meiyappan-1058987',\n",
       " '/cricketers/aayan-afzal-khan-1241265',\n",
       " '/cricketers/muhammad-waseem-1241277',\n",
       " '/cricketers/kyle-mayers-348056',\n",
       " '/cricketers/johnson-charles-333066',\n",
       " '/cricketers/evin-lewis-431901',\n",
       " '/cricketers/brandon-king-670035',\n",
       " '/cricketers/nicholas-pooran-604302',\n",
       " '/cricketers/rovman-powell-820351',\n",
       " '/cricketers/odean-smith-820691',\n",
       " '/cricketers/jason-holder-391485',\n",
       " '/cricketers/akeal-hosein-530812',\n",
       " '/cricketers/alzarri-joseph-670031',\n",
       " '/cricketers/obed-mccoy-906783',\n",
       " '/cricketers/josh-little-928067',\n",
       " '/cricketers/mark-adair-526441',\n",
       " '/cricketers/barry-mccarthy-348059',\n",
       " '/cricketers/curtis-campher-595921',\n",
       " '/cricketers/simi-singh-1005257',\n",
       " '/cricketers/gareth-delany-1099379',\n",
       " '/cricketers/paul-stirling-303427',\n",
       " '/cricketers/andy-balbirnie-303423',\n",
       " '/cricketers/lorcan-tucker-928057',\n",
       " '/cricketers/harry-tector-961407',\n",
       " '/cricketers/curtis-campher-595921',\n",
       " '/cricketers/george-dockrell-348034',\n",
       " '/cricketers/gareth-delany-1099379',\n",
       " '/cricketers/mark-adair-526441',\n",
       " '/cricketers/simi-singh-1005257',\n",
       " '/cricketers/barry-mccarthy-348059',\n",
       " '/cricketers/josh-little-928067',\n",
       " '/cricketers/obed-mccoy-906783',\n",
       " '/cricketers/akeal-hosein-530812',\n",
       " '/cricketers/alzarri-joseph-670031',\n",
       " '/cricketers/odean-smith-820691',\n",
       " '/cricketers/jason-holder-391485',\n",
       " '/cricketers/george-munsey-671805',\n",
       " '/cricketers/michael-jones-1093091',\n",
       " '/cricketers/matthew-cross-417268',\n",
       " '/cricketers/richie-berrington-25490',\n",
       " '/cricketers/calum-macleod-232435',\n",
       " '/cricketers/michael-leask-414966',\n",
       " '/cricketers/chris-greaves-873199',\n",
       " '/cricketers/josh-davey-407265',\n",
       " '/cricketers/mark-watt-659081',\n",
       " '/cricketers/safyaan-sharif-414970',\n",
       " '/cricketers/brad-wheal-807535',\n",
       " '/cricketers/tendai-chatara-425639',\n",
       " '/cricketers/richard-ngarava-806241',\n",
       " '/cricketers/blessing-muzarabani-827051',\n",
       " '/cricketers/sean-williams-55870',\n",
       " '/cricketers/sikandar-raza-299572',\n",
       " '/cricketers/wessly-madhevere-938959',\n",
       " '/cricketers/regis-chakabva-293831',\n",
       " '/cricketers/craig-ervine-55412',\n",
       " '/cricketers/wessly-madhevere-938959',\n",
       " '/cricketers/sean-williams-55870',\n",
       " '/cricketers/sikandar-raza-299572',\n",
       " '/cricketers/milton-shumba-951781',\n",
       " '/cricketers/ryan-burl-495964',\n",
       " '/cricketers/luke-jongwe-541224',\n",
       " '/cricketers/richard-ngarava-806241',\n",
       " '/cricketers/tendai-chatara-425639',\n",
       " '/cricketers/blessing-muzarabani-827051',\n",
       " '/cricketers/brad-wheal-807535',\n",
       " '/cricketers/josh-davey-407265',\n",
       " '/cricketers/safyaan-sharif-414970',\n",
       " '/cricketers/mark-watt-659081',\n",
       " '/cricketers/michael-leask-414966',\n",
       " '/cricketers/calum-macleod-232435',\n",
       " '/cricketers/finn-allen-959759',\n",
       " '/cricketers/devon-conway-379140',\n",
       " '/cricketers/kane-williamson-277906',\n",
       " '/cricketers/glenn-phillips-823509',\n",
       " '/cricketers/james-neesham-355269',\n",
       " '/cricketers/mark-chapman-438563',\n",
       " '/cricketers/mitchell-santner-502714',\n",
       " '/cricketers/ish-sodhi-559066',\n",
       " '/cricketers/tim-southee-232364',\n",
       " '/cricketers/lockie-ferguson-493773',\n",
       " '/cricketers/trent-boult-277912',\n",
       " '/cricketers/mitchell-starc-311592',\n",
       " '/cricketers/josh-hazlewood-288284',\n",
       " '/cricketers/pat-cummins-489889',\n",
       " '/cricketers/marcus-stoinis-325012',\n",
       " '/cricketers/adam-zampa-379504',\n",
       " '/cricketers/david-warner-219889',\n",
       " '/cricketers/aaron-finch-5334',\n",
       " '/cricketers/mitchell-marsh-272450',\n",
       " '/cricketers/glenn-maxwell-325026',\n",
       " '/cricketers/marcus-stoinis-325012',\n",
       " '/cricketers/tim-david-892749',\n",
       " '/cricketers/matthew-wade-230193',\n",
       " '/cricketers/pat-cummins-489889',\n",
       " '/cricketers/mitchell-starc-311592',\n",
       " '/cricketers/adam-zampa-379504',\n",
       " '/cricketers/josh-hazlewood-288284',\n",
       " '/cricketers/trent-boult-277912',\n",
       " '/cricketers/tim-southee-232364',\n",
       " '/cricketers/mitchell-santner-502714',\n",
       " '/cricketers/lockie-ferguson-493773',\n",
       " '/cricketers/ish-sodhi-559066',\n",
       " '/cricketers/hazratullah-zazai-793457',\n",
       " '/cricketers/rahmanullah-gurbaz-974087',\n",
       " '/cricketers/ibrahim-zadran-921509',\n",
       " '/cricketers/usman-ghani-711559',\n",
       " '/cricketers/najibullah-zadran-524049',\n",
       " '/cricketers/mohammad-nabi-25913',\n",
       " '/cricketers/azmatullah-omarzai-819429',\n",
       " '/cricketers/rashid-khan-793463',\n",
       " '/cricketers/mujeeb-ur-rahman-974109',\n",
       " '/cricketers/fareed-ahmad-568136',\n",
       " '/cricketers/fazalhaq-farooqi-974175',\n",
       " '/cricketers/ben-stokes-311158',\n",
       " '/cricketers/chris-woakes-247235',\n",
       " '/cricketers/mark-wood-351588',\n",
       " '/cricketers/sam-curran-662973',\n",
       " '/cricketers/adil-rashid-244497',\n",
       " '/cricketers/jos-buttler-308967',\n",
       " '/cricketers/alex-hales-249866',\n",
       " '/cricketers/dawid-malan-236489',\n",
       " '/cricketers/ben-stokes-311158',\n",
       " '/cricketers/liam-livingstone-403902',\n",
       " '/cricketers/harry-brook-911707',\n",
       " '/cricketers/moeen-ali-8917',\n",
       " '/cricketers/chris-woakes-247235',\n",
       " '/cricketers/sam-curran-662973',\n",
       " '/cricketers/adil-rashid-244497',\n",
       " '/cricketers/mark-wood-351588',\n",
       " '/cricketers/fazalhaq-farooqi-974175',\n",
       " '/cricketers/azmatullah-omarzai-819429',\n",
       " '/cricketers/mujeeb-ur-rahman-974109',\n",
       " '/cricketers/rashid-khan-793463',\n",
       " '/cricketers/fareed-ahmad-568136',\n",
       " '/cricketers/mohammad-nabi-25913',\n",
       " '/cricketers/paul-stirling-303427',\n",
       " '/cricketers/andy-balbirnie-303423',\n",
       " '/cricketers/lorcan-tucker-928057',\n",
       " '/cricketers/harry-tector-961407',\n",
       " '/cricketers/curtis-campher-595921',\n",
       " '/cricketers/george-dockrell-348034',\n",
       " '/cricketers/gareth-delany-1099379',\n",
       " '/cricketers/mark-adair-526441',\n",
       " '/cricketers/simi-singh-1005257',\n",
       " '/cricketers/barry-mccarthy-348059',\n",
       " '/cricketers/josh-little-928067',\n",
       " '/cricketers/binura-fernando-629080',\n",
       " '/cricketers/lahiru-kumara-784375',\n",
       " '/cricketers/maheesh-theekshana-1138316',\n",
       " '/cricketers/chamika-karunaratne-623695',\n",
       " '/cricketers/wanindu-hasaranga-de-silva-784379',\n",
       " '/cricketers/dhananjaya-de-silva-465793',\n",
       " '/cricketers/kusal-mendis-629074',\n",
       " '/cricketers/dhananjaya-de-silva-465793',\n",
       " '/cricketers/charith-asalanka-784367',\n",
       " '/cricketers/ashen-bandara-958691',\n",
       " '/cricketers/bhanuka-rajapaksa-342619',\n",
       " '/cricketers/dasun-shanaka-437316',\n",
       " '/cricketers/wanindu-hasaranga-de-silva-784379',\n",
       " '/cricketers/chamika-karunaratne-623695',\n",
       " '/cricketers/maheesh-theekshana-1138316',\n",
       " '/cricketers/lahiru-kumara-784375',\n",
       " '/cricketers/binura-fernando-629080',\n",
       " '/cricketers/josh-little-928067',\n",
       " '/cricketers/mark-adair-526441',\n",
       " '/cricketers/barry-mccarthy-348059',\n",
       " '/cricketers/gareth-delany-1099379',\n",
       " '/cricketers/curtis-campher-595921',\n",
       " '/cricketers/simi-singh-1005257',\n",
       " '/cricketers/mohammad-rizwan-323389',\n",
       " '/cricketers/babar-azam-348144',\n",
       " '/cricketers/shan-masood-233901',\n",
       " '/cricketers/iftikhar-ahmed-480603',\n",
       " '/cricketers/shadab-khan-922943',\n",
       " '/cricketers/haider-ali-1168651',\n",
       " '/cricketers/mohammad-nawaz-348148',\n",
       " '/cricketers/asif-ali-494230',\n",
       " '/cricketers/shaheen-shah-afridi-1072470',\n",
       " '/cricketers/haris-rauf-1161606',\n",
       " '/cricketers/naseem-shah-1158088',\n",
       " '/cricketers/bhuvneshwar-kumar-326016',\n",
       " '/cricketers/arshdeep-singh-1125976',\n",
       " '/cricketers/mohammed-shami-481896',\n",
       " '/cricketers/hardik-pandya-625371',\n",
       " '/cricketers/ravichandran-ashwin-26421',\n",
       " '/cricketers/axar-patel-554691',\n",
       " '/cricketers/kl-rahul-422108',\n",
       " '/cricketers/rohit-sharma-34102',\n",
       " '/cricketers/virat-kohli-253802',\n",
       " '/cricketers/suryakumar-yadav-446507',\n",
       " '/cricketers/axar-patel-554691',\n",
       " '/cricketers/hardik-pandya-625371',\n",
       " '/cricketers/dinesh-karthik-30045',\n",
       " '/cricketers/ravichandran-ashwin-26421',\n",
       " '/cricketers/mohammed-shami-481896',\n",
       " '/cricketers/bhuvneshwar-kumar-326016',\n",
       " '/cricketers/arshdeep-singh-1125976',\n",
       " '/cricketers/shaheen-shah-afridi-1072470',\n",
       " '/cricketers/naseem-shah-1158088',\n",
       " '/cricketers/haris-rauf-1161606',\n",
       " '/cricketers/shadab-khan-922943',\n",
       " '/cricketers/mohammad-nawaz-348148',\n",
       " '/cricketers/najmul-hossain-shanto-629058',\n",
       " '/cricketers/soumya-sarkar-436677',\n",
       " '/cricketers/litton-das-536936',\n",
       " '/cricketers/shakib-al-hasan-56143',\n",
       " '/cricketers/afif-hossain-935995',\n",
       " '/cricketers/yasir-ali-629059',\n",
       " '/cricketers/nurul-hasan-410765',\n",
       " '/cricketers/mosaddek-hossain-550133',\n",
       " '/cricketers/taskin-ahmed-538506',\n",
       " '/cricketers/hasan-mahmud-926629',\n",
       " '/cricketers/mustafizur-rahman-330902',\n",
       " '/cricketers/fred-klaassen-1104703',\n",
       " '/cricketers/colin-ackermann-379774',\n",
       " '/cricketers/paul-van-meekeren-348109',\n",
       " '/cricketers/bas-de-leede-1036191',\n",
       " '/cricketers/tim-pringle-1193548',\n",
       " '/cricketers/shariz-ahmad-1278252',\n",
       " '/cricketers/logan-van-beek-440522',\n",
       " '/cricketers/vikramjit-singh-1153767',\n",
       " '/cricketers/max-o-dowd-643197',\n",
       " '/cricketers/bas-de-leede-1036191',\n",
       " '/cricketers/colin-ackermann-379774',\n",
       " '/cricketers/tom-cooper-219885',\n",
       " '/cricketers/scott-edwards-1127317',\n",
       " '/cricketers/tim-pringle-1193548',\n",
       " '/cricketers/logan-van-beek-440522',\n",
       " '/cricketers/shariz-ahmad-1278252',\n",
       " '/cricketers/fred-klaassen-1104703',\n",
       " '/cricketers/paul-van-meekeren-348109',\n",
       " '/cricketers/taskin-ahmed-538506',\n",
       " '/cricketers/hasan-mahmud-926629',\n",
       " '/cricketers/shakib-al-hasan-56143',\n",
       " '/cricketers/mustafizur-rahman-330902',\n",
       " '/cricketers/soumya-sarkar-436677',\n",
       " '/cricketers/mosaddek-hossain-550133',\n",
       " '/cricketers/regis-chakabva-293831',\n",
       " '/cricketers/craig-ervine-55412',\n",
       " '/cricketers/sean-williams-55870',\n",
       " '/cricketers/sikandar-raza-299572',\n",
       " '/cricketers/wessly-madhevere-938959',\n",
       " '/cricketers/milton-shumba-951781',\n",
       " '/cricketers/ryan-burl-495964',\n",
       " '/cricketers/luke-jongwe-541224',\n",
       " '/cricketers/richard-ngarava-806241',\n",
       " '/cricketers/tendai-chatara-425639',\n",
       " '/cricketers/blessing-muzarabani-827051',\n",
       " '/cricketers/kagiso-rabada-550215',\n",
       " '/cricketers/wayne-parnell-265564',\n",
       " '/cricketers/lungi-ngidi-542023',\n",
       " '/cricketers/keshav-maharaj-267724',\n",
       " '/cricketers/anrich-nortje-481979',\n",
       " '/cricketers/quinton-de-kock-379143',\n",
       " '/cricketers/temba-bavuma-372116',\n",
       " '/cricketers/rilee-rossouw-318845',\n",
       " '/cricketers/aiden-markram-600498',\n",
       " '/cricketers/david-miller-321777',\n",
       " '/cricketers/tristan-stubbs-595978',\n",
       " '/cricketers/wayne-parnell-265564',\n",
       " '/cricketers/keshav-maharaj-267724',\n",
       " '/cricketers/kagiso-rabada-550215',\n",
       " '/cricketers/anrich-nortje-481979',\n",
       " '/cricketers/lungi-ngidi-542023',\n",
       " '/cricketers/tendai-chatara-425639',\n",
       " '/cricketers/richard-ngarava-806241',\n",
       " '/cricketers/sikandar-raza-299572',\n",
       " '/cricketers/pathum-nissanka-1028655',\n",
       " '/cricketers/kusal-mendis-629074',\n",
       " '/cricketers/dhananjaya-de-silva-465793',\n",
       " '/cricketers/charith-asalanka-784367',\n",
       " '/cricketers/bhanuka-rajapaksa-342619',\n",
       " '/cricketers/dasun-shanaka-437316',\n",
       " '/cricketers/wanindu-hasaranga-de-silva-784379',\n",
       " '/cricketers/chamika-karunaratne-623695',\n",
       " '/cricketers/maheesh-theekshana-1138316',\n",
       " '/cricketers/lahiru-kumara-784375',\n",
       " '/cricketers/binura-fernando-629080',\n",
       " '/cricketers/josh-hazlewood-288284',\n",
       " '/cricketers/pat-cummins-489889',\n",
       " '/cricketers/mitchell-starc-311592',\n",
       " '/cricketers/ashton-agar-505120',\n",
       " '/cricketers/marcus-stoinis-325012',\n",
       " '/cricketers/mitchell-marsh-272450',\n",
       " '/cricketers/glenn-maxwell-325026',\n",
       " '/cricketers/david-warner-219889',\n",
       " '/cricketers/aaron-finch-5334',\n",
       " '/cricketers/mitchell-marsh-272450',\n",
       " '/cricketers/glenn-maxwell-325026',\n",
       " '/cricketers/marcus-stoinis-325012',\n",
       " '/cricketers/tim-david-892749',\n",
       " '/cricketers/matthew-wade-230193',\n",
       " '/cricketers/ashton-agar-505120',\n",
       " '/cricketers/mitchell-starc-311592',\n",
       " '/cricketers/pat-cummins-489889',\n",
       " '/cricketers/josh-hazlewood-288284',\n",
       " '/cricketers/binura-fernando-629080',\n",
       " '/cricketers/dhananjaya-de-silva-465793',\n",
       " '/cricketers/lahiru-kumara-784375',\n",
       " '/cricketers/chamika-karunaratne-623695',\n",
       " '/cricketers/maheesh-theekshana-1138316',\n",
       " '/cricketers/wanindu-hasaranga-de-silva-784379',\n",
       " '/cricketers/dasun-shanaka-437316',\n",
       " '/cricketers/paul-stirling-303427',\n",
       " '/cricketers/andy-balbirnie-303423',\n",
       " '/cricketers/lorcan-tucker-928057',\n",
       " '/cricketers/harry-tector-961407',\n",
       " '/cricketers/curtis-campher-595921',\n",
       " '/cricketers/george-dockrell-348034',\n",
       " '/cricketers/gareth-delany-1099379',\n",
       " '/cricketers/mark-adair-526441',\n",
       " '/cricketers/barry-mccarthy-348059',\n",
       " '/cricketers/fionn-hand-1099225',\n",
       " '/cricketers/josh-little-928067',\n",
       " '/cricketers/ben-stokes-311158',\n",
       " '/cricketers/chris-woakes-247235',\n",
       " '/cricketers/mark-wood-351588',\n",
       " '/cricketers/sam-curran-662973',\n",
       " '/cricketers/adil-rashid-244497',\n",
       " '/cricketers/liam-livingstone-403902',\n",
       " '/cricketers/jos-buttler-308967',\n",
       " '/cricketers/alex-hales-249866',\n",
       " '/cricketers/dawid-malan-236489',\n",
       " '/cricketers/ben-stokes-311158',\n",
       " '/cricketers/harry-brook-911707',\n",
       " '/cricketers/moeen-ali-8917',\n",
       " '/cricketers/liam-livingstone-403902',\n",
       " '/cricketers/sam-curran-662973',\n",
       " '/cricketers/chris-woakes-247235',\n",
       " '/cricketers/mark-wood-351588',\n",
       " '/cricketers/adil-rashid-244497',\n",
       " '/cricketers/josh-little-928067',\n",
       " '/cricketers/mark-adair-526441',\n",
       " '/cricketers/barry-mccarthy-348059',\n",
       " '/cricketers/fionn-hand-1099225',\n",
       " '/cricketers/gareth-delany-1099379',\n",
       " '/cricketers/george-dockrell-348034',\n",
       " '/cricketers/mohammad-nabi-25913',\n",
       " '/cricketers/najibullah-zadran-524049',\n",
       " '/cricketers/fareed-ahmad-568136',\n",
       " '/cricketers/usman-ghani-711559',\n",
       " '/cricketers/naveen-ul-haq-793447',\n",
       " '/cricketers/hazratullah-zazai-793457',\n",
       " '/cricketers/rashid-khan-793463',\n",
       " '/cricketers/azmatullah-omarzai-819429',\n",
       " '/cricketers/darwish-rasooli-819441',\n",
       " '/cricketers/qais-ahmad-914171',\n",
       " '/cricketers/ibrahim-zadran-921509',\n",
       " '/cricketers/rahmanullah-gurbaz-974087',\n",
       " '/cricketers/mujeeb-ur-rahman-974109',\n",
       " '/cricketers/fazalhaq-farooqi-974175',\n",
       " '/cricketers/mohammad-saleem-1174749',\n",
       " '/cricketers/martin-guptill-226492',\n",
       " '/cricketers/tim-southee-232364',\n",
       " '/cricketers/kane-williamson-277906',\n",
       " '/cricketers/trent-boult-277912',\n",
       " '/cricketers/michael-bracewell-326968',\n",
       " '/cricketers/james-neesham-355269',\n",
       " '/cricketers/devon-conway-379140',\n",
       " '/cricketers/daryl-mitchell-381743',\n",
       " '/cricketers/mark-chapman-438563',\n",
       " '/cricketers/adam-milne-450860',\n",
       " '/cricketers/lockie-ferguson-493773',\n",
       " '/cricketers/mitchell-santner-502714',\n",
       " '/cricketers/ish-sodhi-559066',\n",
       " '/cricketers/glenn-phillips-823509',\n",
       " '/cricketers/finn-allen-959759',\n",
       " '/cricketers/kumar-dharmasena-48469',\n",
       " '/cricketers/paul-wilson-8241',\n",
       " '/cricketers/adrian-holdstock-45448',\n",
       " '/cricketers/paul-reiffel-7326',\n",
       " '/cricketers/ranjan-madugalle-49623',\n",
       " '/cricketers/temba-bavuma-372116',\n",
       " '/cricketers/quinton-de-kock-379143',\n",
       " '/cricketers/rilee-rossouw-318845',\n",
       " '/cricketers/tristan-stubbs-595978',\n",
       " '/cricketers/aiden-markram-600498',\n",
       " '/cricketers/david-miller-321777',\n",
       " '/cricketers/wayne-parnell-265564',\n",
       " '/cricketers/keshav-maharaj-267724',\n",
       " '/cricketers/kagiso-rabada-550215',\n",
       " '/cricketers/anrich-nortje-481979',\n",
       " '/cricketers/tabraiz-shamsi-379145',\n",
       " '/cricketers/taskin-ahmed-538506',\n",
       " '/cricketers/mehidy-hasan-miraz-629063',\n",
       " '/cricketers/hasan-mahmud-926629',\n",
       " '/cricketers/mustafizur-rahman-330902',\n",
       " '/cricketers/mosaddek-hossain-550133',\n",
       " '/cricketers/shakib-al-hasan-56143',\n",
       " '/cricketers/afif-hossain-935995',\n",
       " '/cricketers/najmul-hossain-shanto-629058',\n",
       " '/cricketers/soumya-sarkar-436677',\n",
       " '/cricketers/litton-das-536936',\n",
       " '/cricketers/shakib-al-hasan-56143',\n",
       " '/cricketers/afif-hossain-935995',\n",
       " '/cricketers/mehidy-hasan-miraz-629063',\n",
       " '/cricketers/mosaddek-hossain-550133',\n",
       " '/cricketers/nurul-hasan-410765',\n",
       " '/cricketers/taskin-ahmed-538506',\n",
       " '/cricketers/hasan-mahmud-926629',\n",
       " '/cricketers/mustafizur-rahman-330902',\n",
       " '/cricketers/kagiso-rabada-550215',\n",
       " '/cricketers/wayne-parnell-265564',\n",
       " '/cricketers/anrich-nortje-481979',\n",
       " '/cricketers/keshav-maharaj-267724',\n",
       " '/cricketers/tabraiz-shamsi-379145',\n",
       " '/cricketers/kl-rahul-422108',\n",
       " '/cricketers/rohit-sharma-34102',\n",
       " '/cricketers/virat-kohli-253802',\n",
       " '/cricketers/suryakumar-yadav-446507',\n",
       " '/cricketers/axar-patel-554691',\n",
       " '/cricketers/hardik-pandya-625371',\n",
       " '/cricketers/dinesh-karthik-30045',\n",
       " '/cricketers/ravichandran-ashwin-26421',\n",
       " '/cricketers/mohammed-shami-481896',\n",
       " '/cricketers/bhuvneshwar-kumar-326016',\n",
       " '/cricketers/arshdeep-singh-1125976',\n",
       " '/cricketers/fred-klaassen-1104703',\n",
       " '/cricketers/tim-pringle-1193548',\n",
       " '/cricketers/paul-van-meekeren-348109',\n",
       " '/cricketers/bas-de-leede-1036191',\n",
       " '/cricketers/logan-van-beek-440522',\n",
       " '/cricketers/shariz-ahmad-1278252',\n",
       " '/cricketers/vikramjit-singh-1153767',\n",
       " '/cricketers/max-o-dowd-643197',\n",
       " '/cricketers/bas-de-leede-1036191',\n",
       " '/cricketers/colin-ackermann-379774',\n",
       " '/cricketers/tom-cooper-219885',\n",
       " '/cricketers/scott-edwards-1127317',\n",
       " '/cricketers/tim-pringle-1193548',\n",
       " '/cricketers/logan-van-beek-440522',\n",
       " '/cricketers/shariz-ahmad-1278252',\n",
       " '/cricketers/fred-klaassen-1104703',\n",
       " '/cricketers/paul-van-meekeren-348109',\n",
       " '/cricketers/bhuvneshwar-kumar-326016',\n",
       " '/cricketers/arshdeep-singh-1125976',\n",
       " '/cricketers/mohammed-shami-481896',\n",
       " '/cricketers/axar-patel-554691',\n",
       " '/cricketers/hardik-pandya-625371',\n",
       " '/cricketers/ravichandran-ashwin-26421',\n",
       " '/cricketers/wessly-madhevere-938959',\n",
       " '/cricketers/craig-ervine-55412',\n",
       " '/cricketers/milton-shumba-951781',\n",
       " '/cricketers/sean-williams-55870',\n",
       " '/cricketers/sikandar-raza-299572',\n",
       " '/cricketers/regis-chakabva-293831',\n",
       " '/cricketers/ryan-burl-495964',\n",
       " '/cricketers/luke-jongwe-541224',\n",
       " '/cricketers/brad-evans-696127',\n",
       " '/cricketers/richard-ngarava-806241',\n",
       " '/cricketers/blessing-muzarabani-827051',\n",
       " '/cricketers/shaheen-shah-afridi-1072470',\n",
       " '/cricketers/naseem-shah-1158088',\n",
       " '/cricketers/mohammad-wasim-1185538',\n",
       " '/cricketers/haris-rauf-1161606',\n",
       " '/cricketers/shadab-khan-922943',\n",
       " '/cricketers/mohammad-rizwan-323389',\n",
       " '/cricketers/babar-azam-348144',\n",
       " '/cricketers/shan-masood-233901',\n",
       " '/cricketers/iftikhar-ahmed-480603',\n",
       " '/cricketers/shadab-khan-922943',\n",
       " '/cricketers/haider-ali-1168651',\n",
       " '/cricketers/mohammad-nawaz-348148',\n",
       " '/cricketers/mohammad-wasim-1185538',\n",
       " '/cricketers/shaheen-shah-afridi-1072470',\n",
       " '/cricketers/haris-rauf-1161606',\n",
       " '/cricketers/naseem-shah-1158088',\n",
       " '/cricketers/richard-ngarava-806241',\n",
       " '/cricketers/blessing-muzarabani-827051',\n",
       " '/cricketers/brad-evans-696127',\n",
       " '/cricketers/sikandar-raza-299572',\n",
       " '/cricketers/luke-jongwe-541224',\n",
       " '/cricketers/sean-williams-55870',\n",
       " '/cricketers/ryan-burl-495964',\n",
       " '/cricketers/mohammad-nabi-25913',\n",
       " '/cricketers/najibullah-zadran-524049',\n",
       " '/cricketers/fareed-ahmad-568136',\n",
       " '/cricketers/usman-ghani-711559',\n",
       " '/cricketers/naveen-ul-haq-793447',\n",
       " '/cricketers/hazratullah-zazai-793457',\n",
       " '/cricketers/rashid-khan-793463',\n",
       " '/cricketers/azmatullah-omarzai-819429',\n",
       " '/cricketers/darwish-rasooli-819441',\n",
       " '/cricketers/qais-ahmad-914171',\n",
       " '/cricketers/ibrahim-zadran-921509',\n",
       " '/cricketers/rahmanullah-gurbaz-974087',\n",
       " '/cricketers/mujeeb-ur-rahman-974109',\n",
       " '/cricketers/fazalhaq-farooqi-974175',\n",
       " '/cricketers/mohammad-saleem-1174749',\n",
       " '/cricketers/andy-balbirnie-303423',\n",
       " '/cricketers/paul-stirling-303427',\n",
       " '/cricketers/george-dockrell-348034',\n",
       " '/cricketers/barry-mccarthy-348059',\n",
       " '/cricketers/graham-hume-379144',\n",
       " '/cricketers/mark-adair-526441',\n",
       " '/cricketers/curtis-campher-595921',\n",
       " '/cricketers/lorcan-tucker-928057',\n",
       " '/cricketers/josh-little-928067',\n",
       " '/cricketers/harry-tector-961407',\n",
       " '/cricketers/simi-singh-1005257',\n",
       " '/cricketers/fionn-hand-1099225',\n",
       " '/cricketers/gareth-delany-1099379',\n",
       " '/cricketers/conor-olphert-1229953',\n",
       " '/cricketers/adrian-holdstock-45448',\n",
       " '/cricketers/aleem-dar-39157',\n",
       " '/cricketers/chris-brown-36352',\n",
       " '/cricketers/paul-reiffel-7326',\n",
       " '/cricketers/ranjan-madugalle-49623',\n",
       " '/cricketers/aaron-finch-5334',\n",
       " '/cricketers/david-warner-219889',\n",
       " '/cricketers/matthew-wade-230193',\n",
       " '/cricketers/steven-smith-267192',\n",
       " '/cricketers/kane-richardson-272262',\n",
       " '/cricketers/mitchell-marsh-272450',\n",
       " '/cricketers/josh-hazlewood-288284',\n",
       " '/cricketers/mitchell-starc-311592',\n",
       " '/cricketers/marcus-stoinis-325012',\n",
       " '/cricketers/glenn-maxwell-325026',\n",
       " '/cricketers/adam-zampa-379504',\n",
       " '/cricketers/pat-cummins-489889',\n",
       " '/cricketers/ashton-agar-505120',\n",
       " '/cricketers/tim-david-892749',\n",
       " '/cricketers/cameron-green-1076713',\n",
       " '/cricketers/moeen-ali-8917',\n",
       " '/cricketers/dawid-malan-236489',\n",
       " '/cricketers/adil-rashid-244497',\n",
       " '/cricketers/chris-woakes-247235',\n",
       " '/cricketers/alex-hales-249866',\n",
       " '/cricketers/chris-jordan-288992',\n",
       " '/cricketers/david-willey-308251',\n",
       " '/cricketers/jos-buttler-308967',\n",
       " '/cricketers/ben-stokes-311158',\n",
       " '/cricketers/mark-wood-351588',\n",
       " '/cricketers/liam-livingstone-403902',\n",
       " '/cricketers/tymal-mills-459257',\n",
       " '/cricketers/sam-curran-662973',\n",
       " '/cricketers/phil-salt-669365',\n",
       " '/cricketers/harry-brook-911707',\n",
       " '/cricketers/chris-brown-36352',\n",
       " '/cricketers/joel-wilson-387601',\n",
       " '/cricketers/adrian-holdstock-45448',\n",
       " '/cricketers/aleem-dar-39157',\n",
       " '/cricketers/ranjan-madugalle-49623',\n",
       " '/cricketers/finn-allen-959759',\n",
       " '/cricketers/devon-conway-379140',\n",
       " '/cricketers/kane-williamson-277906',\n",
       " '/cricketers/glenn-phillips-823509',\n",
       " '/cricketers/daryl-mitchell-381743',\n",
       " '/cricketers/james-neesham-355269',\n",
       " '/cricketers/mitchell-santner-502714',\n",
       " '/cricketers/ish-sodhi-559066',\n",
       " '/cricketers/tim-southee-232364',\n",
       " '/cricketers/lockie-ferguson-493773',\n",
       " '/cricketers/trent-boult-277912',\n",
       " '/cricketers/maheesh-theekshana-1138316',\n",
       " '/cricketers/kasun-rajitha-499594',\n",
       " '/cricketers/dhananjaya-de-silva-465793',\n",
       " '/cricketers/wanindu-hasaranga-de-silva-784379',\n",
       " '/cricketers/lahiru-kumara-784375',\n",
       " '/cricketers/chamika-karunaratne-623695',\n",
       " '/cricketers/pathum-nissanka-1028655',\n",
       " '/cricketers/kusal-mendis-629074',\n",
       " '/cricketers/dhananjaya-de-silva-465793',\n",
       " '/cricketers/charith-asalanka-784367',\n",
       " '/cricketers/bhanuka-rajapaksa-342619',\n",
       " '/cricketers/chamika-karunaratne-623695',\n",
       " '/cricketers/dasun-shanaka-437316',\n",
       " '/cricketers/wanindu-hasaranga-de-silva-784379',\n",
       " '/cricketers/maheesh-theekshana-1138316',\n",
       " '/cricketers/kasun-rajitha-499594',\n",
       " '/cricketers/lahiru-kumara-784375',\n",
       " '/cricketers/tim-southee-232364',\n",
       " '/cricketers/trent-boult-277912',\n",
       " '/cricketers/lockie-ferguson-493773',\n",
       " '/cricketers/mitchell-santner-502714',\n",
       " '/cricketers/ish-sodhi-559066',\n",
       " '/cricketers/najmul-hossain-shanto-629058',\n",
       " '/cricketers/soumya-sarkar-436677',\n",
       " '/cricketers/litton-das-536936',\n",
       " '/cricketers/shakib-al-hasan-56143',\n",
       " '/cricketers/afif-hossain-935995',\n",
       " '/cricketers/mosaddek-hossain-550133',\n",
       " '/cricketers/nurul-hasan-410765',\n",
       " '/cricketers/yasir-ali-629059',\n",
       " '/cricketers/taskin-ahmed-538506',\n",
       " '/cricketers/hasan-mahmud-926629',\n",
       " '/cricketers/mustafizur-rahman-330902',\n",
       " '/cricketers/richard-ngarava-806241',\n",
       " '/cricketers/blessing-muzarabani-827051',\n",
       " '/cricketers/tendai-chatara-425639',\n",
       " '/cricketers/sikandar-raza-299572',\n",
       " '/cricketers/brad-evans-696127',\n",
       " '/cricketers/wessly-madhevere-938959',\n",
       " '/cricketers/sean-williams-55870',\n",
       " '/cricketers/wessly-madhevere-938959',\n",
       " '/cricketers/craig-ervine-55412',\n",
       " '/cricketers/milton-shumba-951781',\n",
       " '/cricketers/sean-williams-55870',\n",
       " '/cricketers/sikandar-raza-299572',\n",
       " '/cricketers/regis-chakabva-293831',\n",
       " '/cricketers/ryan-burl-495964',\n",
       " '/cricketers/brad-evans-696127',\n",
       " '/cricketers/richard-ngarava-806241',\n",
       " '/cricketers/blessing-muzarabani-827051',\n",
       " '/cricketers/tendai-chatara-425639',\n",
       " '/cricketers/taskin-ahmed-538506',\n",
       " '/cricketers/hasan-mahmud-926629',\n",
       " '/cricketers/mosaddek-hossain-550133',\n",
       " '/cricketers/mustafizur-rahman-330902',\n",
       " '/cricketers/shakib-al-hasan-56143',\n",
       " '/cricketers/stephan-myburgh-233712',\n",
       " '/cricketers/max-o-dowd-643197',\n",
       " '/cricketers/bas-de-leede-1036191',\n",
       " '/cricketers/tom-cooper-219885',\n",
       " '/cricketers/colin-ackermann-379774',\n",
       " '/cricketers/scott-edwards-1127317',\n",
       " '/cricketers/roelof-van-der-merwe-47850',\n",
       " '/cricketers/tim-pringle-1193548',\n",
       " '/cricketers/logan-van-beek-440522',\n",
       " '/cricketers/fred-klaassen-1104703',\n",
       " '/cricketers/paul-van-meekeren-348109',\n",
       " '/cricketers/brandon-glover-595419',\n",
       " '/cricketers/shaheen-shah-afridi-1072470',\n",
       " '/cricketers/naseem-shah-1158088',\n",
       " '/cricketers/mohammad-wasim-1185538',\n",
       " '/cricketers/haris-rauf-1161606',\n",
       " '/cricketers/shadab-khan-922943',\n",
       " '/cricketers/mohammad-nawaz-348148',\n",
       " '/cricketers/mohammad-rizwan-323389',\n",
       " '/cricketers/babar-azam-348144',\n",
       " '/cricketers/fakhar-zaman-512191',\n",
       " '/cricketers/shan-masood-233901',\n",
       " '/cricketers/iftikhar-ahmed-480603',\n",
       " '/cricketers/shadab-khan-922943',\n",
       " '/cricketers/mohammad-nawaz-348148',\n",
       " '/cricketers/mohammad-wasim-1185538',\n",
       " '/cricketers/shaheen-shah-afridi-1072470',\n",
       " '/cricketers/haris-rauf-1161606',\n",
       " '/cricketers/naseem-shah-1158088',\n",
       " '/cricketers/fred-klaassen-1104703',\n",
       " '/cricketers/paul-van-meekeren-348109',\n",
       " '/cricketers/brandon-glover-595419',\n",
       " '/cricketers/tim-pringle-1193548',\n",
       " '/cricketers/logan-van-beek-440522',\n",
       " '/cricketers/roelof-van-der-merwe-47850',\n",
       " '/cricketers/kl-rahul-422108',\n",
       " '/cricketers/rohit-sharma-34102',\n",
       " '/cricketers/virat-kohli-253802',\n",
       " '/cricketers/suryakumar-yadav-446507',\n",
       " '/cricketers/deepak-hooda-497121',\n",
       " '/cricketers/hardik-pandya-625371',\n",
       " '/cricketers/dinesh-karthik-30045',\n",
       " '/cricketers/ravichandran-ashwin-26421',\n",
       " '/cricketers/bhuvneshwar-kumar-326016',\n",
       " '/cricketers/mohammed-shami-481896',\n",
       " '/cricketers/arshdeep-singh-1125976',\n",
       " '/cricketers/wayne-parnell-265564',\n",
       " '/cricketers/kagiso-rabada-550215',\n",
       " ...]"
      ]
     },
     "execution_count": 276,
     "metadata": {},
     "output_type": "execute_result"
    }
   ],
   "source": [
    "list_2=[]\n",
    "for j in final_links:\n",
    "    player_data  = requests.get(j).text \n",
    "    player_soup = BeautifulSoup(player_data,\"html.parser\")\n",
    "    match_tables=player_soup.find_all('table')\n",
    "    for i in range(4):\n",
    "        for link in match_tables[i].find_all('a',href=True):  # in html anchor/link is represented by the tag <a>\n",
    "\n",
    "            list_2.append(link.get('href'))\n",
    "    \n",
    "res=[i for i in list_2 if \"cricketers\" in i]\n",
    "res"
   ]
  },
  {
   "cell_type": "markdown",
   "id": "5c021e17",
   "metadata": {},
   "source": [
    "Extracting Unique links"
   ]
  },
  {
   "cell_type": "code",
   "execution_count": 280,
   "id": "113c78b9",
   "metadata": {},
   "outputs": [],
   "source": [
    "player_links=set(res)"
   ]
  },
  {
   "cell_type": "code",
   "execution_count": 283,
   "id": "33f3b61e",
   "metadata": {},
   "outputs": [],
   "source": [
    "final_player_links=['https://stats.espncricinfo.com'+s for s in player_links]"
   ]
  },
  {
   "cell_type": "code",
   "execution_count": 317,
   "id": "a9294745",
   "metadata": {},
   "outputs": [
    {
     "data": {
      "text/plain": [
       "'https://stats.espncricinfo.com/cricketers/glenn-maxwell-325026'"
      ]
     },
     "execution_count": 317,
     "metadata": {},
     "output_type": "execute_result"
    }
   ],
   "source": [
    "player_data  = requests.get(final_player_links[20]).text \n",
    "player_soup = BeautifulSoup(player_data,\"html.parser\")\n",
    "final_player_links[20]"
   ]
  },
  {
   "cell_type": "markdown",
   "id": "6b7d1c02",
   "metadata": {},
   "source": [
    "**4.2 Code for scraping player information**"
   ]
  },
  {
   "cell_type": "code",
   "execution_count": 482,
   "id": "361af684",
   "metadata": {},
   "outputs": [
    {
     "name": "stderr",
     "output_type": "stream",
     "text": [
      "C:\\Users\\SKS\\AppData\\Local\\Temp\\ipykernel_964\\433721850.py:47: FutureWarning: The frame.append method is deprecated and will be removed from pandas in a future version. Use pandas.concat instead.\n",
      "  df_player_info=df_player_info.append({'name':Name,'team':Team,'battingStyle':BattingStyle,'bowlingStyle':BowlingStyle,'playingRole':PlayingRole,'description':Description}, ignore_index=True)\n"
     ]
    },
    {
     "name": "stdout",
     "output_type": "stream",
     "text": [
      "0\n"
     ]
    },
    {
     "name": "stderr",
     "output_type": "stream",
     "text": [
      "C:\\Users\\SKS\\AppData\\Local\\Temp\\ipykernel_964\\433721850.py:47: FutureWarning: The frame.append method is deprecated and will be removed from pandas in a future version. Use pandas.concat instead.\n",
      "  df_player_info=df_player_info.append({'name':Name,'team':Team,'battingStyle':BattingStyle,'bowlingStyle':BowlingStyle,'playingRole':PlayingRole,'description':Description}, ignore_index=True)\n"
     ]
    },
    {
     "name": "stdout",
     "output_type": "stream",
     "text": [
      "1\n"
     ]
    },
    {
     "name": "stderr",
     "output_type": "stream",
     "text": [
      "C:\\Users\\SKS\\AppData\\Local\\Temp\\ipykernel_964\\433721850.py:47: FutureWarning: The frame.append method is deprecated and will be removed from pandas in a future version. Use pandas.concat instead.\n",
      "  df_player_info=df_player_info.append({'name':Name,'team':Team,'battingStyle':BattingStyle,'bowlingStyle':BowlingStyle,'playingRole':PlayingRole,'description':Description}, ignore_index=True)\n"
     ]
    },
    {
     "name": "stdout",
     "output_type": "stream",
     "text": [
      "2\n"
     ]
    },
    {
     "name": "stderr",
     "output_type": "stream",
     "text": [
      "C:\\Users\\SKS\\AppData\\Local\\Temp\\ipykernel_964\\433721850.py:47: FutureWarning: The frame.append method is deprecated and will be removed from pandas in a future version. Use pandas.concat instead.\n",
      "  df_player_info=df_player_info.append({'name':Name,'team':Team,'battingStyle':BattingStyle,'bowlingStyle':BowlingStyle,'playingRole':PlayingRole,'description':Description}, ignore_index=True)\n"
     ]
    },
    {
     "name": "stdout",
     "output_type": "stream",
     "text": [
      "3\n"
     ]
    },
    {
     "name": "stderr",
     "output_type": "stream",
     "text": [
      "C:\\Users\\SKS\\AppData\\Local\\Temp\\ipykernel_964\\433721850.py:47: FutureWarning: The frame.append method is deprecated and will be removed from pandas in a future version. Use pandas.concat instead.\n",
      "  df_player_info=df_player_info.append({'name':Name,'team':Team,'battingStyle':BattingStyle,'bowlingStyle':BowlingStyle,'playingRole':PlayingRole,'description':Description}, ignore_index=True)\n"
     ]
    },
    {
     "name": "stdout",
     "output_type": "stream",
     "text": [
      "4\n"
     ]
    },
    {
     "name": "stderr",
     "output_type": "stream",
     "text": [
      "C:\\Users\\SKS\\AppData\\Local\\Temp\\ipykernel_964\\433721850.py:47: FutureWarning: The frame.append method is deprecated and will be removed from pandas in a future version. Use pandas.concat instead.\n",
      "  df_player_info=df_player_info.append({'name':Name,'team':Team,'battingStyle':BattingStyle,'bowlingStyle':BowlingStyle,'playingRole':PlayingRole,'description':Description}, ignore_index=True)\n"
     ]
    },
    {
     "name": "stdout",
     "output_type": "stream",
     "text": [
      "5\n"
     ]
    },
    {
     "name": "stderr",
     "output_type": "stream",
     "text": [
      "C:\\Users\\SKS\\AppData\\Local\\Temp\\ipykernel_964\\433721850.py:47: FutureWarning: The frame.append method is deprecated and will be removed from pandas in a future version. Use pandas.concat instead.\n",
      "  df_player_info=df_player_info.append({'name':Name,'team':Team,'battingStyle':BattingStyle,'bowlingStyle':BowlingStyle,'playingRole':PlayingRole,'description':Description}, ignore_index=True)\n"
     ]
    },
    {
     "name": "stdout",
     "output_type": "stream",
     "text": [
      "6\n"
     ]
    },
    {
     "name": "stderr",
     "output_type": "stream",
     "text": [
      "C:\\Users\\SKS\\AppData\\Local\\Temp\\ipykernel_964\\433721850.py:47: FutureWarning: The frame.append method is deprecated and will be removed from pandas in a future version. Use pandas.concat instead.\n",
      "  df_player_info=df_player_info.append({'name':Name,'team':Team,'battingStyle':BattingStyle,'bowlingStyle':BowlingStyle,'playingRole':PlayingRole,'description':Description}, ignore_index=True)\n"
     ]
    },
    {
     "name": "stdout",
     "output_type": "stream",
     "text": [
      "7\n"
     ]
    },
    {
     "name": "stderr",
     "output_type": "stream",
     "text": [
      "C:\\Users\\SKS\\AppData\\Local\\Temp\\ipykernel_964\\433721850.py:47: FutureWarning: The frame.append method is deprecated and will be removed from pandas in a future version. Use pandas.concat instead.\n",
      "  df_player_info=df_player_info.append({'name':Name,'team':Team,'battingStyle':BattingStyle,'bowlingStyle':BowlingStyle,'playingRole':PlayingRole,'description':Description}, ignore_index=True)\n"
     ]
    },
    {
     "name": "stdout",
     "output_type": "stream",
     "text": [
      "8\n"
     ]
    },
    {
     "name": "stderr",
     "output_type": "stream",
     "text": [
      "C:\\Users\\SKS\\AppData\\Local\\Temp\\ipykernel_964\\433721850.py:47: FutureWarning: The frame.append method is deprecated and will be removed from pandas in a future version. Use pandas.concat instead.\n",
      "  df_player_info=df_player_info.append({'name':Name,'team':Team,'battingStyle':BattingStyle,'bowlingStyle':BowlingStyle,'playingRole':PlayingRole,'description':Description}, ignore_index=True)\n"
     ]
    },
    {
     "name": "stdout",
     "output_type": "stream",
     "text": [
      "9\n"
     ]
    },
    {
     "name": "stderr",
     "output_type": "stream",
     "text": [
      "C:\\Users\\SKS\\AppData\\Local\\Temp\\ipykernel_964\\433721850.py:47: FutureWarning: The frame.append method is deprecated and will be removed from pandas in a future version. Use pandas.concat instead.\n",
      "  df_player_info=df_player_info.append({'name':Name,'team':Team,'battingStyle':BattingStyle,'bowlingStyle':BowlingStyle,'playingRole':PlayingRole,'description':Description}, ignore_index=True)\n"
     ]
    },
    {
     "name": "stdout",
     "output_type": "stream",
     "text": [
      "10\n"
     ]
    },
    {
     "name": "stderr",
     "output_type": "stream",
     "text": [
      "C:\\Users\\SKS\\AppData\\Local\\Temp\\ipykernel_964\\433721850.py:47: FutureWarning: The frame.append method is deprecated and will be removed from pandas in a future version. Use pandas.concat instead.\n",
      "  df_player_info=df_player_info.append({'name':Name,'team':Team,'battingStyle':BattingStyle,'bowlingStyle':BowlingStyle,'playingRole':PlayingRole,'description':Description}, ignore_index=True)\n"
     ]
    },
    {
     "name": "stdout",
     "output_type": "stream",
     "text": [
      "11\n"
     ]
    },
    {
     "name": "stderr",
     "output_type": "stream",
     "text": [
      "C:\\Users\\SKS\\AppData\\Local\\Temp\\ipykernel_964\\433721850.py:47: FutureWarning: The frame.append method is deprecated and will be removed from pandas in a future version. Use pandas.concat instead.\n",
      "  df_player_info=df_player_info.append({'name':Name,'team':Team,'battingStyle':BattingStyle,'bowlingStyle':BowlingStyle,'playingRole':PlayingRole,'description':Description}, ignore_index=True)\n"
     ]
    },
    {
     "name": "stdout",
     "output_type": "stream",
     "text": [
      "12\n"
     ]
    },
    {
     "name": "stderr",
     "output_type": "stream",
     "text": [
      "C:\\Users\\SKS\\AppData\\Local\\Temp\\ipykernel_964\\433721850.py:47: FutureWarning: The frame.append method is deprecated and will be removed from pandas in a future version. Use pandas.concat instead.\n",
      "  df_player_info=df_player_info.append({'name':Name,'team':Team,'battingStyle':BattingStyle,'bowlingStyle':BowlingStyle,'playingRole':PlayingRole,'description':Description}, ignore_index=True)\n"
     ]
    },
    {
     "name": "stdout",
     "output_type": "stream",
     "text": [
      "13\n"
     ]
    },
    {
     "name": "stderr",
     "output_type": "stream",
     "text": [
      "C:\\Users\\SKS\\AppData\\Local\\Temp\\ipykernel_964\\433721850.py:47: FutureWarning: The frame.append method is deprecated and will be removed from pandas in a future version. Use pandas.concat instead.\n",
      "  df_player_info=df_player_info.append({'name':Name,'team':Team,'battingStyle':BattingStyle,'bowlingStyle':BowlingStyle,'playingRole':PlayingRole,'description':Description}, ignore_index=True)\n"
     ]
    },
    {
     "name": "stdout",
     "output_type": "stream",
     "text": [
      "14\n"
     ]
    },
    {
     "name": "stderr",
     "output_type": "stream",
     "text": [
      "C:\\Users\\SKS\\AppData\\Local\\Temp\\ipykernel_964\\433721850.py:47: FutureWarning: The frame.append method is deprecated and will be removed from pandas in a future version. Use pandas.concat instead.\n",
      "  df_player_info=df_player_info.append({'name':Name,'team':Team,'battingStyle':BattingStyle,'bowlingStyle':BowlingStyle,'playingRole':PlayingRole,'description':Description}, ignore_index=True)\n"
     ]
    },
    {
     "name": "stdout",
     "output_type": "stream",
     "text": [
      "15\n"
     ]
    },
    {
     "name": "stderr",
     "output_type": "stream",
     "text": [
      "C:\\Users\\SKS\\AppData\\Local\\Temp\\ipykernel_964\\433721850.py:47: FutureWarning: The frame.append method is deprecated and will be removed from pandas in a future version. Use pandas.concat instead.\n",
      "  df_player_info=df_player_info.append({'name':Name,'team':Team,'battingStyle':BattingStyle,'bowlingStyle':BowlingStyle,'playingRole':PlayingRole,'description':Description}, ignore_index=True)\n"
     ]
    },
    {
     "name": "stdout",
     "output_type": "stream",
     "text": [
      "16\n"
     ]
    },
    {
     "name": "stderr",
     "output_type": "stream",
     "text": [
      "C:\\Users\\SKS\\AppData\\Local\\Temp\\ipykernel_964\\433721850.py:47: FutureWarning: The frame.append method is deprecated and will be removed from pandas in a future version. Use pandas.concat instead.\n",
      "  df_player_info=df_player_info.append({'name':Name,'team':Team,'battingStyle':BattingStyle,'bowlingStyle':BowlingStyle,'playingRole':PlayingRole,'description':Description}, ignore_index=True)\n"
     ]
    },
    {
     "name": "stdout",
     "output_type": "stream",
     "text": [
      "17\n"
     ]
    },
    {
     "name": "stderr",
     "output_type": "stream",
     "text": [
      "C:\\Users\\SKS\\AppData\\Local\\Temp\\ipykernel_964\\433721850.py:47: FutureWarning: The frame.append method is deprecated and will be removed from pandas in a future version. Use pandas.concat instead.\n",
      "  df_player_info=df_player_info.append({'name':Name,'team':Team,'battingStyle':BattingStyle,'bowlingStyle':BowlingStyle,'playingRole':PlayingRole,'description':Description}, ignore_index=True)\n"
     ]
    },
    {
     "name": "stdout",
     "output_type": "stream",
     "text": [
      "18\n"
     ]
    },
    {
     "name": "stderr",
     "output_type": "stream",
     "text": [
      "C:\\Users\\SKS\\AppData\\Local\\Temp\\ipykernel_964\\433721850.py:47: FutureWarning: The frame.append method is deprecated and will be removed from pandas in a future version. Use pandas.concat instead.\n",
      "  df_player_info=df_player_info.append({'name':Name,'team':Team,'battingStyle':BattingStyle,'bowlingStyle':BowlingStyle,'playingRole':PlayingRole,'description':Description}, ignore_index=True)\n"
     ]
    },
    {
     "name": "stdout",
     "output_type": "stream",
     "text": [
      "19\n"
     ]
    },
    {
     "name": "stderr",
     "output_type": "stream",
     "text": [
      "C:\\Users\\SKS\\AppData\\Local\\Temp\\ipykernel_964\\433721850.py:47: FutureWarning: The frame.append method is deprecated and will be removed from pandas in a future version. Use pandas.concat instead.\n",
      "  df_player_info=df_player_info.append({'name':Name,'team':Team,'battingStyle':BattingStyle,'bowlingStyle':BowlingStyle,'playingRole':PlayingRole,'description':Description}, ignore_index=True)\n"
     ]
    },
    {
     "name": "stdout",
     "output_type": "stream",
     "text": [
      "20\n"
     ]
    },
    {
     "name": "stderr",
     "output_type": "stream",
     "text": [
      "C:\\Users\\SKS\\AppData\\Local\\Temp\\ipykernel_964\\433721850.py:47: FutureWarning: The frame.append method is deprecated and will be removed from pandas in a future version. Use pandas.concat instead.\n",
      "  df_player_info=df_player_info.append({'name':Name,'team':Team,'battingStyle':BattingStyle,'bowlingStyle':BowlingStyle,'playingRole':PlayingRole,'description':Description}, ignore_index=True)\n"
     ]
    },
    {
     "name": "stdout",
     "output_type": "stream",
     "text": [
      "21\n"
     ]
    },
    {
     "name": "stderr",
     "output_type": "stream",
     "text": [
      "C:\\Users\\SKS\\AppData\\Local\\Temp\\ipykernel_964\\433721850.py:47: FutureWarning: The frame.append method is deprecated and will be removed from pandas in a future version. Use pandas.concat instead.\n",
      "  df_player_info=df_player_info.append({'name':Name,'team':Team,'battingStyle':BattingStyle,'bowlingStyle':BowlingStyle,'playingRole':PlayingRole,'description':Description}, ignore_index=True)\n"
     ]
    },
    {
     "name": "stdout",
     "output_type": "stream",
     "text": [
      "22\n"
     ]
    },
    {
     "name": "stderr",
     "output_type": "stream",
     "text": [
      "C:\\Users\\SKS\\AppData\\Local\\Temp\\ipykernel_964\\433721850.py:47: FutureWarning: The frame.append method is deprecated and will be removed from pandas in a future version. Use pandas.concat instead.\n",
      "  df_player_info=df_player_info.append({'name':Name,'team':Team,'battingStyle':BattingStyle,'bowlingStyle':BowlingStyle,'playingRole':PlayingRole,'description':Description}, ignore_index=True)\n"
     ]
    },
    {
     "name": "stdout",
     "output_type": "stream",
     "text": [
      "23\n"
     ]
    },
    {
     "name": "stderr",
     "output_type": "stream",
     "text": [
      "C:\\Users\\SKS\\AppData\\Local\\Temp\\ipykernel_964\\433721850.py:47: FutureWarning: The frame.append method is deprecated and will be removed from pandas in a future version. Use pandas.concat instead.\n",
      "  df_player_info=df_player_info.append({'name':Name,'team':Team,'battingStyle':BattingStyle,'bowlingStyle':BowlingStyle,'playingRole':PlayingRole,'description':Description}, ignore_index=True)\n"
     ]
    },
    {
     "name": "stdout",
     "output_type": "stream",
     "text": [
      "24\n"
     ]
    },
    {
     "name": "stderr",
     "output_type": "stream",
     "text": [
      "C:\\Users\\SKS\\AppData\\Local\\Temp\\ipykernel_964\\433721850.py:47: FutureWarning: The frame.append method is deprecated and will be removed from pandas in a future version. Use pandas.concat instead.\n",
      "  df_player_info=df_player_info.append({'name':Name,'team':Team,'battingStyle':BattingStyle,'bowlingStyle':BowlingStyle,'playingRole':PlayingRole,'description':Description}, ignore_index=True)\n"
     ]
    },
    {
     "name": "stdout",
     "output_type": "stream",
     "text": [
      "25\n"
     ]
    },
    {
     "name": "stderr",
     "output_type": "stream",
     "text": [
      "C:\\Users\\SKS\\AppData\\Local\\Temp\\ipykernel_964\\433721850.py:47: FutureWarning: The frame.append method is deprecated and will be removed from pandas in a future version. Use pandas.concat instead.\n",
      "  df_player_info=df_player_info.append({'name':Name,'team':Team,'battingStyle':BattingStyle,'bowlingStyle':BowlingStyle,'playingRole':PlayingRole,'description':Description}, ignore_index=True)\n"
     ]
    },
    {
     "name": "stdout",
     "output_type": "stream",
     "text": [
      "26\n"
     ]
    },
    {
     "name": "stderr",
     "output_type": "stream",
     "text": [
      "C:\\Users\\SKS\\AppData\\Local\\Temp\\ipykernel_964\\433721850.py:47: FutureWarning: The frame.append method is deprecated and will be removed from pandas in a future version. Use pandas.concat instead.\n",
      "  df_player_info=df_player_info.append({'name':Name,'team':Team,'battingStyle':BattingStyle,'bowlingStyle':BowlingStyle,'playingRole':PlayingRole,'description':Description}, ignore_index=True)\n"
     ]
    },
    {
     "name": "stdout",
     "output_type": "stream",
     "text": [
      "27\n"
     ]
    },
    {
     "name": "stderr",
     "output_type": "stream",
     "text": [
      "C:\\Users\\SKS\\AppData\\Local\\Temp\\ipykernel_964\\433721850.py:47: FutureWarning: The frame.append method is deprecated and will be removed from pandas in a future version. Use pandas.concat instead.\n",
      "  df_player_info=df_player_info.append({'name':Name,'team':Team,'battingStyle':BattingStyle,'bowlingStyle':BowlingStyle,'playingRole':PlayingRole,'description':Description}, ignore_index=True)\n"
     ]
    },
    {
     "name": "stdout",
     "output_type": "stream",
     "text": [
      "28\n"
     ]
    },
    {
     "name": "stderr",
     "output_type": "stream",
     "text": [
      "C:\\Users\\SKS\\AppData\\Local\\Temp\\ipykernel_964\\433721850.py:47: FutureWarning: The frame.append method is deprecated and will be removed from pandas in a future version. Use pandas.concat instead.\n",
      "  df_player_info=df_player_info.append({'name':Name,'team':Team,'battingStyle':BattingStyle,'bowlingStyle':BowlingStyle,'playingRole':PlayingRole,'description':Description}, ignore_index=True)\n"
     ]
    },
    {
     "name": "stdout",
     "output_type": "stream",
     "text": [
      "29\n"
     ]
    },
    {
     "name": "stderr",
     "output_type": "stream",
     "text": [
      "C:\\Users\\SKS\\AppData\\Local\\Temp\\ipykernel_964\\433721850.py:47: FutureWarning: The frame.append method is deprecated and will be removed from pandas in a future version. Use pandas.concat instead.\n",
      "  df_player_info=df_player_info.append({'name':Name,'team':Team,'battingStyle':BattingStyle,'bowlingStyle':BowlingStyle,'playingRole':PlayingRole,'description':Description}, ignore_index=True)\n"
     ]
    },
    {
     "name": "stdout",
     "output_type": "stream",
     "text": [
      "30\n"
     ]
    },
    {
     "name": "stderr",
     "output_type": "stream",
     "text": [
      "C:\\Users\\SKS\\AppData\\Local\\Temp\\ipykernel_964\\433721850.py:47: FutureWarning: The frame.append method is deprecated and will be removed from pandas in a future version. Use pandas.concat instead.\n",
      "  df_player_info=df_player_info.append({'name':Name,'team':Team,'battingStyle':BattingStyle,'bowlingStyle':BowlingStyle,'playingRole':PlayingRole,'description':Description}, ignore_index=True)\n"
     ]
    },
    {
     "name": "stdout",
     "output_type": "stream",
     "text": [
      "31\n"
     ]
    },
    {
     "name": "stderr",
     "output_type": "stream",
     "text": [
      "C:\\Users\\SKS\\AppData\\Local\\Temp\\ipykernel_964\\433721850.py:47: FutureWarning: The frame.append method is deprecated and will be removed from pandas in a future version. Use pandas.concat instead.\n",
      "  df_player_info=df_player_info.append({'name':Name,'team':Team,'battingStyle':BattingStyle,'bowlingStyle':BowlingStyle,'playingRole':PlayingRole,'description':Description}, ignore_index=True)\n"
     ]
    },
    {
     "name": "stdout",
     "output_type": "stream",
     "text": [
      "32\n"
     ]
    },
    {
     "name": "stderr",
     "output_type": "stream",
     "text": [
      "C:\\Users\\SKS\\AppData\\Local\\Temp\\ipykernel_964\\433721850.py:47: FutureWarning: The frame.append method is deprecated and will be removed from pandas in a future version. Use pandas.concat instead.\n",
      "  df_player_info=df_player_info.append({'name':Name,'team':Team,'battingStyle':BattingStyle,'bowlingStyle':BowlingStyle,'playingRole':PlayingRole,'description':Description}, ignore_index=True)\n"
     ]
    },
    {
     "name": "stdout",
     "output_type": "stream",
     "text": [
      "33\n"
     ]
    },
    {
     "name": "stderr",
     "output_type": "stream",
     "text": [
      "C:\\Users\\SKS\\AppData\\Local\\Temp\\ipykernel_964\\433721850.py:47: FutureWarning: The frame.append method is deprecated and will be removed from pandas in a future version. Use pandas.concat instead.\n",
      "  df_player_info=df_player_info.append({'name':Name,'team':Team,'battingStyle':BattingStyle,'bowlingStyle':BowlingStyle,'playingRole':PlayingRole,'description':Description}, ignore_index=True)\n"
     ]
    },
    {
     "name": "stdout",
     "output_type": "stream",
     "text": [
      "34\n",
      "yes\n"
     ]
    },
    {
     "name": "stderr",
     "output_type": "stream",
     "text": [
      "C:\\Users\\SKS\\AppData\\Local\\Temp\\ipykernel_964\\433721850.py:47: FutureWarning: The frame.append method is deprecated and will be removed from pandas in a future version. Use pandas.concat instead.\n",
      "  df_player_info=df_player_info.append({'name':Name,'team':Team,'battingStyle':BattingStyle,'bowlingStyle':BowlingStyle,'playingRole':PlayingRole,'description':Description}, ignore_index=True)\n"
     ]
    },
    {
     "name": "stdout",
     "output_type": "stream",
     "text": [
      "36\n"
     ]
    },
    {
     "name": "stderr",
     "output_type": "stream",
     "text": [
      "C:\\Users\\SKS\\AppData\\Local\\Temp\\ipykernel_964\\433721850.py:47: FutureWarning: The frame.append method is deprecated and will be removed from pandas in a future version. Use pandas.concat instead.\n",
      "  df_player_info=df_player_info.append({'name':Name,'team':Team,'battingStyle':BattingStyle,'bowlingStyle':BowlingStyle,'playingRole':PlayingRole,'description':Description}, ignore_index=True)\n"
     ]
    },
    {
     "name": "stdout",
     "output_type": "stream",
     "text": [
      "37\n"
     ]
    },
    {
     "name": "stderr",
     "output_type": "stream",
     "text": [
      "C:\\Users\\SKS\\AppData\\Local\\Temp\\ipykernel_964\\433721850.py:47: FutureWarning: The frame.append method is deprecated and will be removed from pandas in a future version. Use pandas.concat instead.\n",
      "  df_player_info=df_player_info.append({'name':Name,'team':Team,'battingStyle':BattingStyle,'bowlingStyle':BowlingStyle,'playingRole':PlayingRole,'description':Description}, ignore_index=True)\n"
     ]
    },
    {
     "name": "stdout",
     "output_type": "stream",
     "text": [
      "38\n"
     ]
    },
    {
     "name": "stderr",
     "output_type": "stream",
     "text": [
      "C:\\Users\\SKS\\AppData\\Local\\Temp\\ipykernel_964\\433721850.py:47: FutureWarning: The frame.append method is deprecated and will be removed from pandas in a future version. Use pandas.concat instead.\n",
      "  df_player_info=df_player_info.append({'name':Name,'team':Team,'battingStyle':BattingStyle,'bowlingStyle':BowlingStyle,'playingRole':PlayingRole,'description':Description}, ignore_index=True)\n"
     ]
    },
    {
     "name": "stdout",
     "output_type": "stream",
     "text": [
      "39\n"
     ]
    },
    {
     "name": "stderr",
     "output_type": "stream",
     "text": [
      "C:\\Users\\SKS\\AppData\\Local\\Temp\\ipykernel_964\\433721850.py:47: FutureWarning: The frame.append method is deprecated and will be removed from pandas in a future version. Use pandas.concat instead.\n",
      "  df_player_info=df_player_info.append({'name':Name,'team':Team,'battingStyle':BattingStyle,'bowlingStyle':BowlingStyle,'playingRole':PlayingRole,'description':Description}, ignore_index=True)\n"
     ]
    },
    {
     "name": "stdout",
     "output_type": "stream",
     "text": [
      "40\n"
     ]
    },
    {
     "name": "stderr",
     "output_type": "stream",
     "text": [
      "C:\\Users\\SKS\\AppData\\Local\\Temp\\ipykernel_964\\433721850.py:47: FutureWarning: The frame.append method is deprecated and will be removed from pandas in a future version. Use pandas.concat instead.\n",
      "  df_player_info=df_player_info.append({'name':Name,'team':Team,'battingStyle':BattingStyle,'bowlingStyle':BowlingStyle,'playingRole':PlayingRole,'description':Description}, ignore_index=True)\n"
     ]
    },
    {
     "name": "stdout",
     "output_type": "stream",
     "text": [
      "41\n"
     ]
    },
    {
     "name": "stderr",
     "output_type": "stream",
     "text": [
      "C:\\Users\\SKS\\AppData\\Local\\Temp\\ipykernel_964\\433721850.py:47: FutureWarning: The frame.append method is deprecated and will be removed from pandas in a future version. Use pandas.concat instead.\n",
      "  df_player_info=df_player_info.append({'name':Name,'team':Team,'battingStyle':BattingStyle,'bowlingStyle':BowlingStyle,'playingRole':PlayingRole,'description':Description}, ignore_index=True)\n"
     ]
    },
    {
     "name": "stdout",
     "output_type": "stream",
     "text": [
      "42\n"
     ]
    },
    {
     "name": "stderr",
     "output_type": "stream",
     "text": [
      "C:\\Users\\SKS\\AppData\\Local\\Temp\\ipykernel_964\\433721850.py:47: FutureWarning: The frame.append method is deprecated and will be removed from pandas in a future version. Use pandas.concat instead.\n",
      "  df_player_info=df_player_info.append({'name':Name,'team':Team,'battingStyle':BattingStyle,'bowlingStyle':BowlingStyle,'playingRole':PlayingRole,'description':Description}, ignore_index=True)\n"
     ]
    },
    {
     "name": "stdout",
     "output_type": "stream",
     "text": [
      "43\n"
     ]
    },
    {
     "name": "stderr",
     "output_type": "stream",
     "text": [
      "C:\\Users\\SKS\\AppData\\Local\\Temp\\ipykernel_964\\433721850.py:47: FutureWarning: The frame.append method is deprecated and will be removed from pandas in a future version. Use pandas.concat instead.\n",
      "  df_player_info=df_player_info.append({'name':Name,'team':Team,'battingStyle':BattingStyle,'bowlingStyle':BowlingStyle,'playingRole':PlayingRole,'description':Description}, ignore_index=True)\n"
     ]
    },
    {
     "name": "stdout",
     "output_type": "stream",
     "text": [
      "44\n"
     ]
    },
    {
     "name": "stderr",
     "output_type": "stream",
     "text": [
      "C:\\Users\\SKS\\AppData\\Local\\Temp\\ipykernel_964\\433721850.py:47: FutureWarning: The frame.append method is deprecated and will be removed from pandas in a future version. Use pandas.concat instead.\n",
      "  df_player_info=df_player_info.append({'name':Name,'team':Team,'battingStyle':BattingStyle,'bowlingStyle':BowlingStyle,'playingRole':PlayingRole,'description':Description}, ignore_index=True)\n"
     ]
    },
    {
     "name": "stdout",
     "output_type": "stream",
     "text": [
      "45\n"
     ]
    },
    {
     "name": "stderr",
     "output_type": "stream",
     "text": [
      "C:\\Users\\SKS\\AppData\\Local\\Temp\\ipykernel_964\\433721850.py:47: FutureWarning: The frame.append method is deprecated and will be removed from pandas in a future version. Use pandas.concat instead.\n",
      "  df_player_info=df_player_info.append({'name':Name,'team':Team,'battingStyle':BattingStyle,'bowlingStyle':BowlingStyle,'playingRole':PlayingRole,'description':Description}, ignore_index=True)\n"
     ]
    },
    {
     "name": "stdout",
     "output_type": "stream",
     "text": [
      "46\n"
     ]
    },
    {
     "name": "stderr",
     "output_type": "stream",
     "text": [
      "C:\\Users\\SKS\\AppData\\Local\\Temp\\ipykernel_964\\433721850.py:47: FutureWarning: The frame.append method is deprecated and will be removed from pandas in a future version. Use pandas.concat instead.\n",
      "  df_player_info=df_player_info.append({'name':Name,'team':Team,'battingStyle':BattingStyle,'bowlingStyle':BowlingStyle,'playingRole':PlayingRole,'description':Description}, ignore_index=True)\n"
     ]
    },
    {
     "name": "stdout",
     "output_type": "stream",
     "text": [
      "47\n"
     ]
    },
    {
     "name": "stderr",
     "output_type": "stream",
     "text": [
      "C:\\Users\\SKS\\AppData\\Local\\Temp\\ipykernel_964\\433721850.py:47: FutureWarning: The frame.append method is deprecated and will be removed from pandas in a future version. Use pandas.concat instead.\n",
      "  df_player_info=df_player_info.append({'name':Name,'team':Team,'battingStyle':BattingStyle,'bowlingStyle':BowlingStyle,'playingRole':PlayingRole,'description':Description}, ignore_index=True)\n"
     ]
    },
    {
     "name": "stdout",
     "output_type": "stream",
     "text": [
      "48\n"
     ]
    },
    {
     "name": "stderr",
     "output_type": "stream",
     "text": [
      "C:\\Users\\SKS\\AppData\\Local\\Temp\\ipykernel_964\\433721850.py:47: FutureWarning: The frame.append method is deprecated and will be removed from pandas in a future version. Use pandas.concat instead.\n",
      "  df_player_info=df_player_info.append({'name':Name,'team':Team,'battingStyle':BattingStyle,'bowlingStyle':BowlingStyle,'playingRole':PlayingRole,'description':Description}, ignore_index=True)\n"
     ]
    },
    {
     "name": "stdout",
     "output_type": "stream",
     "text": [
      "49\n"
     ]
    },
    {
     "name": "stderr",
     "output_type": "stream",
     "text": [
      "C:\\Users\\SKS\\AppData\\Local\\Temp\\ipykernel_964\\433721850.py:47: FutureWarning: The frame.append method is deprecated and will be removed from pandas in a future version. Use pandas.concat instead.\n",
      "  df_player_info=df_player_info.append({'name':Name,'team':Team,'battingStyle':BattingStyle,'bowlingStyle':BowlingStyle,'playingRole':PlayingRole,'description':Description}, ignore_index=True)\n"
     ]
    },
    {
     "name": "stdout",
     "output_type": "stream",
     "text": [
      "50\n"
     ]
    },
    {
     "name": "stderr",
     "output_type": "stream",
     "text": [
      "C:\\Users\\SKS\\AppData\\Local\\Temp\\ipykernel_964\\433721850.py:47: FutureWarning: The frame.append method is deprecated and will be removed from pandas in a future version. Use pandas.concat instead.\n",
      "  df_player_info=df_player_info.append({'name':Name,'team':Team,'battingStyle':BattingStyle,'bowlingStyle':BowlingStyle,'playingRole':PlayingRole,'description':Description}, ignore_index=True)\n"
     ]
    },
    {
     "name": "stdout",
     "output_type": "stream",
     "text": [
      "51\n"
     ]
    },
    {
     "name": "stderr",
     "output_type": "stream",
     "text": [
      "C:\\Users\\SKS\\AppData\\Local\\Temp\\ipykernel_964\\433721850.py:47: FutureWarning: The frame.append method is deprecated and will be removed from pandas in a future version. Use pandas.concat instead.\n",
      "  df_player_info=df_player_info.append({'name':Name,'team':Team,'battingStyle':BattingStyle,'bowlingStyle':BowlingStyle,'playingRole':PlayingRole,'description':Description}, ignore_index=True)\n"
     ]
    },
    {
     "name": "stdout",
     "output_type": "stream",
     "text": [
      "52\n"
     ]
    },
    {
     "name": "stderr",
     "output_type": "stream",
     "text": [
      "C:\\Users\\SKS\\AppData\\Local\\Temp\\ipykernel_964\\433721850.py:47: FutureWarning: The frame.append method is deprecated and will be removed from pandas in a future version. Use pandas.concat instead.\n",
      "  df_player_info=df_player_info.append({'name':Name,'team':Team,'battingStyle':BattingStyle,'bowlingStyle':BowlingStyle,'playingRole':PlayingRole,'description':Description}, ignore_index=True)\n"
     ]
    },
    {
     "name": "stdout",
     "output_type": "stream",
     "text": [
      "53\n"
     ]
    },
    {
     "name": "stderr",
     "output_type": "stream",
     "text": [
      "C:\\Users\\SKS\\AppData\\Local\\Temp\\ipykernel_964\\433721850.py:47: FutureWarning: The frame.append method is deprecated and will be removed from pandas in a future version. Use pandas.concat instead.\n",
      "  df_player_info=df_player_info.append({'name':Name,'team':Team,'battingStyle':BattingStyle,'bowlingStyle':BowlingStyle,'playingRole':PlayingRole,'description':Description}, ignore_index=True)\n"
     ]
    },
    {
     "name": "stdout",
     "output_type": "stream",
     "text": [
      "54\n"
     ]
    },
    {
     "name": "stderr",
     "output_type": "stream",
     "text": [
      "C:\\Users\\SKS\\AppData\\Local\\Temp\\ipykernel_964\\433721850.py:47: FutureWarning: The frame.append method is deprecated and will be removed from pandas in a future version. Use pandas.concat instead.\n",
      "  df_player_info=df_player_info.append({'name':Name,'team':Team,'battingStyle':BattingStyle,'bowlingStyle':BowlingStyle,'playingRole':PlayingRole,'description':Description}, ignore_index=True)\n"
     ]
    },
    {
     "name": "stdout",
     "output_type": "stream",
     "text": [
      "55\n"
     ]
    },
    {
     "name": "stderr",
     "output_type": "stream",
     "text": [
      "C:\\Users\\SKS\\AppData\\Local\\Temp\\ipykernel_964\\433721850.py:47: FutureWarning: The frame.append method is deprecated and will be removed from pandas in a future version. Use pandas.concat instead.\n",
      "  df_player_info=df_player_info.append({'name':Name,'team':Team,'battingStyle':BattingStyle,'bowlingStyle':BowlingStyle,'playingRole':PlayingRole,'description':Description}, ignore_index=True)\n"
     ]
    },
    {
     "name": "stdout",
     "output_type": "stream",
     "text": [
      "56\n"
     ]
    },
    {
     "name": "stderr",
     "output_type": "stream",
     "text": [
      "C:\\Users\\SKS\\AppData\\Local\\Temp\\ipykernel_964\\433721850.py:47: FutureWarning: The frame.append method is deprecated and will be removed from pandas in a future version. Use pandas.concat instead.\n",
      "  df_player_info=df_player_info.append({'name':Name,'team':Team,'battingStyle':BattingStyle,'bowlingStyle':BowlingStyle,'playingRole':PlayingRole,'description':Description}, ignore_index=True)\n"
     ]
    },
    {
     "name": "stdout",
     "output_type": "stream",
     "text": [
      "57\n"
     ]
    },
    {
     "name": "stderr",
     "output_type": "stream",
     "text": [
      "C:\\Users\\SKS\\AppData\\Local\\Temp\\ipykernel_964\\433721850.py:47: FutureWarning: The frame.append method is deprecated and will be removed from pandas in a future version. Use pandas.concat instead.\n",
      "  df_player_info=df_player_info.append({'name':Name,'team':Team,'battingStyle':BattingStyle,'bowlingStyle':BowlingStyle,'playingRole':PlayingRole,'description':Description}, ignore_index=True)\n"
     ]
    },
    {
     "name": "stdout",
     "output_type": "stream",
     "text": [
      "58\n"
     ]
    },
    {
     "name": "stderr",
     "output_type": "stream",
     "text": [
      "C:\\Users\\SKS\\AppData\\Local\\Temp\\ipykernel_964\\433721850.py:47: FutureWarning: The frame.append method is deprecated and will be removed from pandas in a future version. Use pandas.concat instead.\n",
      "  df_player_info=df_player_info.append({'name':Name,'team':Team,'battingStyle':BattingStyle,'bowlingStyle':BowlingStyle,'playingRole':PlayingRole,'description':Description}, ignore_index=True)\n"
     ]
    },
    {
     "name": "stdout",
     "output_type": "stream",
     "text": [
      "59\n"
     ]
    },
    {
     "name": "stderr",
     "output_type": "stream",
     "text": [
      "C:\\Users\\SKS\\AppData\\Local\\Temp\\ipykernel_964\\433721850.py:47: FutureWarning: The frame.append method is deprecated and will be removed from pandas in a future version. Use pandas.concat instead.\n",
      "  df_player_info=df_player_info.append({'name':Name,'team':Team,'battingStyle':BattingStyle,'bowlingStyle':BowlingStyle,'playingRole':PlayingRole,'description':Description}, ignore_index=True)\n"
     ]
    },
    {
     "name": "stdout",
     "output_type": "stream",
     "text": [
      "60\n"
     ]
    },
    {
     "name": "stderr",
     "output_type": "stream",
     "text": [
      "C:\\Users\\SKS\\AppData\\Local\\Temp\\ipykernel_964\\433721850.py:47: FutureWarning: The frame.append method is deprecated and will be removed from pandas in a future version. Use pandas.concat instead.\n",
      "  df_player_info=df_player_info.append({'name':Name,'team':Team,'battingStyle':BattingStyle,'bowlingStyle':BowlingStyle,'playingRole':PlayingRole,'description':Description}, ignore_index=True)\n"
     ]
    },
    {
     "name": "stdout",
     "output_type": "stream",
     "text": [
      "61\n"
     ]
    },
    {
     "name": "stderr",
     "output_type": "stream",
     "text": [
      "C:\\Users\\SKS\\AppData\\Local\\Temp\\ipykernel_964\\433721850.py:47: FutureWarning: The frame.append method is deprecated and will be removed from pandas in a future version. Use pandas.concat instead.\n",
      "  df_player_info=df_player_info.append({'name':Name,'team':Team,'battingStyle':BattingStyle,'bowlingStyle':BowlingStyle,'playingRole':PlayingRole,'description':Description}, ignore_index=True)\n"
     ]
    },
    {
     "name": "stdout",
     "output_type": "stream",
     "text": [
      "62\n"
     ]
    },
    {
     "name": "stderr",
     "output_type": "stream",
     "text": [
      "C:\\Users\\SKS\\AppData\\Local\\Temp\\ipykernel_964\\433721850.py:47: FutureWarning: The frame.append method is deprecated and will be removed from pandas in a future version. Use pandas.concat instead.\n",
      "  df_player_info=df_player_info.append({'name':Name,'team':Team,'battingStyle':BattingStyle,'bowlingStyle':BowlingStyle,'playingRole':PlayingRole,'description':Description}, ignore_index=True)\n"
     ]
    },
    {
     "name": "stdout",
     "output_type": "stream",
     "text": [
      "63\n",
      "yes\n"
     ]
    },
    {
     "name": "stderr",
     "output_type": "stream",
     "text": [
      "C:\\Users\\SKS\\AppData\\Local\\Temp\\ipykernel_964\\433721850.py:47: FutureWarning: The frame.append method is deprecated and will be removed from pandas in a future version. Use pandas.concat instead.\n",
      "  df_player_info=df_player_info.append({'name':Name,'team':Team,'battingStyle':BattingStyle,'bowlingStyle':BowlingStyle,'playingRole':PlayingRole,'description':Description}, ignore_index=True)\n"
     ]
    },
    {
     "name": "stdout",
     "output_type": "stream",
     "text": [
      "65\n"
     ]
    },
    {
     "name": "stderr",
     "output_type": "stream",
     "text": [
      "C:\\Users\\SKS\\AppData\\Local\\Temp\\ipykernel_964\\433721850.py:47: FutureWarning: The frame.append method is deprecated and will be removed from pandas in a future version. Use pandas.concat instead.\n",
      "  df_player_info=df_player_info.append({'name':Name,'team':Team,'battingStyle':BattingStyle,'bowlingStyle':BowlingStyle,'playingRole':PlayingRole,'description':Description}, ignore_index=True)\n"
     ]
    },
    {
     "name": "stdout",
     "output_type": "stream",
     "text": [
      "66\n",
      "yes\n"
     ]
    },
    {
     "name": "stderr",
     "output_type": "stream",
     "text": [
      "C:\\Users\\SKS\\AppData\\Local\\Temp\\ipykernel_964\\433721850.py:47: FutureWarning: The frame.append method is deprecated and will be removed from pandas in a future version. Use pandas.concat instead.\n",
      "  df_player_info=df_player_info.append({'name':Name,'team':Team,'battingStyle':BattingStyle,'bowlingStyle':BowlingStyle,'playingRole':PlayingRole,'description':Description}, ignore_index=True)\n"
     ]
    },
    {
     "name": "stdout",
     "output_type": "stream",
     "text": [
      "68\n"
     ]
    },
    {
     "name": "stderr",
     "output_type": "stream",
     "text": [
      "C:\\Users\\SKS\\AppData\\Local\\Temp\\ipykernel_964\\433721850.py:47: FutureWarning: The frame.append method is deprecated and will be removed from pandas in a future version. Use pandas.concat instead.\n",
      "  df_player_info=df_player_info.append({'name':Name,'team':Team,'battingStyle':BattingStyle,'bowlingStyle':BowlingStyle,'playingRole':PlayingRole,'description':Description}, ignore_index=True)\n"
     ]
    },
    {
     "name": "stdout",
     "output_type": "stream",
     "text": [
      "69\n"
     ]
    },
    {
     "name": "stderr",
     "output_type": "stream",
     "text": [
      "C:\\Users\\SKS\\AppData\\Local\\Temp\\ipykernel_964\\433721850.py:47: FutureWarning: The frame.append method is deprecated and will be removed from pandas in a future version. Use pandas.concat instead.\n",
      "  df_player_info=df_player_info.append({'name':Name,'team':Team,'battingStyle':BattingStyle,'bowlingStyle':BowlingStyle,'playingRole':PlayingRole,'description':Description}, ignore_index=True)\n"
     ]
    },
    {
     "name": "stdout",
     "output_type": "stream",
     "text": [
      "70\n"
     ]
    },
    {
     "name": "stderr",
     "output_type": "stream",
     "text": [
      "C:\\Users\\SKS\\AppData\\Local\\Temp\\ipykernel_964\\433721850.py:47: FutureWarning: The frame.append method is deprecated and will be removed from pandas in a future version. Use pandas.concat instead.\n",
      "  df_player_info=df_player_info.append({'name':Name,'team':Team,'battingStyle':BattingStyle,'bowlingStyle':BowlingStyle,'playingRole':PlayingRole,'description':Description}, ignore_index=True)\n"
     ]
    },
    {
     "name": "stdout",
     "output_type": "stream",
     "text": [
      "71\n"
     ]
    },
    {
     "name": "stderr",
     "output_type": "stream",
     "text": [
      "C:\\Users\\SKS\\AppData\\Local\\Temp\\ipykernel_964\\433721850.py:47: FutureWarning: The frame.append method is deprecated and will be removed from pandas in a future version. Use pandas.concat instead.\n",
      "  df_player_info=df_player_info.append({'name':Name,'team':Team,'battingStyle':BattingStyle,'bowlingStyle':BowlingStyle,'playingRole':PlayingRole,'description':Description}, ignore_index=True)\n"
     ]
    },
    {
     "name": "stdout",
     "output_type": "stream",
     "text": [
      "72\n"
     ]
    },
    {
     "name": "stderr",
     "output_type": "stream",
     "text": [
      "C:\\Users\\SKS\\AppData\\Local\\Temp\\ipykernel_964\\433721850.py:47: FutureWarning: The frame.append method is deprecated and will be removed from pandas in a future version. Use pandas.concat instead.\n",
      "  df_player_info=df_player_info.append({'name':Name,'team':Team,'battingStyle':BattingStyle,'bowlingStyle':BowlingStyle,'playingRole':PlayingRole,'description':Description}, ignore_index=True)\n"
     ]
    },
    {
     "name": "stdout",
     "output_type": "stream",
     "text": [
      "73\n"
     ]
    },
    {
     "name": "stderr",
     "output_type": "stream",
     "text": [
      "C:\\Users\\SKS\\AppData\\Local\\Temp\\ipykernel_964\\433721850.py:47: FutureWarning: The frame.append method is deprecated and will be removed from pandas in a future version. Use pandas.concat instead.\n",
      "  df_player_info=df_player_info.append({'name':Name,'team':Team,'battingStyle':BattingStyle,'bowlingStyle':BowlingStyle,'playingRole':PlayingRole,'description':Description}, ignore_index=True)\n"
     ]
    },
    {
     "name": "stdout",
     "output_type": "stream",
     "text": [
      "74\n"
     ]
    },
    {
     "name": "stderr",
     "output_type": "stream",
     "text": [
      "C:\\Users\\SKS\\AppData\\Local\\Temp\\ipykernel_964\\433721850.py:47: FutureWarning: The frame.append method is deprecated and will be removed from pandas in a future version. Use pandas.concat instead.\n",
      "  df_player_info=df_player_info.append({'name':Name,'team':Team,'battingStyle':BattingStyle,'bowlingStyle':BowlingStyle,'playingRole':PlayingRole,'description':Description}, ignore_index=True)\n"
     ]
    },
    {
     "name": "stdout",
     "output_type": "stream",
     "text": [
      "75\n"
     ]
    },
    {
     "name": "stderr",
     "output_type": "stream",
     "text": [
      "C:\\Users\\SKS\\AppData\\Local\\Temp\\ipykernel_964\\433721850.py:47: FutureWarning: The frame.append method is deprecated and will be removed from pandas in a future version. Use pandas.concat instead.\n",
      "  df_player_info=df_player_info.append({'name':Name,'team':Team,'battingStyle':BattingStyle,'bowlingStyle':BowlingStyle,'playingRole':PlayingRole,'description':Description}, ignore_index=True)\n"
     ]
    },
    {
     "name": "stdout",
     "output_type": "stream",
     "text": [
      "76\n"
     ]
    },
    {
     "name": "stderr",
     "output_type": "stream",
     "text": [
      "C:\\Users\\SKS\\AppData\\Local\\Temp\\ipykernel_964\\433721850.py:47: FutureWarning: The frame.append method is deprecated and will be removed from pandas in a future version. Use pandas.concat instead.\n",
      "  df_player_info=df_player_info.append({'name':Name,'team':Team,'battingStyle':BattingStyle,'bowlingStyle':BowlingStyle,'playingRole':PlayingRole,'description':Description}, ignore_index=True)\n"
     ]
    },
    {
     "name": "stdout",
     "output_type": "stream",
     "text": [
      "77\n"
     ]
    },
    {
     "name": "stderr",
     "output_type": "stream",
     "text": [
      "C:\\Users\\SKS\\AppData\\Local\\Temp\\ipykernel_964\\433721850.py:47: FutureWarning: The frame.append method is deprecated and will be removed from pandas in a future version. Use pandas.concat instead.\n",
      "  df_player_info=df_player_info.append({'name':Name,'team':Team,'battingStyle':BattingStyle,'bowlingStyle':BowlingStyle,'playingRole':PlayingRole,'description':Description}, ignore_index=True)\n"
     ]
    },
    {
     "name": "stdout",
     "output_type": "stream",
     "text": [
      "78\n"
     ]
    },
    {
     "name": "stderr",
     "output_type": "stream",
     "text": [
      "C:\\Users\\SKS\\AppData\\Local\\Temp\\ipykernel_964\\433721850.py:47: FutureWarning: The frame.append method is deprecated and will be removed from pandas in a future version. Use pandas.concat instead.\n",
      "  df_player_info=df_player_info.append({'name':Name,'team':Team,'battingStyle':BattingStyle,'bowlingStyle':BowlingStyle,'playingRole':PlayingRole,'description':Description}, ignore_index=True)\n"
     ]
    },
    {
     "name": "stdout",
     "output_type": "stream",
     "text": [
      "79\n"
     ]
    },
    {
     "name": "stderr",
     "output_type": "stream",
     "text": [
      "C:\\Users\\SKS\\AppData\\Local\\Temp\\ipykernel_964\\433721850.py:47: FutureWarning: The frame.append method is deprecated and will be removed from pandas in a future version. Use pandas.concat instead.\n",
      "  df_player_info=df_player_info.append({'name':Name,'team':Team,'battingStyle':BattingStyle,'bowlingStyle':BowlingStyle,'playingRole':PlayingRole,'description':Description}, ignore_index=True)\n"
     ]
    },
    {
     "name": "stdout",
     "output_type": "stream",
     "text": [
      "80\n"
     ]
    },
    {
     "name": "stderr",
     "output_type": "stream",
     "text": [
      "C:\\Users\\SKS\\AppData\\Local\\Temp\\ipykernel_964\\433721850.py:47: FutureWarning: The frame.append method is deprecated and will be removed from pandas in a future version. Use pandas.concat instead.\n",
      "  df_player_info=df_player_info.append({'name':Name,'team':Team,'battingStyle':BattingStyle,'bowlingStyle':BowlingStyle,'playingRole':PlayingRole,'description':Description}, ignore_index=True)\n"
     ]
    },
    {
     "name": "stdout",
     "output_type": "stream",
     "text": [
      "81\n"
     ]
    },
    {
     "name": "stderr",
     "output_type": "stream",
     "text": [
      "C:\\Users\\SKS\\AppData\\Local\\Temp\\ipykernel_964\\433721850.py:47: FutureWarning: The frame.append method is deprecated and will be removed from pandas in a future version. Use pandas.concat instead.\n",
      "  df_player_info=df_player_info.append({'name':Name,'team':Team,'battingStyle':BattingStyle,'bowlingStyle':BowlingStyle,'playingRole':PlayingRole,'description':Description}, ignore_index=True)\n"
     ]
    },
    {
     "name": "stdout",
     "output_type": "stream",
     "text": [
      "82\n"
     ]
    },
    {
     "name": "stderr",
     "output_type": "stream",
     "text": [
      "C:\\Users\\SKS\\AppData\\Local\\Temp\\ipykernel_964\\433721850.py:47: FutureWarning: The frame.append method is deprecated and will be removed from pandas in a future version. Use pandas.concat instead.\n",
      "  df_player_info=df_player_info.append({'name':Name,'team':Team,'battingStyle':BattingStyle,'bowlingStyle':BowlingStyle,'playingRole':PlayingRole,'description':Description}, ignore_index=True)\n"
     ]
    },
    {
     "name": "stdout",
     "output_type": "stream",
     "text": [
      "83\n"
     ]
    },
    {
     "name": "stderr",
     "output_type": "stream",
     "text": [
      "C:\\Users\\SKS\\AppData\\Local\\Temp\\ipykernel_964\\433721850.py:47: FutureWarning: The frame.append method is deprecated and will be removed from pandas in a future version. Use pandas.concat instead.\n",
      "  df_player_info=df_player_info.append({'name':Name,'team':Team,'battingStyle':BattingStyle,'bowlingStyle':BowlingStyle,'playingRole':PlayingRole,'description':Description}, ignore_index=True)\n"
     ]
    },
    {
     "name": "stdout",
     "output_type": "stream",
     "text": [
      "84\n"
     ]
    },
    {
     "name": "stderr",
     "output_type": "stream",
     "text": [
      "C:\\Users\\SKS\\AppData\\Local\\Temp\\ipykernel_964\\433721850.py:47: FutureWarning: The frame.append method is deprecated and will be removed from pandas in a future version. Use pandas.concat instead.\n",
      "  df_player_info=df_player_info.append({'name':Name,'team':Team,'battingStyle':BattingStyle,'bowlingStyle':BowlingStyle,'playingRole':PlayingRole,'description':Description}, ignore_index=True)\n"
     ]
    },
    {
     "name": "stdout",
     "output_type": "stream",
     "text": [
      "85\n"
     ]
    },
    {
     "name": "stderr",
     "output_type": "stream",
     "text": [
      "C:\\Users\\SKS\\AppData\\Local\\Temp\\ipykernel_964\\433721850.py:47: FutureWarning: The frame.append method is deprecated and will be removed from pandas in a future version. Use pandas.concat instead.\n",
      "  df_player_info=df_player_info.append({'name':Name,'team':Team,'battingStyle':BattingStyle,'bowlingStyle':BowlingStyle,'playingRole':PlayingRole,'description':Description}, ignore_index=True)\n"
     ]
    },
    {
     "name": "stdout",
     "output_type": "stream",
     "text": [
      "86\n"
     ]
    },
    {
     "name": "stderr",
     "output_type": "stream",
     "text": [
      "C:\\Users\\SKS\\AppData\\Local\\Temp\\ipykernel_964\\433721850.py:47: FutureWarning: The frame.append method is deprecated and will be removed from pandas in a future version. Use pandas.concat instead.\n",
      "  df_player_info=df_player_info.append({'name':Name,'team':Team,'battingStyle':BattingStyle,'bowlingStyle':BowlingStyle,'playingRole':PlayingRole,'description':Description}, ignore_index=True)\n"
     ]
    },
    {
     "name": "stdout",
     "output_type": "stream",
     "text": [
      "87\n"
     ]
    },
    {
     "name": "stderr",
     "output_type": "stream",
     "text": [
      "C:\\Users\\SKS\\AppData\\Local\\Temp\\ipykernel_964\\433721850.py:47: FutureWarning: The frame.append method is deprecated and will be removed from pandas in a future version. Use pandas.concat instead.\n",
      "  df_player_info=df_player_info.append({'name':Name,'team':Team,'battingStyle':BattingStyle,'bowlingStyle':BowlingStyle,'playingRole':PlayingRole,'description':Description}, ignore_index=True)\n"
     ]
    },
    {
     "name": "stdout",
     "output_type": "stream",
     "text": [
      "88\n"
     ]
    },
    {
     "name": "stderr",
     "output_type": "stream",
     "text": [
      "C:\\Users\\SKS\\AppData\\Local\\Temp\\ipykernel_964\\433721850.py:47: FutureWarning: The frame.append method is deprecated and will be removed from pandas in a future version. Use pandas.concat instead.\n",
      "  df_player_info=df_player_info.append({'name':Name,'team':Team,'battingStyle':BattingStyle,'bowlingStyle':BowlingStyle,'playingRole':PlayingRole,'description':Description}, ignore_index=True)\n"
     ]
    },
    {
     "name": "stdout",
     "output_type": "stream",
     "text": [
      "89\n"
     ]
    },
    {
     "name": "stderr",
     "output_type": "stream",
     "text": [
      "C:\\Users\\SKS\\AppData\\Local\\Temp\\ipykernel_964\\433721850.py:47: FutureWarning: The frame.append method is deprecated and will be removed from pandas in a future version. Use pandas.concat instead.\n",
      "  df_player_info=df_player_info.append({'name':Name,'team':Team,'battingStyle':BattingStyle,'bowlingStyle':BowlingStyle,'playingRole':PlayingRole,'description':Description}, ignore_index=True)\n"
     ]
    },
    {
     "name": "stdout",
     "output_type": "stream",
     "text": [
      "90\n"
     ]
    },
    {
     "name": "stderr",
     "output_type": "stream",
     "text": [
      "C:\\Users\\SKS\\AppData\\Local\\Temp\\ipykernel_964\\433721850.py:47: FutureWarning: The frame.append method is deprecated and will be removed from pandas in a future version. Use pandas.concat instead.\n",
      "  df_player_info=df_player_info.append({'name':Name,'team':Team,'battingStyle':BattingStyle,'bowlingStyle':BowlingStyle,'playingRole':PlayingRole,'description':Description}, ignore_index=True)\n"
     ]
    },
    {
     "name": "stdout",
     "output_type": "stream",
     "text": [
      "91\n"
     ]
    },
    {
     "name": "stderr",
     "output_type": "stream",
     "text": [
      "C:\\Users\\SKS\\AppData\\Local\\Temp\\ipykernel_964\\433721850.py:47: FutureWarning: The frame.append method is deprecated and will be removed from pandas in a future version. Use pandas.concat instead.\n",
      "  df_player_info=df_player_info.append({'name':Name,'team':Team,'battingStyle':BattingStyle,'bowlingStyle':BowlingStyle,'playingRole':PlayingRole,'description':Description}, ignore_index=True)\n"
     ]
    },
    {
     "name": "stdout",
     "output_type": "stream",
     "text": [
      "92\n"
     ]
    },
    {
     "name": "stderr",
     "output_type": "stream",
     "text": [
      "C:\\Users\\SKS\\AppData\\Local\\Temp\\ipykernel_964\\433721850.py:47: FutureWarning: The frame.append method is deprecated and will be removed from pandas in a future version. Use pandas.concat instead.\n",
      "  df_player_info=df_player_info.append({'name':Name,'team':Team,'battingStyle':BattingStyle,'bowlingStyle':BowlingStyle,'playingRole':PlayingRole,'description':Description}, ignore_index=True)\n"
     ]
    },
    {
     "name": "stdout",
     "output_type": "stream",
     "text": [
      "93\n"
     ]
    },
    {
     "name": "stderr",
     "output_type": "stream",
     "text": [
      "C:\\Users\\SKS\\AppData\\Local\\Temp\\ipykernel_964\\433721850.py:47: FutureWarning: The frame.append method is deprecated and will be removed from pandas in a future version. Use pandas.concat instead.\n",
      "  df_player_info=df_player_info.append({'name':Name,'team':Team,'battingStyle':BattingStyle,'bowlingStyle':BowlingStyle,'playingRole':PlayingRole,'description':Description}, ignore_index=True)\n"
     ]
    },
    {
     "name": "stdout",
     "output_type": "stream",
     "text": [
      "94\n",
      "yes\n"
     ]
    },
    {
     "name": "stderr",
     "output_type": "stream",
     "text": [
      "C:\\Users\\SKS\\AppData\\Local\\Temp\\ipykernel_964\\433721850.py:47: FutureWarning: The frame.append method is deprecated and will be removed from pandas in a future version. Use pandas.concat instead.\n",
      "  df_player_info=df_player_info.append({'name':Name,'team':Team,'battingStyle':BattingStyle,'bowlingStyle':BowlingStyle,'playingRole':PlayingRole,'description':Description}, ignore_index=True)\n"
     ]
    },
    {
     "name": "stdout",
     "output_type": "stream",
     "text": [
      "96\n"
     ]
    },
    {
     "name": "stderr",
     "output_type": "stream",
     "text": [
      "C:\\Users\\SKS\\AppData\\Local\\Temp\\ipykernel_964\\433721850.py:47: FutureWarning: The frame.append method is deprecated and will be removed from pandas in a future version. Use pandas.concat instead.\n",
      "  df_player_info=df_player_info.append({'name':Name,'team':Team,'battingStyle':BattingStyle,'bowlingStyle':BowlingStyle,'playingRole':PlayingRole,'description':Description}, ignore_index=True)\n"
     ]
    },
    {
     "name": "stdout",
     "output_type": "stream",
     "text": [
      "97\n"
     ]
    },
    {
     "name": "stderr",
     "output_type": "stream",
     "text": [
      "C:\\Users\\SKS\\AppData\\Local\\Temp\\ipykernel_964\\433721850.py:47: FutureWarning: The frame.append method is deprecated and will be removed from pandas in a future version. Use pandas.concat instead.\n",
      "  df_player_info=df_player_info.append({'name':Name,'team':Team,'battingStyle':BattingStyle,'bowlingStyle':BowlingStyle,'playingRole':PlayingRole,'description':Description}, ignore_index=True)\n"
     ]
    },
    {
     "name": "stdout",
     "output_type": "stream",
     "text": [
      "98\n"
     ]
    },
    {
     "name": "stderr",
     "output_type": "stream",
     "text": [
      "C:\\Users\\SKS\\AppData\\Local\\Temp\\ipykernel_964\\433721850.py:47: FutureWarning: The frame.append method is deprecated and will be removed from pandas in a future version. Use pandas.concat instead.\n",
      "  df_player_info=df_player_info.append({'name':Name,'team':Team,'battingStyle':BattingStyle,'bowlingStyle':BowlingStyle,'playingRole':PlayingRole,'description':Description}, ignore_index=True)\n"
     ]
    },
    {
     "name": "stdout",
     "output_type": "stream",
     "text": [
      "99\n"
     ]
    },
    {
     "name": "stderr",
     "output_type": "stream",
     "text": [
      "C:\\Users\\SKS\\AppData\\Local\\Temp\\ipykernel_964\\433721850.py:47: FutureWarning: The frame.append method is deprecated and will be removed from pandas in a future version. Use pandas.concat instead.\n",
      "  df_player_info=df_player_info.append({'name':Name,'team':Team,'battingStyle':BattingStyle,'bowlingStyle':BowlingStyle,'playingRole':PlayingRole,'description':Description}, ignore_index=True)\n"
     ]
    },
    {
     "name": "stdout",
     "output_type": "stream",
     "text": [
      "100\n"
     ]
    },
    {
     "name": "stderr",
     "output_type": "stream",
     "text": [
      "C:\\Users\\SKS\\AppData\\Local\\Temp\\ipykernel_964\\433721850.py:47: FutureWarning: The frame.append method is deprecated and will be removed from pandas in a future version. Use pandas.concat instead.\n",
      "  df_player_info=df_player_info.append({'name':Name,'team':Team,'battingStyle':BattingStyle,'bowlingStyle':BowlingStyle,'playingRole':PlayingRole,'description':Description}, ignore_index=True)\n"
     ]
    },
    {
     "name": "stdout",
     "output_type": "stream",
     "text": [
      "101\n"
     ]
    },
    {
     "name": "stderr",
     "output_type": "stream",
     "text": [
      "C:\\Users\\SKS\\AppData\\Local\\Temp\\ipykernel_964\\433721850.py:47: FutureWarning: The frame.append method is deprecated and will be removed from pandas in a future version. Use pandas.concat instead.\n",
      "  df_player_info=df_player_info.append({'name':Name,'team':Team,'battingStyle':BattingStyle,'bowlingStyle':BowlingStyle,'playingRole':PlayingRole,'description':Description}, ignore_index=True)\n"
     ]
    },
    {
     "name": "stdout",
     "output_type": "stream",
     "text": [
      "102\n"
     ]
    },
    {
     "name": "stderr",
     "output_type": "stream",
     "text": [
      "C:\\Users\\SKS\\AppData\\Local\\Temp\\ipykernel_964\\433721850.py:47: FutureWarning: The frame.append method is deprecated and will be removed from pandas in a future version. Use pandas.concat instead.\n",
      "  df_player_info=df_player_info.append({'name':Name,'team':Team,'battingStyle':BattingStyle,'bowlingStyle':BowlingStyle,'playingRole':PlayingRole,'description':Description}, ignore_index=True)\n"
     ]
    },
    {
     "name": "stdout",
     "output_type": "stream",
     "text": [
      "103\n"
     ]
    },
    {
     "name": "stderr",
     "output_type": "stream",
     "text": [
      "C:\\Users\\SKS\\AppData\\Local\\Temp\\ipykernel_964\\433721850.py:47: FutureWarning: The frame.append method is deprecated and will be removed from pandas in a future version. Use pandas.concat instead.\n",
      "  df_player_info=df_player_info.append({'name':Name,'team':Team,'battingStyle':BattingStyle,'bowlingStyle':BowlingStyle,'playingRole':PlayingRole,'description':Description}, ignore_index=True)\n"
     ]
    },
    {
     "name": "stdout",
     "output_type": "stream",
     "text": [
      "104\n"
     ]
    },
    {
     "name": "stderr",
     "output_type": "stream",
     "text": [
      "C:\\Users\\SKS\\AppData\\Local\\Temp\\ipykernel_964\\433721850.py:47: FutureWarning: The frame.append method is deprecated and will be removed from pandas in a future version. Use pandas.concat instead.\n",
      "  df_player_info=df_player_info.append({'name':Name,'team':Team,'battingStyle':BattingStyle,'bowlingStyle':BowlingStyle,'playingRole':PlayingRole,'description':Description}, ignore_index=True)\n"
     ]
    },
    {
     "name": "stdout",
     "output_type": "stream",
     "text": [
      "105\n"
     ]
    },
    {
     "name": "stderr",
     "output_type": "stream",
     "text": [
      "C:\\Users\\SKS\\AppData\\Local\\Temp\\ipykernel_964\\433721850.py:47: FutureWarning: The frame.append method is deprecated and will be removed from pandas in a future version. Use pandas.concat instead.\n",
      "  df_player_info=df_player_info.append({'name':Name,'team':Team,'battingStyle':BattingStyle,'bowlingStyle':BowlingStyle,'playingRole':PlayingRole,'description':Description}, ignore_index=True)\n"
     ]
    },
    {
     "name": "stdout",
     "output_type": "stream",
     "text": [
      "106\n"
     ]
    },
    {
     "name": "stderr",
     "output_type": "stream",
     "text": [
      "C:\\Users\\SKS\\AppData\\Local\\Temp\\ipykernel_964\\433721850.py:47: FutureWarning: The frame.append method is deprecated and will be removed from pandas in a future version. Use pandas.concat instead.\n",
      "  df_player_info=df_player_info.append({'name':Name,'team':Team,'battingStyle':BattingStyle,'bowlingStyle':BowlingStyle,'playingRole':PlayingRole,'description':Description}, ignore_index=True)\n"
     ]
    },
    {
     "name": "stdout",
     "output_type": "stream",
     "text": [
      "107\n"
     ]
    },
    {
     "name": "stderr",
     "output_type": "stream",
     "text": [
      "C:\\Users\\SKS\\AppData\\Local\\Temp\\ipykernel_964\\433721850.py:47: FutureWarning: The frame.append method is deprecated and will be removed from pandas in a future version. Use pandas.concat instead.\n",
      "  df_player_info=df_player_info.append({'name':Name,'team':Team,'battingStyle':BattingStyle,'bowlingStyle':BowlingStyle,'playingRole':PlayingRole,'description':Description}, ignore_index=True)\n"
     ]
    },
    {
     "name": "stdout",
     "output_type": "stream",
     "text": [
      "108\n"
     ]
    },
    {
     "name": "stderr",
     "output_type": "stream",
     "text": [
      "C:\\Users\\SKS\\AppData\\Local\\Temp\\ipykernel_964\\433721850.py:47: FutureWarning: The frame.append method is deprecated and will be removed from pandas in a future version. Use pandas.concat instead.\n",
      "  df_player_info=df_player_info.append({'name':Name,'team':Team,'battingStyle':BattingStyle,'bowlingStyle':BowlingStyle,'playingRole':PlayingRole,'description':Description}, ignore_index=True)\n"
     ]
    },
    {
     "name": "stdout",
     "output_type": "stream",
     "text": [
      "109\n"
     ]
    },
    {
     "name": "stderr",
     "output_type": "stream",
     "text": [
      "C:\\Users\\SKS\\AppData\\Local\\Temp\\ipykernel_964\\433721850.py:47: FutureWarning: The frame.append method is deprecated and will be removed from pandas in a future version. Use pandas.concat instead.\n",
      "  df_player_info=df_player_info.append({'name':Name,'team':Team,'battingStyle':BattingStyle,'bowlingStyle':BowlingStyle,'playingRole':PlayingRole,'description':Description}, ignore_index=True)\n"
     ]
    },
    {
     "name": "stdout",
     "output_type": "stream",
     "text": [
      "110\n"
     ]
    },
    {
     "name": "stderr",
     "output_type": "stream",
     "text": [
      "C:\\Users\\SKS\\AppData\\Local\\Temp\\ipykernel_964\\433721850.py:47: FutureWarning: The frame.append method is deprecated and will be removed from pandas in a future version. Use pandas.concat instead.\n",
      "  df_player_info=df_player_info.append({'name':Name,'team':Team,'battingStyle':BattingStyle,'bowlingStyle':BowlingStyle,'playingRole':PlayingRole,'description':Description}, ignore_index=True)\n"
     ]
    },
    {
     "name": "stdout",
     "output_type": "stream",
     "text": [
      "111\n"
     ]
    },
    {
     "name": "stderr",
     "output_type": "stream",
     "text": [
      "C:\\Users\\SKS\\AppData\\Local\\Temp\\ipykernel_964\\433721850.py:47: FutureWarning: The frame.append method is deprecated and will be removed from pandas in a future version. Use pandas.concat instead.\n",
      "  df_player_info=df_player_info.append({'name':Name,'team':Team,'battingStyle':BattingStyle,'bowlingStyle':BowlingStyle,'playingRole':PlayingRole,'description':Description}, ignore_index=True)\n"
     ]
    },
    {
     "name": "stdout",
     "output_type": "stream",
     "text": [
      "112\n"
     ]
    },
    {
     "name": "stderr",
     "output_type": "stream",
     "text": [
      "C:\\Users\\SKS\\AppData\\Local\\Temp\\ipykernel_964\\433721850.py:47: FutureWarning: The frame.append method is deprecated and will be removed from pandas in a future version. Use pandas.concat instead.\n",
      "  df_player_info=df_player_info.append({'name':Name,'team':Team,'battingStyle':BattingStyle,'bowlingStyle':BowlingStyle,'playingRole':PlayingRole,'description':Description}, ignore_index=True)\n"
     ]
    },
    {
     "name": "stdout",
     "output_type": "stream",
     "text": [
      "113\n"
     ]
    },
    {
     "name": "stderr",
     "output_type": "stream",
     "text": [
      "C:\\Users\\SKS\\AppData\\Local\\Temp\\ipykernel_964\\433721850.py:47: FutureWarning: The frame.append method is deprecated and will be removed from pandas in a future version. Use pandas.concat instead.\n",
      "  df_player_info=df_player_info.append({'name':Name,'team':Team,'battingStyle':BattingStyle,'bowlingStyle':BowlingStyle,'playingRole':PlayingRole,'description':Description}, ignore_index=True)\n"
     ]
    },
    {
     "name": "stdout",
     "output_type": "stream",
     "text": [
      "114\n",
      "yes\n"
     ]
    },
    {
     "name": "stderr",
     "output_type": "stream",
     "text": [
      "C:\\Users\\SKS\\AppData\\Local\\Temp\\ipykernel_964\\433721850.py:47: FutureWarning: The frame.append method is deprecated and will be removed from pandas in a future version. Use pandas.concat instead.\n",
      "  df_player_info=df_player_info.append({'name':Name,'team':Team,'battingStyle':BattingStyle,'bowlingStyle':BowlingStyle,'playingRole':PlayingRole,'description':Description}, ignore_index=True)\n"
     ]
    },
    {
     "name": "stdout",
     "output_type": "stream",
     "text": [
      "116\n"
     ]
    },
    {
     "name": "stderr",
     "output_type": "stream",
     "text": [
      "C:\\Users\\SKS\\AppData\\Local\\Temp\\ipykernel_964\\433721850.py:47: FutureWarning: The frame.append method is deprecated and will be removed from pandas in a future version. Use pandas.concat instead.\n",
      "  df_player_info=df_player_info.append({'name':Name,'team':Team,'battingStyle':BattingStyle,'bowlingStyle':BowlingStyle,'playingRole':PlayingRole,'description':Description}, ignore_index=True)\n"
     ]
    },
    {
     "name": "stdout",
     "output_type": "stream",
     "text": [
      "117\n"
     ]
    },
    {
     "name": "stderr",
     "output_type": "stream",
     "text": [
      "C:\\Users\\SKS\\AppData\\Local\\Temp\\ipykernel_964\\433721850.py:47: FutureWarning: The frame.append method is deprecated and will be removed from pandas in a future version. Use pandas.concat instead.\n",
      "  df_player_info=df_player_info.append({'name':Name,'team':Team,'battingStyle':BattingStyle,'bowlingStyle':BowlingStyle,'playingRole':PlayingRole,'description':Description}, ignore_index=True)\n"
     ]
    },
    {
     "name": "stdout",
     "output_type": "stream",
     "text": [
      "118\n"
     ]
    },
    {
     "name": "stderr",
     "output_type": "stream",
     "text": [
      "C:\\Users\\SKS\\AppData\\Local\\Temp\\ipykernel_964\\433721850.py:47: FutureWarning: The frame.append method is deprecated and will be removed from pandas in a future version. Use pandas.concat instead.\n",
      "  df_player_info=df_player_info.append({'name':Name,'team':Team,'battingStyle':BattingStyle,'bowlingStyle':BowlingStyle,'playingRole':PlayingRole,'description':Description}, ignore_index=True)\n"
     ]
    },
    {
     "name": "stdout",
     "output_type": "stream",
     "text": [
      "119\n"
     ]
    },
    {
     "name": "stderr",
     "output_type": "stream",
     "text": [
      "C:\\Users\\SKS\\AppData\\Local\\Temp\\ipykernel_964\\433721850.py:47: FutureWarning: The frame.append method is deprecated and will be removed from pandas in a future version. Use pandas.concat instead.\n",
      "  df_player_info=df_player_info.append({'name':Name,'team':Team,'battingStyle':BattingStyle,'bowlingStyle':BowlingStyle,'playingRole':PlayingRole,'description':Description}, ignore_index=True)\n"
     ]
    },
    {
     "name": "stdout",
     "output_type": "stream",
     "text": [
      "120\n"
     ]
    },
    {
     "name": "stderr",
     "output_type": "stream",
     "text": [
      "C:\\Users\\SKS\\AppData\\Local\\Temp\\ipykernel_964\\433721850.py:47: FutureWarning: The frame.append method is deprecated and will be removed from pandas in a future version. Use pandas.concat instead.\n",
      "  df_player_info=df_player_info.append({'name':Name,'team':Team,'battingStyle':BattingStyle,'bowlingStyle':BowlingStyle,'playingRole':PlayingRole,'description':Description}, ignore_index=True)\n"
     ]
    },
    {
     "name": "stdout",
     "output_type": "stream",
     "text": [
      "121\n"
     ]
    },
    {
     "name": "stderr",
     "output_type": "stream",
     "text": [
      "C:\\Users\\SKS\\AppData\\Local\\Temp\\ipykernel_964\\433721850.py:47: FutureWarning: The frame.append method is deprecated and will be removed from pandas in a future version. Use pandas.concat instead.\n",
      "  df_player_info=df_player_info.append({'name':Name,'team':Team,'battingStyle':BattingStyle,'bowlingStyle':BowlingStyle,'playingRole':PlayingRole,'description':Description}, ignore_index=True)\n"
     ]
    },
    {
     "name": "stdout",
     "output_type": "stream",
     "text": [
      "122\n"
     ]
    },
    {
     "name": "stderr",
     "output_type": "stream",
     "text": [
      "C:\\Users\\SKS\\AppData\\Local\\Temp\\ipykernel_964\\433721850.py:47: FutureWarning: The frame.append method is deprecated and will be removed from pandas in a future version. Use pandas.concat instead.\n",
      "  df_player_info=df_player_info.append({'name':Name,'team':Team,'battingStyle':BattingStyle,'bowlingStyle':BowlingStyle,'playingRole':PlayingRole,'description':Description}, ignore_index=True)\n"
     ]
    },
    {
     "name": "stdout",
     "output_type": "stream",
     "text": [
      "123\n"
     ]
    },
    {
     "name": "stderr",
     "output_type": "stream",
     "text": [
      "C:\\Users\\SKS\\AppData\\Local\\Temp\\ipykernel_964\\433721850.py:47: FutureWarning: The frame.append method is deprecated and will be removed from pandas in a future version. Use pandas.concat instead.\n",
      "  df_player_info=df_player_info.append({'name':Name,'team':Team,'battingStyle':BattingStyle,'bowlingStyle':BowlingStyle,'playingRole':PlayingRole,'description':Description}, ignore_index=True)\n"
     ]
    },
    {
     "name": "stdout",
     "output_type": "stream",
     "text": [
      "124\n"
     ]
    },
    {
     "name": "stderr",
     "output_type": "stream",
     "text": [
      "C:\\Users\\SKS\\AppData\\Local\\Temp\\ipykernel_964\\433721850.py:47: FutureWarning: The frame.append method is deprecated and will be removed from pandas in a future version. Use pandas.concat instead.\n",
      "  df_player_info=df_player_info.append({'name':Name,'team':Team,'battingStyle':BattingStyle,'bowlingStyle':BowlingStyle,'playingRole':PlayingRole,'description':Description}, ignore_index=True)\n"
     ]
    },
    {
     "name": "stdout",
     "output_type": "stream",
     "text": [
      "125\n"
     ]
    },
    {
     "name": "stderr",
     "output_type": "stream",
     "text": [
      "C:\\Users\\SKS\\AppData\\Local\\Temp\\ipykernel_964\\433721850.py:47: FutureWarning: The frame.append method is deprecated and will be removed from pandas in a future version. Use pandas.concat instead.\n",
      "  df_player_info=df_player_info.append({'name':Name,'team':Team,'battingStyle':BattingStyle,'bowlingStyle':BowlingStyle,'playingRole':PlayingRole,'description':Description}, ignore_index=True)\n"
     ]
    },
    {
     "name": "stdout",
     "output_type": "stream",
     "text": [
      "126\n"
     ]
    },
    {
     "name": "stderr",
     "output_type": "stream",
     "text": [
      "C:\\Users\\SKS\\AppData\\Local\\Temp\\ipykernel_964\\433721850.py:47: FutureWarning: The frame.append method is deprecated and will be removed from pandas in a future version. Use pandas.concat instead.\n",
      "  df_player_info=df_player_info.append({'name':Name,'team':Team,'battingStyle':BattingStyle,'bowlingStyle':BowlingStyle,'playingRole':PlayingRole,'description':Description}, ignore_index=True)\n"
     ]
    },
    {
     "name": "stdout",
     "output_type": "stream",
     "text": [
      "127\n"
     ]
    },
    {
     "name": "stderr",
     "output_type": "stream",
     "text": [
      "C:\\Users\\SKS\\AppData\\Local\\Temp\\ipykernel_964\\433721850.py:47: FutureWarning: The frame.append method is deprecated and will be removed from pandas in a future version. Use pandas.concat instead.\n",
      "  df_player_info=df_player_info.append({'name':Name,'team':Team,'battingStyle':BattingStyle,'bowlingStyle':BowlingStyle,'playingRole':PlayingRole,'description':Description}, ignore_index=True)\n"
     ]
    },
    {
     "name": "stdout",
     "output_type": "stream",
     "text": [
      "128\n"
     ]
    },
    {
     "name": "stderr",
     "output_type": "stream",
     "text": [
      "C:\\Users\\SKS\\AppData\\Local\\Temp\\ipykernel_964\\433721850.py:47: FutureWarning: The frame.append method is deprecated and will be removed from pandas in a future version. Use pandas.concat instead.\n",
      "  df_player_info=df_player_info.append({'name':Name,'team':Team,'battingStyle':BattingStyle,'bowlingStyle':BowlingStyle,'playingRole':PlayingRole,'description':Description}, ignore_index=True)\n"
     ]
    },
    {
     "name": "stdout",
     "output_type": "stream",
     "text": [
      "129\n"
     ]
    },
    {
     "name": "stderr",
     "output_type": "stream",
     "text": [
      "C:\\Users\\SKS\\AppData\\Local\\Temp\\ipykernel_964\\433721850.py:47: FutureWarning: The frame.append method is deprecated and will be removed from pandas in a future version. Use pandas.concat instead.\n",
      "  df_player_info=df_player_info.append({'name':Name,'team':Team,'battingStyle':BattingStyle,'bowlingStyle':BowlingStyle,'playingRole':PlayingRole,'description':Description}, ignore_index=True)\n"
     ]
    },
    {
     "name": "stdout",
     "output_type": "stream",
     "text": [
      "130\n"
     ]
    },
    {
     "name": "stderr",
     "output_type": "stream",
     "text": [
      "C:\\Users\\SKS\\AppData\\Local\\Temp\\ipykernel_964\\433721850.py:47: FutureWarning: The frame.append method is deprecated and will be removed from pandas in a future version. Use pandas.concat instead.\n",
      "  df_player_info=df_player_info.append({'name':Name,'team':Team,'battingStyle':BattingStyle,'bowlingStyle':BowlingStyle,'playingRole':PlayingRole,'description':Description}, ignore_index=True)\n"
     ]
    },
    {
     "name": "stdout",
     "output_type": "stream",
     "text": [
      "131\n"
     ]
    },
    {
     "name": "stderr",
     "output_type": "stream",
     "text": [
      "C:\\Users\\SKS\\AppData\\Local\\Temp\\ipykernel_964\\433721850.py:47: FutureWarning: The frame.append method is deprecated and will be removed from pandas in a future version. Use pandas.concat instead.\n",
      "  df_player_info=df_player_info.append({'name':Name,'team':Team,'battingStyle':BattingStyle,'bowlingStyle':BowlingStyle,'playingRole':PlayingRole,'description':Description}, ignore_index=True)\n"
     ]
    },
    {
     "name": "stdout",
     "output_type": "stream",
     "text": [
      "132\n"
     ]
    },
    {
     "name": "stderr",
     "output_type": "stream",
     "text": [
      "C:\\Users\\SKS\\AppData\\Local\\Temp\\ipykernel_964\\433721850.py:47: FutureWarning: The frame.append method is deprecated and will be removed from pandas in a future version. Use pandas.concat instead.\n",
      "  df_player_info=df_player_info.append({'name':Name,'team':Team,'battingStyle':BattingStyle,'bowlingStyle':BowlingStyle,'playingRole':PlayingRole,'description':Description}, ignore_index=True)\n"
     ]
    },
    {
     "name": "stdout",
     "output_type": "stream",
     "text": [
      "133\n"
     ]
    },
    {
     "name": "stderr",
     "output_type": "stream",
     "text": [
      "C:\\Users\\SKS\\AppData\\Local\\Temp\\ipykernel_964\\433721850.py:47: FutureWarning: The frame.append method is deprecated and will be removed from pandas in a future version. Use pandas.concat instead.\n",
      "  df_player_info=df_player_info.append({'name':Name,'team':Team,'battingStyle':BattingStyle,'bowlingStyle':BowlingStyle,'playingRole':PlayingRole,'description':Description}, ignore_index=True)\n"
     ]
    },
    {
     "name": "stdout",
     "output_type": "stream",
     "text": [
      "134\n"
     ]
    },
    {
     "name": "stderr",
     "output_type": "stream",
     "text": [
      "C:\\Users\\SKS\\AppData\\Local\\Temp\\ipykernel_964\\433721850.py:47: FutureWarning: The frame.append method is deprecated and will be removed from pandas in a future version. Use pandas.concat instead.\n",
      "  df_player_info=df_player_info.append({'name':Name,'team':Team,'battingStyle':BattingStyle,'bowlingStyle':BowlingStyle,'playingRole':PlayingRole,'description':Description}, ignore_index=True)\n"
     ]
    },
    {
     "name": "stdout",
     "output_type": "stream",
     "text": [
      "135\n"
     ]
    },
    {
     "name": "stderr",
     "output_type": "stream",
     "text": [
      "C:\\Users\\SKS\\AppData\\Local\\Temp\\ipykernel_964\\433721850.py:47: FutureWarning: The frame.append method is deprecated and will be removed from pandas in a future version. Use pandas.concat instead.\n",
      "  df_player_info=df_player_info.append({'name':Name,'team':Team,'battingStyle':BattingStyle,'bowlingStyle':BowlingStyle,'playingRole':PlayingRole,'description':Description}, ignore_index=True)\n"
     ]
    },
    {
     "name": "stdout",
     "output_type": "stream",
     "text": [
      "136\n"
     ]
    },
    {
     "name": "stderr",
     "output_type": "stream",
     "text": [
      "C:\\Users\\SKS\\AppData\\Local\\Temp\\ipykernel_964\\433721850.py:47: FutureWarning: The frame.append method is deprecated and will be removed from pandas in a future version. Use pandas.concat instead.\n",
      "  df_player_info=df_player_info.append({'name':Name,'team':Team,'battingStyle':BattingStyle,'bowlingStyle':BowlingStyle,'playingRole':PlayingRole,'description':Description}, ignore_index=True)\n"
     ]
    },
    {
     "name": "stdout",
     "output_type": "stream",
     "text": [
      "137\n"
     ]
    },
    {
     "name": "stderr",
     "output_type": "stream",
     "text": [
      "C:\\Users\\SKS\\AppData\\Local\\Temp\\ipykernel_964\\433721850.py:47: FutureWarning: The frame.append method is deprecated and will be removed from pandas in a future version. Use pandas.concat instead.\n",
      "  df_player_info=df_player_info.append({'name':Name,'team':Team,'battingStyle':BattingStyle,'bowlingStyle':BowlingStyle,'playingRole':PlayingRole,'description':Description}, ignore_index=True)\n"
     ]
    },
    {
     "name": "stdout",
     "output_type": "stream",
     "text": [
      "138\n",
      "yes\n"
     ]
    },
    {
     "name": "stderr",
     "output_type": "stream",
     "text": [
      "C:\\Users\\SKS\\AppData\\Local\\Temp\\ipykernel_964\\433721850.py:47: FutureWarning: The frame.append method is deprecated and will be removed from pandas in a future version. Use pandas.concat instead.\n",
      "  df_player_info=df_player_info.append({'name':Name,'team':Team,'battingStyle':BattingStyle,'bowlingStyle':BowlingStyle,'playingRole':PlayingRole,'description':Description}, ignore_index=True)\n"
     ]
    },
    {
     "name": "stdout",
     "output_type": "stream",
     "text": [
      "140\n"
     ]
    },
    {
     "name": "stderr",
     "output_type": "stream",
     "text": [
      "C:\\Users\\SKS\\AppData\\Local\\Temp\\ipykernel_964\\433721850.py:47: FutureWarning: The frame.append method is deprecated and will be removed from pandas in a future version. Use pandas.concat instead.\n",
      "  df_player_info=df_player_info.append({'name':Name,'team':Team,'battingStyle':BattingStyle,'bowlingStyle':BowlingStyle,'playingRole':PlayingRole,'description':Description}, ignore_index=True)\n"
     ]
    },
    {
     "name": "stdout",
     "output_type": "stream",
     "text": [
      "141\n"
     ]
    },
    {
     "name": "stderr",
     "output_type": "stream",
     "text": [
      "C:\\Users\\SKS\\AppData\\Local\\Temp\\ipykernel_964\\433721850.py:47: FutureWarning: The frame.append method is deprecated and will be removed from pandas in a future version. Use pandas.concat instead.\n",
      "  df_player_info=df_player_info.append({'name':Name,'team':Team,'battingStyle':BattingStyle,'bowlingStyle':BowlingStyle,'playingRole':PlayingRole,'description':Description}, ignore_index=True)\n"
     ]
    },
    {
     "name": "stdout",
     "output_type": "stream",
     "text": [
      "142\n"
     ]
    },
    {
     "name": "stderr",
     "output_type": "stream",
     "text": [
      "C:\\Users\\SKS\\AppData\\Local\\Temp\\ipykernel_964\\433721850.py:47: FutureWarning: The frame.append method is deprecated and will be removed from pandas in a future version. Use pandas.concat instead.\n",
      "  df_player_info=df_player_info.append({'name':Name,'team':Team,'battingStyle':BattingStyle,'bowlingStyle':BowlingStyle,'playingRole':PlayingRole,'description':Description}, ignore_index=True)\n"
     ]
    },
    {
     "name": "stdout",
     "output_type": "stream",
     "text": [
      "143\n"
     ]
    },
    {
     "name": "stderr",
     "output_type": "stream",
     "text": [
      "C:\\Users\\SKS\\AppData\\Local\\Temp\\ipykernel_964\\433721850.py:47: FutureWarning: The frame.append method is deprecated and will be removed from pandas in a future version. Use pandas.concat instead.\n",
      "  df_player_info=df_player_info.append({'name':Name,'team':Team,'battingStyle':BattingStyle,'bowlingStyle':BowlingStyle,'playingRole':PlayingRole,'description':Description}, ignore_index=True)\n"
     ]
    },
    {
     "name": "stdout",
     "output_type": "stream",
     "text": [
      "144\n"
     ]
    },
    {
     "name": "stderr",
     "output_type": "stream",
     "text": [
      "C:\\Users\\SKS\\AppData\\Local\\Temp\\ipykernel_964\\433721850.py:47: FutureWarning: The frame.append method is deprecated and will be removed from pandas in a future version. Use pandas.concat instead.\n",
      "  df_player_info=df_player_info.append({'name':Name,'team':Team,'battingStyle':BattingStyle,'bowlingStyle':BowlingStyle,'playingRole':PlayingRole,'description':Description}, ignore_index=True)\n"
     ]
    },
    {
     "name": "stdout",
     "output_type": "stream",
     "text": [
      "145\n"
     ]
    },
    {
     "name": "stderr",
     "output_type": "stream",
     "text": [
      "C:\\Users\\SKS\\AppData\\Local\\Temp\\ipykernel_964\\433721850.py:47: FutureWarning: The frame.append method is deprecated and will be removed from pandas in a future version. Use pandas.concat instead.\n",
      "  df_player_info=df_player_info.append({'name':Name,'team':Team,'battingStyle':BattingStyle,'bowlingStyle':BowlingStyle,'playingRole':PlayingRole,'description':Description}, ignore_index=True)\n"
     ]
    },
    {
     "name": "stdout",
     "output_type": "stream",
     "text": [
      "146\n"
     ]
    },
    {
     "name": "stderr",
     "output_type": "stream",
     "text": [
      "C:\\Users\\SKS\\AppData\\Local\\Temp\\ipykernel_964\\433721850.py:47: FutureWarning: The frame.append method is deprecated and will be removed from pandas in a future version. Use pandas.concat instead.\n",
      "  df_player_info=df_player_info.append({'name':Name,'team':Team,'battingStyle':BattingStyle,'bowlingStyle':BowlingStyle,'playingRole':PlayingRole,'description':Description}, ignore_index=True)\n"
     ]
    },
    {
     "name": "stdout",
     "output_type": "stream",
     "text": [
      "147\n"
     ]
    },
    {
     "name": "stderr",
     "output_type": "stream",
     "text": [
      "C:\\Users\\SKS\\AppData\\Local\\Temp\\ipykernel_964\\433721850.py:47: FutureWarning: The frame.append method is deprecated and will be removed from pandas in a future version. Use pandas.concat instead.\n",
      "  df_player_info=df_player_info.append({'name':Name,'team':Team,'battingStyle':BattingStyle,'bowlingStyle':BowlingStyle,'playingRole':PlayingRole,'description':Description}, ignore_index=True)\n"
     ]
    },
    {
     "name": "stdout",
     "output_type": "stream",
     "text": [
      "148\n"
     ]
    },
    {
     "name": "stderr",
     "output_type": "stream",
     "text": [
      "C:\\Users\\SKS\\AppData\\Local\\Temp\\ipykernel_964\\433721850.py:47: FutureWarning: The frame.append method is deprecated and will be removed from pandas in a future version. Use pandas.concat instead.\n",
      "  df_player_info=df_player_info.append({'name':Name,'team':Team,'battingStyle':BattingStyle,'bowlingStyle':BowlingStyle,'playingRole':PlayingRole,'description':Description}, ignore_index=True)\n"
     ]
    },
    {
     "name": "stdout",
     "output_type": "stream",
     "text": [
      "149\n"
     ]
    },
    {
     "name": "stderr",
     "output_type": "stream",
     "text": [
      "C:\\Users\\SKS\\AppData\\Local\\Temp\\ipykernel_964\\433721850.py:47: FutureWarning: The frame.append method is deprecated and will be removed from pandas in a future version. Use pandas.concat instead.\n",
      "  df_player_info=df_player_info.append({'name':Name,'team':Team,'battingStyle':BattingStyle,'bowlingStyle':BowlingStyle,'playingRole':PlayingRole,'description':Description}, ignore_index=True)\n"
     ]
    },
    {
     "name": "stdout",
     "output_type": "stream",
     "text": [
      "150\n"
     ]
    },
    {
     "name": "stderr",
     "output_type": "stream",
     "text": [
      "C:\\Users\\SKS\\AppData\\Local\\Temp\\ipykernel_964\\433721850.py:47: FutureWarning: The frame.append method is deprecated and will be removed from pandas in a future version. Use pandas.concat instead.\n",
      "  df_player_info=df_player_info.append({'name':Name,'team':Team,'battingStyle':BattingStyle,'bowlingStyle':BowlingStyle,'playingRole':PlayingRole,'description':Description}, ignore_index=True)\n"
     ]
    },
    {
     "name": "stdout",
     "output_type": "stream",
     "text": [
      "151\n"
     ]
    },
    {
     "name": "stderr",
     "output_type": "stream",
     "text": [
      "C:\\Users\\SKS\\AppData\\Local\\Temp\\ipykernel_964\\433721850.py:47: FutureWarning: The frame.append method is deprecated and will be removed from pandas in a future version. Use pandas.concat instead.\n",
      "  df_player_info=df_player_info.append({'name':Name,'team':Team,'battingStyle':BattingStyle,'bowlingStyle':BowlingStyle,'playingRole':PlayingRole,'description':Description}, ignore_index=True)\n"
     ]
    },
    {
     "name": "stdout",
     "output_type": "stream",
     "text": [
      "152\n"
     ]
    },
    {
     "name": "stderr",
     "output_type": "stream",
     "text": [
      "C:\\Users\\SKS\\AppData\\Local\\Temp\\ipykernel_964\\433721850.py:47: FutureWarning: The frame.append method is deprecated and will be removed from pandas in a future version. Use pandas.concat instead.\n",
      "  df_player_info=df_player_info.append({'name':Name,'team':Team,'battingStyle':BattingStyle,'bowlingStyle':BowlingStyle,'playingRole':PlayingRole,'description':Description}, ignore_index=True)\n"
     ]
    },
    {
     "name": "stdout",
     "output_type": "stream",
     "text": [
      "153\n"
     ]
    },
    {
     "name": "stderr",
     "output_type": "stream",
     "text": [
      "C:\\Users\\SKS\\AppData\\Local\\Temp\\ipykernel_964\\433721850.py:47: FutureWarning: The frame.append method is deprecated and will be removed from pandas in a future version. Use pandas.concat instead.\n",
      "  df_player_info=df_player_info.append({'name':Name,'team':Team,'battingStyle':BattingStyle,'bowlingStyle':BowlingStyle,'playingRole':PlayingRole,'description':Description}, ignore_index=True)\n"
     ]
    },
    {
     "name": "stdout",
     "output_type": "stream",
     "text": [
      "154\n"
     ]
    },
    {
     "name": "stderr",
     "output_type": "stream",
     "text": [
      "C:\\Users\\SKS\\AppData\\Local\\Temp\\ipykernel_964\\433721850.py:47: FutureWarning: The frame.append method is deprecated and will be removed from pandas in a future version. Use pandas.concat instead.\n",
      "  df_player_info=df_player_info.append({'name':Name,'team':Team,'battingStyle':BattingStyle,'bowlingStyle':BowlingStyle,'playingRole':PlayingRole,'description':Description}, ignore_index=True)\n"
     ]
    },
    {
     "name": "stdout",
     "output_type": "stream",
     "text": [
      "155\n"
     ]
    },
    {
     "name": "stderr",
     "output_type": "stream",
     "text": [
      "C:\\Users\\SKS\\AppData\\Local\\Temp\\ipykernel_964\\433721850.py:47: FutureWarning: The frame.append method is deprecated and will be removed from pandas in a future version. Use pandas.concat instead.\n",
      "  df_player_info=df_player_info.append({'name':Name,'team':Team,'battingStyle':BattingStyle,'bowlingStyle':BowlingStyle,'playingRole':PlayingRole,'description':Description}, ignore_index=True)\n"
     ]
    },
    {
     "name": "stdout",
     "output_type": "stream",
     "text": [
      "156\n"
     ]
    },
    {
     "name": "stderr",
     "output_type": "stream",
     "text": [
      "C:\\Users\\SKS\\AppData\\Local\\Temp\\ipykernel_964\\433721850.py:47: FutureWarning: The frame.append method is deprecated and will be removed from pandas in a future version. Use pandas.concat instead.\n",
      "  df_player_info=df_player_info.append({'name':Name,'team':Team,'battingStyle':BattingStyle,'bowlingStyle':BowlingStyle,'playingRole':PlayingRole,'description':Description}, ignore_index=True)\n"
     ]
    },
    {
     "name": "stdout",
     "output_type": "stream",
     "text": [
      "157\n"
     ]
    },
    {
     "name": "stderr",
     "output_type": "stream",
     "text": [
      "C:\\Users\\SKS\\AppData\\Local\\Temp\\ipykernel_964\\433721850.py:47: FutureWarning: The frame.append method is deprecated and will be removed from pandas in a future version. Use pandas.concat instead.\n",
      "  df_player_info=df_player_info.append({'name':Name,'team':Team,'battingStyle':BattingStyle,'bowlingStyle':BowlingStyle,'playingRole':PlayingRole,'description':Description}, ignore_index=True)\n"
     ]
    },
    {
     "name": "stdout",
     "output_type": "stream",
     "text": [
      "158\n"
     ]
    },
    {
     "name": "stderr",
     "output_type": "stream",
     "text": [
      "C:\\Users\\SKS\\AppData\\Local\\Temp\\ipykernel_964\\433721850.py:47: FutureWarning: The frame.append method is deprecated and will be removed from pandas in a future version. Use pandas.concat instead.\n",
      "  df_player_info=df_player_info.append({'name':Name,'team':Team,'battingStyle':BattingStyle,'bowlingStyle':BowlingStyle,'playingRole':PlayingRole,'description':Description}, ignore_index=True)\n"
     ]
    },
    {
     "name": "stdout",
     "output_type": "stream",
     "text": [
      "159\n"
     ]
    },
    {
     "name": "stderr",
     "output_type": "stream",
     "text": [
      "C:\\Users\\SKS\\AppData\\Local\\Temp\\ipykernel_964\\433721850.py:47: FutureWarning: The frame.append method is deprecated and will be removed from pandas in a future version. Use pandas.concat instead.\n",
      "  df_player_info=df_player_info.append({'name':Name,'team':Team,'battingStyle':BattingStyle,'bowlingStyle':BowlingStyle,'playingRole':PlayingRole,'description':Description}, ignore_index=True)\n"
     ]
    },
    {
     "name": "stdout",
     "output_type": "stream",
     "text": [
      "160\n"
     ]
    },
    {
     "name": "stderr",
     "output_type": "stream",
     "text": [
      "C:\\Users\\SKS\\AppData\\Local\\Temp\\ipykernel_964\\433721850.py:47: FutureWarning: The frame.append method is deprecated and will be removed from pandas in a future version. Use pandas.concat instead.\n",
      "  df_player_info=df_player_info.append({'name':Name,'team':Team,'battingStyle':BattingStyle,'bowlingStyle':BowlingStyle,'playingRole':PlayingRole,'description':Description}, ignore_index=True)\n"
     ]
    },
    {
     "name": "stdout",
     "output_type": "stream",
     "text": [
      "161\n"
     ]
    },
    {
     "name": "stderr",
     "output_type": "stream",
     "text": [
      "C:\\Users\\SKS\\AppData\\Local\\Temp\\ipykernel_964\\433721850.py:47: FutureWarning: The frame.append method is deprecated and will be removed from pandas in a future version. Use pandas.concat instead.\n",
      "  df_player_info=df_player_info.append({'name':Name,'team':Team,'battingStyle':BattingStyle,'bowlingStyle':BowlingStyle,'playingRole':PlayingRole,'description':Description}, ignore_index=True)\n"
     ]
    },
    {
     "name": "stdout",
     "output_type": "stream",
     "text": [
      "162\n"
     ]
    },
    {
     "name": "stderr",
     "output_type": "stream",
     "text": [
      "C:\\Users\\SKS\\AppData\\Local\\Temp\\ipykernel_964\\433721850.py:47: FutureWarning: The frame.append method is deprecated and will be removed from pandas in a future version. Use pandas.concat instead.\n",
      "  df_player_info=df_player_info.append({'name':Name,'team':Team,'battingStyle':BattingStyle,'bowlingStyle':BowlingStyle,'playingRole':PlayingRole,'description':Description}, ignore_index=True)\n"
     ]
    },
    {
     "name": "stdout",
     "output_type": "stream",
     "text": [
      "163\n"
     ]
    },
    {
     "name": "stderr",
     "output_type": "stream",
     "text": [
      "C:\\Users\\SKS\\AppData\\Local\\Temp\\ipykernel_964\\433721850.py:47: FutureWarning: The frame.append method is deprecated and will be removed from pandas in a future version. Use pandas.concat instead.\n",
      "  df_player_info=df_player_info.append({'name':Name,'team':Team,'battingStyle':BattingStyle,'bowlingStyle':BowlingStyle,'playingRole':PlayingRole,'description':Description}, ignore_index=True)\n"
     ]
    },
    {
     "name": "stdout",
     "output_type": "stream",
     "text": [
      "164\n",
      "yes\n"
     ]
    },
    {
     "name": "stderr",
     "output_type": "stream",
     "text": [
      "C:\\Users\\SKS\\AppData\\Local\\Temp\\ipykernel_964\\433721850.py:47: FutureWarning: The frame.append method is deprecated and will be removed from pandas in a future version. Use pandas.concat instead.\n",
      "  df_player_info=df_player_info.append({'name':Name,'team':Team,'battingStyle':BattingStyle,'bowlingStyle':BowlingStyle,'playingRole':PlayingRole,'description':Description}, ignore_index=True)\n"
     ]
    },
    {
     "name": "stdout",
     "output_type": "stream",
     "text": [
      "166\n"
     ]
    },
    {
     "name": "stderr",
     "output_type": "stream",
     "text": [
      "C:\\Users\\SKS\\AppData\\Local\\Temp\\ipykernel_964\\433721850.py:47: FutureWarning: The frame.append method is deprecated and will be removed from pandas in a future version. Use pandas.concat instead.\n",
      "  df_player_info=df_player_info.append({'name':Name,'team':Team,'battingStyle':BattingStyle,'bowlingStyle':BowlingStyle,'playingRole':PlayingRole,'description':Description}, ignore_index=True)\n"
     ]
    },
    {
     "name": "stdout",
     "output_type": "stream",
     "text": [
      "167\n"
     ]
    },
    {
     "name": "stderr",
     "output_type": "stream",
     "text": [
      "C:\\Users\\SKS\\AppData\\Local\\Temp\\ipykernel_964\\433721850.py:47: FutureWarning: The frame.append method is deprecated and will be removed from pandas in a future version. Use pandas.concat instead.\n",
      "  df_player_info=df_player_info.append({'name':Name,'team':Team,'battingStyle':BattingStyle,'bowlingStyle':BowlingStyle,'playingRole':PlayingRole,'description':Description}, ignore_index=True)\n"
     ]
    },
    {
     "name": "stdout",
     "output_type": "stream",
     "text": [
      "168\n"
     ]
    },
    {
     "name": "stderr",
     "output_type": "stream",
     "text": [
      "C:\\Users\\SKS\\AppData\\Local\\Temp\\ipykernel_964\\433721850.py:47: FutureWarning: The frame.append method is deprecated and will be removed from pandas in a future version. Use pandas.concat instead.\n",
      "  df_player_info=df_player_info.append({'name':Name,'team':Team,'battingStyle':BattingStyle,'bowlingStyle':BowlingStyle,'playingRole':PlayingRole,'description':Description}, ignore_index=True)\n"
     ]
    },
    {
     "name": "stdout",
     "output_type": "stream",
     "text": [
      "169\n"
     ]
    },
    {
     "name": "stderr",
     "output_type": "stream",
     "text": [
      "C:\\Users\\SKS\\AppData\\Local\\Temp\\ipykernel_964\\433721850.py:47: FutureWarning: The frame.append method is deprecated and will be removed from pandas in a future version. Use pandas.concat instead.\n",
      "  df_player_info=df_player_info.append({'name':Name,'team':Team,'battingStyle':BattingStyle,'bowlingStyle':BowlingStyle,'playingRole':PlayingRole,'description':Description}, ignore_index=True)\n"
     ]
    },
    {
     "name": "stdout",
     "output_type": "stream",
     "text": [
      "170\n"
     ]
    },
    {
     "name": "stderr",
     "output_type": "stream",
     "text": [
      "C:\\Users\\SKS\\AppData\\Local\\Temp\\ipykernel_964\\433721850.py:47: FutureWarning: The frame.append method is deprecated and will be removed from pandas in a future version. Use pandas.concat instead.\n",
      "  df_player_info=df_player_info.append({'name':Name,'team':Team,'battingStyle':BattingStyle,'bowlingStyle':BowlingStyle,'playingRole':PlayingRole,'description':Description}, ignore_index=True)\n"
     ]
    },
    {
     "name": "stdout",
     "output_type": "stream",
     "text": [
      "171\n"
     ]
    },
    {
     "name": "stderr",
     "output_type": "stream",
     "text": [
      "C:\\Users\\SKS\\AppData\\Local\\Temp\\ipykernel_964\\433721850.py:47: FutureWarning: The frame.append method is deprecated and will be removed from pandas in a future version. Use pandas.concat instead.\n",
      "  df_player_info=df_player_info.append({'name':Name,'team':Team,'battingStyle':BattingStyle,'bowlingStyle':BowlingStyle,'playingRole':PlayingRole,'description':Description}, ignore_index=True)\n"
     ]
    },
    {
     "name": "stdout",
     "output_type": "stream",
     "text": [
      "172\n"
     ]
    },
    {
     "name": "stderr",
     "output_type": "stream",
     "text": [
      "C:\\Users\\SKS\\AppData\\Local\\Temp\\ipykernel_964\\433721850.py:47: FutureWarning: The frame.append method is deprecated and will be removed from pandas in a future version. Use pandas.concat instead.\n",
      "  df_player_info=df_player_info.append({'name':Name,'team':Team,'battingStyle':BattingStyle,'bowlingStyle':BowlingStyle,'playingRole':PlayingRole,'description':Description}, ignore_index=True)\n"
     ]
    },
    {
     "name": "stdout",
     "output_type": "stream",
     "text": [
      "173\n"
     ]
    },
    {
     "name": "stderr",
     "output_type": "stream",
     "text": [
      "C:\\Users\\SKS\\AppData\\Local\\Temp\\ipykernel_964\\433721850.py:47: FutureWarning: The frame.append method is deprecated and will be removed from pandas in a future version. Use pandas.concat instead.\n",
      "  df_player_info=df_player_info.append({'name':Name,'team':Team,'battingStyle':BattingStyle,'bowlingStyle':BowlingStyle,'playingRole':PlayingRole,'description':Description}, ignore_index=True)\n"
     ]
    },
    {
     "name": "stdout",
     "output_type": "stream",
     "text": [
      "174\n"
     ]
    },
    {
     "name": "stderr",
     "output_type": "stream",
     "text": [
      "C:\\Users\\SKS\\AppData\\Local\\Temp\\ipykernel_964\\433721850.py:47: FutureWarning: The frame.append method is deprecated and will be removed from pandas in a future version. Use pandas.concat instead.\n",
      "  df_player_info=df_player_info.append({'name':Name,'team':Team,'battingStyle':BattingStyle,'bowlingStyle':BowlingStyle,'playingRole':PlayingRole,'description':Description}, ignore_index=True)\n"
     ]
    },
    {
     "name": "stdout",
     "output_type": "stream",
     "text": [
      "175\n"
     ]
    },
    {
     "name": "stderr",
     "output_type": "stream",
     "text": [
      "C:\\Users\\SKS\\AppData\\Local\\Temp\\ipykernel_964\\433721850.py:47: FutureWarning: The frame.append method is deprecated and will be removed from pandas in a future version. Use pandas.concat instead.\n",
      "  df_player_info=df_player_info.append({'name':Name,'team':Team,'battingStyle':BattingStyle,'bowlingStyle':BowlingStyle,'playingRole':PlayingRole,'description':Description}, ignore_index=True)\n"
     ]
    },
    {
     "name": "stdout",
     "output_type": "stream",
     "text": [
      "176\n"
     ]
    },
    {
     "name": "stderr",
     "output_type": "stream",
     "text": [
      "C:\\Users\\SKS\\AppData\\Local\\Temp\\ipykernel_964\\433721850.py:47: FutureWarning: The frame.append method is deprecated and will be removed from pandas in a future version. Use pandas.concat instead.\n",
      "  df_player_info=df_player_info.append({'name':Name,'team':Team,'battingStyle':BattingStyle,'bowlingStyle':BowlingStyle,'playingRole':PlayingRole,'description':Description}, ignore_index=True)\n"
     ]
    },
    {
     "name": "stdout",
     "output_type": "stream",
     "text": [
      "177\n"
     ]
    },
    {
     "name": "stderr",
     "output_type": "stream",
     "text": [
      "C:\\Users\\SKS\\AppData\\Local\\Temp\\ipykernel_964\\433721850.py:47: FutureWarning: The frame.append method is deprecated and will be removed from pandas in a future version. Use pandas.concat instead.\n",
      "  df_player_info=df_player_info.append({'name':Name,'team':Team,'battingStyle':BattingStyle,'bowlingStyle':BowlingStyle,'playingRole':PlayingRole,'description':Description}, ignore_index=True)\n"
     ]
    },
    {
     "name": "stdout",
     "output_type": "stream",
     "text": [
      "178\n"
     ]
    },
    {
     "name": "stderr",
     "output_type": "stream",
     "text": [
      "C:\\Users\\SKS\\AppData\\Local\\Temp\\ipykernel_964\\433721850.py:47: FutureWarning: The frame.append method is deprecated and will be removed from pandas in a future version. Use pandas.concat instead.\n",
      "  df_player_info=df_player_info.append({'name':Name,'team':Team,'battingStyle':BattingStyle,'bowlingStyle':BowlingStyle,'playingRole':PlayingRole,'description':Description}, ignore_index=True)\n"
     ]
    },
    {
     "name": "stdout",
     "output_type": "stream",
     "text": [
      "179\n"
     ]
    },
    {
     "name": "stderr",
     "output_type": "stream",
     "text": [
      "C:\\Users\\SKS\\AppData\\Local\\Temp\\ipykernel_964\\433721850.py:47: FutureWarning: The frame.append method is deprecated and will be removed from pandas in a future version. Use pandas.concat instead.\n",
      "  df_player_info=df_player_info.append({'name':Name,'team':Team,'battingStyle':BattingStyle,'bowlingStyle':BowlingStyle,'playingRole':PlayingRole,'description':Description}, ignore_index=True)\n"
     ]
    },
    {
     "name": "stdout",
     "output_type": "stream",
     "text": [
      "180\n"
     ]
    },
    {
     "name": "stderr",
     "output_type": "stream",
     "text": [
      "C:\\Users\\SKS\\AppData\\Local\\Temp\\ipykernel_964\\433721850.py:47: FutureWarning: The frame.append method is deprecated and will be removed from pandas in a future version. Use pandas.concat instead.\n",
      "  df_player_info=df_player_info.append({'name':Name,'team':Team,'battingStyle':BattingStyle,'bowlingStyle':BowlingStyle,'playingRole':PlayingRole,'description':Description}, ignore_index=True)\n"
     ]
    },
    {
     "name": "stdout",
     "output_type": "stream",
     "text": [
      "181\n"
     ]
    },
    {
     "name": "stderr",
     "output_type": "stream",
     "text": [
      "C:\\Users\\SKS\\AppData\\Local\\Temp\\ipykernel_964\\433721850.py:47: FutureWarning: The frame.append method is deprecated and will be removed from pandas in a future version. Use pandas.concat instead.\n",
      "  df_player_info=df_player_info.append({'name':Name,'team':Team,'battingStyle':BattingStyle,'bowlingStyle':BowlingStyle,'playingRole':PlayingRole,'description':Description}, ignore_index=True)\n"
     ]
    },
    {
     "name": "stdout",
     "output_type": "stream",
     "text": [
      "182\n"
     ]
    },
    {
     "name": "stderr",
     "output_type": "stream",
     "text": [
      "C:\\Users\\SKS\\AppData\\Local\\Temp\\ipykernel_964\\433721850.py:47: FutureWarning: The frame.append method is deprecated and will be removed from pandas in a future version. Use pandas.concat instead.\n",
      "  df_player_info=df_player_info.append({'name':Name,'team':Team,'battingStyle':BattingStyle,'bowlingStyle':BowlingStyle,'playingRole':PlayingRole,'description':Description}, ignore_index=True)\n"
     ]
    },
    {
     "name": "stdout",
     "output_type": "stream",
     "text": [
      "183\n"
     ]
    },
    {
     "name": "stderr",
     "output_type": "stream",
     "text": [
      "C:\\Users\\SKS\\AppData\\Local\\Temp\\ipykernel_964\\433721850.py:47: FutureWarning: The frame.append method is deprecated and will be removed from pandas in a future version. Use pandas.concat instead.\n",
      "  df_player_info=df_player_info.append({'name':Name,'team':Team,'battingStyle':BattingStyle,'bowlingStyle':BowlingStyle,'playingRole':PlayingRole,'description':Description}, ignore_index=True)\n"
     ]
    },
    {
     "name": "stdout",
     "output_type": "stream",
     "text": [
      "184\n"
     ]
    },
    {
     "name": "stderr",
     "output_type": "stream",
     "text": [
      "C:\\Users\\SKS\\AppData\\Local\\Temp\\ipykernel_964\\433721850.py:47: FutureWarning: The frame.append method is deprecated and will be removed from pandas in a future version. Use pandas.concat instead.\n",
      "  df_player_info=df_player_info.append({'name':Name,'team':Team,'battingStyle':BattingStyle,'bowlingStyle':BowlingStyle,'playingRole':PlayingRole,'description':Description}, ignore_index=True)\n"
     ]
    },
    {
     "name": "stdout",
     "output_type": "stream",
     "text": [
      "185\n"
     ]
    },
    {
     "name": "stderr",
     "output_type": "stream",
     "text": [
      "C:\\Users\\SKS\\AppData\\Local\\Temp\\ipykernel_964\\433721850.py:47: FutureWarning: The frame.append method is deprecated and will be removed from pandas in a future version. Use pandas.concat instead.\n",
      "  df_player_info=df_player_info.append({'name':Name,'team':Team,'battingStyle':BattingStyle,'bowlingStyle':BowlingStyle,'playingRole':PlayingRole,'description':Description}, ignore_index=True)\n"
     ]
    },
    {
     "name": "stdout",
     "output_type": "stream",
     "text": [
      "186\n"
     ]
    },
    {
     "name": "stderr",
     "output_type": "stream",
     "text": [
      "C:\\Users\\SKS\\AppData\\Local\\Temp\\ipykernel_964\\433721850.py:47: FutureWarning: The frame.append method is deprecated and will be removed from pandas in a future version. Use pandas.concat instead.\n",
      "  df_player_info=df_player_info.append({'name':Name,'team':Team,'battingStyle':BattingStyle,'bowlingStyle':BowlingStyle,'playingRole':PlayingRole,'description':Description}, ignore_index=True)\n"
     ]
    },
    {
     "name": "stdout",
     "output_type": "stream",
     "text": [
      "187\n"
     ]
    },
    {
     "name": "stderr",
     "output_type": "stream",
     "text": [
      "C:\\Users\\SKS\\AppData\\Local\\Temp\\ipykernel_964\\433721850.py:47: FutureWarning: The frame.append method is deprecated and will be removed from pandas in a future version. Use pandas.concat instead.\n",
      "  df_player_info=df_player_info.append({'name':Name,'team':Team,'battingStyle':BattingStyle,'bowlingStyle':BowlingStyle,'playingRole':PlayingRole,'description':Description}, ignore_index=True)\n"
     ]
    },
    {
     "name": "stdout",
     "output_type": "stream",
     "text": [
      "188\n"
     ]
    },
    {
     "name": "stderr",
     "output_type": "stream",
     "text": [
      "C:\\Users\\SKS\\AppData\\Local\\Temp\\ipykernel_964\\433721850.py:47: FutureWarning: The frame.append method is deprecated and will be removed from pandas in a future version. Use pandas.concat instead.\n",
      "  df_player_info=df_player_info.append({'name':Name,'team':Team,'battingStyle':BattingStyle,'bowlingStyle':BowlingStyle,'playingRole':PlayingRole,'description':Description}, ignore_index=True)\n"
     ]
    },
    {
     "name": "stdout",
     "output_type": "stream",
     "text": [
      "189\n"
     ]
    },
    {
     "name": "stderr",
     "output_type": "stream",
     "text": [
      "C:\\Users\\SKS\\AppData\\Local\\Temp\\ipykernel_964\\433721850.py:47: FutureWarning: The frame.append method is deprecated and will be removed from pandas in a future version. Use pandas.concat instead.\n",
      "  df_player_info=df_player_info.append({'name':Name,'team':Team,'battingStyle':BattingStyle,'bowlingStyle':BowlingStyle,'playingRole':PlayingRole,'description':Description}, ignore_index=True)\n"
     ]
    },
    {
     "name": "stdout",
     "output_type": "stream",
     "text": [
      "190\n"
     ]
    },
    {
     "name": "stderr",
     "output_type": "stream",
     "text": [
      "C:\\Users\\SKS\\AppData\\Local\\Temp\\ipykernel_964\\433721850.py:47: FutureWarning: The frame.append method is deprecated and will be removed from pandas in a future version. Use pandas.concat instead.\n",
      "  df_player_info=df_player_info.append({'name':Name,'team':Team,'battingStyle':BattingStyle,'bowlingStyle':BowlingStyle,'playingRole':PlayingRole,'description':Description}, ignore_index=True)\n"
     ]
    },
    {
     "name": "stdout",
     "output_type": "stream",
     "text": [
      "191\n"
     ]
    },
    {
     "name": "stderr",
     "output_type": "stream",
     "text": [
      "C:\\Users\\SKS\\AppData\\Local\\Temp\\ipykernel_964\\433721850.py:47: FutureWarning: The frame.append method is deprecated and will be removed from pandas in a future version. Use pandas.concat instead.\n",
      "  df_player_info=df_player_info.append({'name':Name,'team':Team,'battingStyle':BattingStyle,'bowlingStyle':BowlingStyle,'playingRole':PlayingRole,'description':Description}, ignore_index=True)\n"
     ]
    },
    {
     "name": "stdout",
     "output_type": "stream",
     "text": [
      "192\n"
     ]
    },
    {
     "name": "stderr",
     "output_type": "stream",
     "text": [
      "C:\\Users\\SKS\\AppData\\Local\\Temp\\ipykernel_964\\433721850.py:47: FutureWarning: The frame.append method is deprecated and will be removed from pandas in a future version. Use pandas.concat instead.\n",
      "  df_player_info=df_player_info.append({'name':Name,'team':Team,'battingStyle':BattingStyle,'bowlingStyle':BowlingStyle,'playingRole':PlayingRole,'description':Description}, ignore_index=True)\n"
     ]
    },
    {
     "name": "stdout",
     "output_type": "stream",
     "text": [
      "193\n"
     ]
    },
    {
     "name": "stderr",
     "output_type": "stream",
     "text": [
      "C:\\Users\\SKS\\AppData\\Local\\Temp\\ipykernel_964\\433721850.py:47: FutureWarning: The frame.append method is deprecated and will be removed from pandas in a future version. Use pandas.concat instead.\n",
      "  df_player_info=df_player_info.append({'name':Name,'team':Team,'battingStyle':BattingStyle,'bowlingStyle':BowlingStyle,'playingRole':PlayingRole,'description':Description}, ignore_index=True)\n"
     ]
    },
    {
     "name": "stdout",
     "output_type": "stream",
     "text": [
      "194\n"
     ]
    },
    {
     "name": "stderr",
     "output_type": "stream",
     "text": [
      "C:\\Users\\SKS\\AppData\\Local\\Temp\\ipykernel_964\\433721850.py:47: FutureWarning: The frame.append method is deprecated and will be removed from pandas in a future version. Use pandas.concat instead.\n",
      "  df_player_info=df_player_info.append({'name':Name,'team':Team,'battingStyle':BattingStyle,'bowlingStyle':BowlingStyle,'playingRole':PlayingRole,'description':Description}, ignore_index=True)\n"
     ]
    },
    {
     "name": "stdout",
     "output_type": "stream",
     "text": [
      "195\n"
     ]
    },
    {
     "name": "stderr",
     "output_type": "stream",
     "text": [
      "C:\\Users\\SKS\\AppData\\Local\\Temp\\ipykernel_964\\433721850.py:47: FutureWarning: The frame.append method is deprecated and will be removed from pandas in a future version. Use pandas.concat instead.\n",
      "  df_player_info=df_player_info.append({'name':Name,'team':Team,'battingStyle':BattingStyle,'bowlingStyle':BowlingStyle,'playingRole':PlayingRole,'description':Description}, ignore_index=True)\n"
     ]
    },
    {
     "name": "stdout",
     "output_type": "stream",
     "text": [
      "196\n"
     ]
    },
    {
     "name": "stderr",
     "output_type": "stream",
     "text": [
      "C:\\Users\\SKS\\AppData\\Local\\Temp\\ipykernel_964\\433721850.py:47: FutureWarning: The frame.append method is deprecated and will be removed from pandas in a future version. Use pandas.concat instead.\n",
      "  df_player_info=df_player_info.append({'name':Name,'team':Team,'battingStyle':BattingStyle,'bowlingStyle':BowlingStyle,'playingRole':PlayingRole,'description':Description}, ignore_index=True)\n"
     ]
    },
    {
     "name": "stdout",
     "output_type": "stream",
     "text": [
      "197\n"
     ]
    },
    {
     "name": "stderr",
     "output_type": "stream",
     "text": [
      "C:\\Users\\SKS\\AppData\\Local\\Temp\\ipykernel_964\\433721850.py:47: FutureWarning: The frame.append method is deprecated and will be removed from pandas in a future version. Use pandas.concat instead.\n",
      "  df_player_info=df_player_info.append({'name':Name,'team':Team,'battingStyle':BattingStyle,'bowlingStyle':BowlingStyle,'playingRole':PlayingRole,'description':Description}, ignore_index=True)\n"
     ]
    },
    {
     "name": "stdout",
     "output_type": "stream",
     "text": [
      "198\n"
     ]
    },
    {
     "name": "stderr",
     "output_type": "stream",
     "text": [
      "C:\\Users\\SKS\\AppData\\Local\\Temp\\ipykernel_964\\433721850.py:47: FutureWarning: The frame.append method is deprecated and will be removed from pandas in a future version. Use pandas.concat instead.\n",
      "  df_player_info=df_player_info.append({'name':Name,'team':Team,'battingStyle':BattingStyle,'bowlingStyle':BowlingStyle,'playingRole':PlayingRole,'description':Description}, ignore_index=True)\n"
     ]
    },
    {
     "name": "stdout",
     "output_type": "stream",
     "text": [
      "199\n"
     ]
    },
    {
     "name": "stderr",
     "output_type": "stream",
     "text": [
      "C:\\Users\\SKS\\AppData\\Local\\Temp\\ipykernel_964\\433721850.py:47: FutureWarning: The frame.append method is deprecated and will be removed from pandas in a future version. Use pandas.concat instead.\n",
      "  df_player_info=df_player_info.append({'name':Name,'team':Team,'battingStyle':BattingStyle,'bowlingStyle':BowlingStyle,'playingRole':PlayingRole,'description':Description}, ignore_index=True)\n"
     ]
    },
    {
     "name": "stdout",
     "output_type": "stream",
     "text": [
      "200\n"
     ]
    },
    {
     "name": "stderr",
     "output_type": "stream",
     "text": [
      "C:\\Users\\SKS\\AppData\\Local\\Temp\\ipykernel_964\\433721850.py:47: FutureWarning: The frame.append method is deprecated and will be removed from pandas in a future version. Use pandas.concat instead.\n",
      "  df_player_info=df_player_info.append({'name':Name,'team':Team,'battingStyle':BattingStyle,'bowlingStyle':BowlingStyle,'playingRole':PlayingRole,'description':Description}, ignore_index=True)\n"
     ]
    },
    {
     "name": "stdout",
     "output_type": "stream",
     "text": [
      "201\n",
      "yes\n"
     ]
    },
    {
     "name": "stderr",
     "output_type": "stream",
     "text": [
      "C:\\Users\\SKS\\AppData\\Local\\Temp\\ipykernel_964\\433721850.py:47: FutureWarning: The frame.append method is deprecated and will be removed from pandas in a future version. Use pandas.concat instead.\n",
      "  df_player_info=df_player_info.append({'name':Name,'team':Team,'battingStyle':BattingStyle,'bowlingStyle':BowlingStyle,'playingRole':PlayingRole,'description':Description}, ignore_index=True)\n"
     ]
    },
    {
     "name": "stdout",
     "output_type": "stream",
     "text": [
      "203\n"
     ]
    },
    {
     "name": "stderr",
     "output_type": "stream",
     "text": [
      "C:\\Users\\SKS\\AppData\\Local\\Temp\\ipykernel_964\\433721850.py:47: FutureWarning: The frame.append method is deprecated and will be removed from pandas in a future version. Use pandas.concat instead.\n",
      "  df_player_info=df_player_info.append({'name':Name,'team':Team,'battingStyle':BattingStyle,'bowlingStyle':BowlingStyle,'playingRole':PlayingRole,'description':Description}, ignore_index=True)\n"
     ]
    },
    {
     "name": "stdout",
     "output_type": "stream",
     "text": [
      "204\n"
     ]
    },
    {
     "name": "stderr",
     "output_type": "stream",
     "text": [
      "C:\\Users\\SKS\\AppData\\Local\\Temp\\ipykernel_964\\433721850.py:47: FutureWarning: The frame.append method is deprecated and will be removed from pandas in a future version. Use pandas.concat instead.\n",
      "  df_player_info=df_player_info.append({'name':Name,'team':Team,'battingStyle':BattingStyle,'bowlingStyle':BowlingStyle,'playingRole':PlayingRole,'description':Description}, ignore_index=True)\n"
     ]
    },
    {
     "name": "stdout",
     "output_type": "stream",
     "text": [
      "205\n"
     ]
    },
    {
     "name": "stderr",
     "output_type": "stream",
     "text": [
      "C:\\Users\\SKS\\AppData\\Local\\Temp\\ipykernel_964\\433721850.py:47: FutureWarning: The frame.append method is deprecated and will be removed from pandas in a future version. Use pandas.concat instead.\n",
      "  df_player_info=df_player_info.append({'name':Name,'team':Team,'battingStyle':BattingStyle,'bowlingStyle':BowlingStyle,'playingRole':PlayingRole,'description':Description}, ignore_index=True)\n"
     ]
    },
    {
     "name": "stdout",
     "output_type": "stream",
     "text": [
      "206\n"
     ]
    },
    {
     "name": "stderr",
     "output_type": "stream",
     "text": [
      "C:\\Users\\SKS\\AppData\\Local\\Temp\\ipykernel_964\\433721850.py:47: FutureWarning: The frame.append method is deprecated and will be removed from pandas in a future version. Use pandas.concat instead.\n",
      "  df_player_info=df_player_info.append({'name':Name,'team':Team,'battingStyle':BattingStyle,'bowlingStyle':BowlingStyle,'playingRole':PlayingRole,'description':Description}, ignore_index=True)\n"
     ]
    },
    {
     "name": "stdout",
     "output_type": "stream",
     "text": [
      "207\n"
     ]
    },
    {
     "name": "stderr",
     "output_type": "stream",
     "text": [
      "C:\\Users\\SKS\\AppData\\Local\\Temp\\ipykernel_964\\433721850.py:47: FutureWarning: The frame.append method is deprecated and will be removed from pandas in a future version. Use pandas.concat instead.\n",
      "  df_player_info=df_player_info.append({'name':Name,'team':Team,'battingStyle':BattingStyle,'bowlingStyle':BowlingStyle,'playingRole':PlayingRole,'description':Description}, ignore_index=True)\n"
     ]
    },
    {
     "name": "stdout",
     "output_type": "stream",
     "text": [
      "208\n"
     ]
    },
    {
     "name": "stderr",
     "output_type": "stream",
     "text": [
      "C:\\Users\\SKS\\AppData\\Local\\Temp\\ipykernel_964\\433721850.py:47: FutureWarning: The frame.append method is deprecated and will be removed from pandas in a future version. Use pandas.concat instead.\n",
      "  df_player_info=df_player_info.append({'name':Name,'team':Team,'battingStyle':BattingStyle,'bowlingStyle':BowlingStyle,'playingRole':PlayingRole,'description':Description}, ignore_index=True)\n"
     ]
    },
    {
     "name": "stdout",
     "output_type": "stream",
     "text": [
      "209\n"
     ]
    },
    {
     "name": "stderr",
     "output_type": "stream",
     "text": [
      "C:\\Users\\SKS\\AppData\\Local\\Temp\\ipykernel_964\\433721850.py:47: FutureWarning: The frame.append method is deprecated and will be removed from pandas in a future version. Use pandas.concat instead.\n",
      "  df_player_info=df_player_info.append({'name':Name,'team':Team,'battingStyle':BattingStyle,'bowlingStyle':BowlingStyle,'playingRole':PlayingRole,'description':Description}, ignore_index=True)\n"
     ]
    },
    {
     "name": "stdout",
     "output_type": "stream",
     "text": [
      "210\n"
     ]
    },
    {
     "name": "stderr",
     "output_type": "stream",
     "text": [
      "C:\\Users\\SKS\\AppData\\Local\\Temp\\ipykernel_964\\433721850.py:47: FutureWarning: The frame.append method is deprecated and will be removed from pandas in a future version. Use pandas.concat instead.\n",
      "  df_player_info=df_player_info.append({'name':Name,'team':Team,'battingStyle':BattingStyle,'bowlingStyle':BowlingStyle,'playingRole':PlayingRole,'description':Description}, ignore_index=True)\n"
     ]
    },
    {
     "name": "stdout",
     "output_type": "stream",
     "text": [
      "211\n"
     ]
    },
    {
     "name": "stderr",
     "output_type": "stream",
     "text": [
      "C:\\Users\\SKS\\AppData\\Local\\Temp\\ipykernel_964\\433721850.py:47: FutureWarning: The frame.append method is deprecated and will be removed from pandas in a future version. Use pandas.concat instead.\n",
      "  df_player_info=df_player_info.append({'name':Name,'team':Team,'battingStyle':BattingStyle,'bowlingStyle':BowlingStyle,'playingRole':PlayingRole,'description':Description}, ignore_index=True)\n"
     ]
    },
    {
     "name": "stdout",
     "output_type": "stream",
     "text": [
      "212\n"
     ]
    },
    {
     "name": "stderr",
     "output_type": "stream",
     "text": [
      "C:\\Users\\SKS\\AppData\\Local\\Temp\\ipykernel_964\\433721850.py:47: FutureWarning: The frame.append method is deprecated and will be removed from pandas in a future version. Use pandas.concat instead.\n",
      "  df_player_info=df_player_info.append({'name':Name,'team':Team,'battingStyle':BattingStyle,'bowlingStyle':BowlingStyle,'playingRole':PlayingRole,'description':Description}, ignore_index=True)\n"
     ]
    },
    {
     "name": "stdout",
     "output_type": "stream",
     "text": [
      "213\n"
     ]
    },
    {
     "name": "stderr",
     "output_type": "stream",
     "text": [
      "C:\\Users\\SKS\\AppData\\Local\\Temp\\ipykernel_964\\433721850.py:47: FutureWarning: The frame.append method is deprecated and will be removed from pandas in a future version. Use pandas.concat instead.\n",
      "  df_player_info=df_player_info.append({'name':Name,'team':Team,'battingStyle':BattingStyle,'bowlingStyle':BowlingStyle,'playingRole':PlayingRole,'description':Description}, ignore_index=True)\n"
     ]
    },
    {
     "name": "stdout",
     "output_type": "stream",
     "text": [
      "214\n"
     ]
    },
    {
     "name": "stderr",
     "output_type": "stream",
     "text": [
      "C:\\Users\\SKS\\AppData\\Local\\Temp\\ipykernel_964\\433721850.py:47: FutureWarning: The frame.append method is deprecated and will be removed from pandas in a future version. Use pandas.concat instead.\n",
      "  df_player_info=df_player_info.append({'name':Name,'team':Team,'battingStyle':BattingStyle,'bowlingStyle':BowlingStyle,'playingRole':PlayingRole,'description':Description}, ignore_index=True)\n"
     ]
    },
    {
     "name": "stdout",
     "output_type": "stream",
     "text": [
      "215\n"
     ]
    },
    {
     "name": "stderr",
     "output_type": "stream",
     "text": [
      "C:\\Users\\SKS\\AppData\\Local\\Temp\\ipykernel_964\\433721850.py:47: FutureWarning: The frame.append method is deprecated and will be removed from pandas in a future version. Use pandas.concat instead.\n",
      "  df_player_info=df_player_info.append({'name':Name,'team':Team,'battingStyle':BattingStyle,'bowlingStyle':BowlingStyle,'playingRole':PlayingRole,'description':Description}, ignore_index=True)\n"
     ]
    },
    {
     "name": "stdout",
     "output_type": "stream",
     "text": [
      "216\n"
     ]
    },
    {
     "name": "stderr",
     "output_type": "stream",
     "text": [
      "C:\\Users\\SKS\\AppData\\Local\\Temp\\ipykernel_964\\433721850.py:47: FutureWarning: The frame.append method is deprecated and will be removed from pandas in a future version. Use pandas.concat instead.\n",
      "  df_player_info=df_player_info.append({'name':Name,'team':Team,'battingStyle':BattingStyle,'bowlingStyle':BowlingStyle,'playingRole':PlayingRole,'description':Description}, ignore_index=True)\n"
     ]
    },
    {
     "name": "stdout",
     "output_type": "stream",
     "text": [
      "217\n"
     ]
    },
    {
     "name": "stderr",
     "output_type": "stream",
     "text": [
      "C:\\Users\\SKS\\AppData\\Local\\Temp\\ipykernel_964\\433721850.py:47: FutureWarning: The frame.append method is deprecated and will be removed from pandas in a future version. Use pandas.concat instead.\n",
      "  df_player_info=df_player_info.append({'name':Name,'team':Team,'battingStyle':BattingStyle,'bowlingStyle':BowlingStyle,'playingRole':PlayingRole,'description':Description}, ignore_index=True)\n"
     ]
    },
    {
     "name": "stdout",
     "output_type": "stream",
     "text": [
      "218\n"
     ]
    },
    {
     "name": "stderr",
     "output_type": "stream",
     "text": [
      "C:\\Users\\SKS\\AppData\\Local\\Temp\\ipykernel_964\\433721850.py:47: FutureWarning: The frame.append method is deprecated and will be removed from pandas in a future version. Use pandas.concat instead.\n",
      "  df_player_info=df_player_info.append({'name':Name,'team':Team,'battingStyle':BattingStyle,'bowlingStyle':BowlingStyle,'playingRole':PlayingRole,'description':Description}, ignore_index=True)\n"
     ]
    },
    {
     "name": "stdout",
     "output_type": "stream",
     "text": [
      "219\n"
     ]
    },
    {
     "name": "stderr",
     "output_type": "stream",
     "text": [
      "C:\\Users\\SKS\\AppData\\Local\\Temp\\ipykernel_964\\433721850.py:47: FutureWarning: The frame.append method is deprecated and will be removed from pandas in a future version. Use pandas.concat instead.\n",
      "  df_player_info=df_player_info.append({'name':Name,'team':Team,'battingStyle':BattingStyle,'bowlingStyle':BowlingStyle,'playingRole':PlayingRole,'description':Description}, ignore_index=True)\n"
     ]
    },
    {
     "name": "stdout",
     "output_type": "stream",
     "text": [
      "220\n"
     ]
    },
    {
     "name": "stderr",
     "output_type": "stream",
     "text": [
      "C:\\Users\\SKS\\AppData\\Local\\Temp\\ipykernel_964\\433721850.py:47: FutureWarning: The frame.append method is deprecated and will be removed from pandas in a future version. Use pandas.concat instead.\n",
      "  df_player_info=df_player_info.append({'name':Name,'team':Team,'battingStyle':BattingStyle,'bowlingStyle':BowlingStyle,'playingRole':PlayingRole,'description':Description}, ignore_index=True)\n"
     ]
    },
    {
     "name": "stdout",
     "output_type": "stream",
     "text": [
      "221\n"
     ]
    },
    {
     "name": "stderr",
     "output_type": "stream",
     "text": [
      "C:\\Users\\SKS\\AppData\\Local\\Temp\\ipykernel_964\\433721850.py:47: FutureWarning: The frame.append method is deprecated and will be removed from pandas in a future version. Use pandas.concat instead.\n",
      "  df_player_info=df_player_info.append({'name':Name,'team':Team,'battingStyle':BattingStyle,'bowlingStyle':BowlingStyle,'playingRole':PlayingRole,'description':Description}, ignore_index=True)\n"
     ]
    },
    {
     "name": "stdout",
     "output_type": "stream",
     "text": [
      "222\n"
     ]
    },
    {
     "name": "stderr",
     "output_type": "stream",
     "text": [
      "C:\\Users\\SKS\\AppData\\Local\\Temp\\ipykernel_964\\433721850.py:47: FutureWarning: The frame.append method is deprecated and will be removed from pandas in a future version. Use pandas.concat instead.\n",
      "  df_player_info=df_player_info.append({'name':Name,'team':Team,'battingStyle':BattingStyle,'bowlingStyle':BowlingStyle,'playingRole':PlayingRole,'description':Description}, ignore_index=True)\n"
     ]
    },
    {
     "name": "stdout",
     "output_type": "stream",
     "text": [
      "223\n"
     ]
    },
    {
     "name": "stderr",
     "output_type": "stream",
     "text": [
      "C:\\Users\\SKS\\AppData\\Local\\Temp\\ipykernel_964\\433721850.py:47: FutureWarning: The frame.append method is deprecated and will be removed from pandas in a future version. Use pandas.concat instead.\n",
      "  df_player_info=df_player_info.append({'name':Name,'team':Team,'battingStyle':BattingStyle,'bowlingStyle':BowlingStyle,'playingRole':PlayingRole,'description':Description}, ignore_index=True)\n"
     ]
    },
    {
     "name": "stdout",
     "output_type": "stream",
     "text": [
      "224\n"
     ]
    },
    {
     "name": "stderr",
     "output_type": "stream",
     "text": [
      "C:\\Users\\SKS\\AppData\\Local\\Temp\\ipykernel_964\\433721850.py:47: FutureWarning: The frame.append method is deprecated and will be removed from pandas in a future version. Use pandas.concat instead.\n",
      "  df_player_info=df_player_info.append({'name':Name,'team':Team,'battingStyle':BattingStyle,'bowlingStyle':BowlingStyle,'playingRole':PlayingRole,'description':Description}, ignore_index=True)\n"
     ]
    },
    {
     "name": "stdout",
     "output_type": "stream",
     "text": [
      "225\n"
     ]
    },
    {
     "name": "stderr",
     "output_type": "stream",
     "text": [
      "C:\\Users\\SKS\\AppData\\Local\\Temp\\ipykernel_964\\433721850.py:47: FutureWarning: The frame.append method is deprecated and will be removed from pandas in a future version. Use pandas.concat instead.\n",
      "  df_player_info=df_player_info.append({'name':Name,'team':Team,'battingStyle':BattingStyle,'bowlingStyle':BowlingStyle,'playingRole':PlayingRole,'description':Description}, ignore_index=True)\n"
     ]
    },
    {
     "name": "stdout",
     "output_type": "stream",
     "text": [
      "226\n"
     ]
    },
    {
     "name": "stderr",
     "output_type": "stream",
     "text": [
      "C:\\Users\\SKS\\AppData\\Local\\Temp\\ipykernel_964\\433721850.py:47: FutureWarning: The frame.append method is deprecated and will be removed from pandas in a future version. Use pandas.concat instead.\n",
      "  df_player_info=df_player_info.append({'name':Name,'team':Team,'battingStyle':BattingStyle,'bowlingStyle':BowlingStyle,'playingRole':PlayingRole,'description':Description}, ignore_index=True)\n"
     ]
    },
    {
     "name": "stdout",
     "output_type": "stream",
     "text": [
      "227\n"
     ]
    },
    {
     "name": "stderr",
     "output_type": "stream",
     "text": [
      "C:\\Users\\SKS\\AppData\\Local\\Temp\\ipykernel_964\\433721850.py:47: FutureWarning: The frame.append method is deprecated and will be removed from pandas in a future version. Use pandas.concat instead.\n",
      "  df_player_info=df_player_info.append({'name':Name,'team':Team,'battingStyle':BattingStyle,'bowlingStyle':BowlingStyle,'playingRole':PlayingRole,'description':Description}, ignore_index=True)\n"
     ]
    },
    {
     "name": "stdout",
     "output_type": "stream",
     "text": [
      "228\n"
     ]
    },
    {
     "name": "stderr",
     "output_type": "stream",
     "text": [
      "C:\\Users\\SKS\\AppData\\Local\\Temp\\ipykernel_964\\433721850.py:47: FutureWarning: The frame.append method is deprecated and will be removed from pandas in a future version. Use pandas.concat instead.\n",
      "  df_player_info=df_player_info.append({'name':Name,'team':Team,'battingStyle':BattingStyle,'bowlingStyle':BowlingStyle,'playingRole':PlayingRole,'description':Description}, ignore_index=True)\n"
     ]
    },
    {
     "name": "stdout",
     "output_type": "stream",
     "text": [
      "229\n"
     ]
    },
    {
     "name": "stderr",
     "output_type": "stream",
     "text": [
      "C:\\Users\\SKS\\AppData\\Local\\Temp\\ipykernel_964\\433721850.py:47: FutureWarning: The frame.append method is deprecated and will be removed from pandas in a future version. Use pandas.concat instead.\n",
      "  df_player_info=df_player_info.append({'name':Name,'team':Team,'battingStyle':BattingStyle,'bowlingStyle':BowlingStyle,'playingRole':PlayingRole,'description':Description}, ignore_index=True)\n"
     ]
    },
    {
     "name": "stdout",
     "output_type": "stream",
     "text": [
      "230\n"
     ]
    },
    {
     "name": "stderr",
     "output_type": "stream",
     "text": [
      "C:\\Users\\SKS\\AppData\\Local\\Temp\\ipykernel_964\\433721850.py:47: FutureWarning: The frame.append method is deprecated and will be removed from pandas in a future version. Use pandas.concat instead.\n",
      "  df_player_info=df_player_info.append({'name':Name,'team':Team,'battingStyle':BattingStyle,'bowlingStyle':BowlingStyle,'playingRole':PlayingRole,'description':Description}, ignore_index=True)\n"
     ]
    },
    {
     "name": "stdout",
     "output_type": "stream",
     "text": [
      "231\n",
      "232\n"
     ]
    },
    {
     "name": "stderr",
     "output_type": "stream",
     "text": [
      "C:\\Users\\SKS\\AppData\\Local\\Temp\\ipykernel_964\\433721850.py:47: FutureWarning: The frame.append method is deprecated and will be removed from pandas in a future version. Use pandas.concat instead.\n",
      "  df_player_info=df_player_info.append({'name':Name,'team':Team,'battingStyle':BattingStyle,'bowlingStyle':BowlingStyle,'playingRole':PlayingRole,'description':Description}, ignore_index=True)\n"
     ]
    },
    {
     "data": {
      "text/html": [
       "<div>\n",
       "<style scoped>\n",
       "    .dataframe tbody tr th:only-of-type {\n",
       "        vertical-align: middle;\n",
       "    }\n",
       "\n",
       "    .dataframe tbody tr th {\n",
       "        vertical-align: top;\n",
       "    }\n",
       "\n",
       "    .dataframe thead th {\n",
       "        text-align: right;\n",
       "    }\n",
       "</style>\n",
       "<table border=\"1\" class=\"dataframe\">\n",
       "  <thead>\n",
       "    <tr style=\"text-align: right;\">\n",
       "      <th></th>\n",
       "      <th>name</th>\n",
       "      <th>team</th>\n",
       "      <th>battingStyle</th>\n",
       "      <th>bowlingStyle</th>\n",
       "      <th>playingRole</th>\n",
       "      <th>description</th>\n",
       "    </tr>\n",
       "  </thead>\n",
       "  <tbody>\n",
       "    <tr>\n",
       "      <th>0</th>\n",
       "      <td>Michael Bracewell</td>\n",
       "      <td>New Zealand</td>\n",
       "      <td>Left hand Bat</td>\n",
       "      <td>Right arm Offbreak</td>\n",
       "      <td>Wicketkeeper</td>\n",
       "      <td>The latest member of the Bracewell dynasty to ...</td>\n",
       "    </tr>\n",
       "    <tr>\n",
       "      <th>1</th>\n",
       "      <td>Roelof van der Merwe</td>\n",
       "      <td>Netherlands</td>\n",
       "      <td>Right hand Bat</td>\n",
       "      <td>Slow Left arm Orthodox</td>\n",
       "      <td>Allrounder</td>\n",
       "      <td>Tidy left-arm spinner and hard-hitting batter ...</td>\n",
       "    </tr>\n",
       "    <tr>\n",
       "      <th>2</th>\n",
       "      <td>Akeal Hosein</td>\n",
       "      <td>West Indies</td>\n",
       "      <td>Left hand Bat</td>\n",
       "      <td>Slow Left arm Orthodox</td>\n",
       "      <td>Bowler</td>\n",
       "      <td>Akeal Hosein was handed a chance to impress fo...</td>\n",
       "    </tr>\n",
       "    <tr>\n",
       "      <th>3</th>\n",
       "      <td>Barry McCarthy</td>\n",
       "      <td>Ireland</td>\n",
       "      <td>Right hand Bat</td>\n",
       "      <td>Right arm Fast medium</td>\n",
       "      <td>Bowler</td>\n",
       "      <td>Barry McCarthy is an Ireland seam bowler whose...</td>\n",
       "    </tr>\n",
       "    <tr>\n",
       "      <th>4</th>\n",
       "      <td>Harry Tector</td>\n",
       "      <td>Ireland</td>\n",
       "      <td>Right hand Bat</td>\n",
       "      <td>Right arm Offbreak</td>\n",
       "      <td>Middle order Batter</td>\n",
       "      <td>Born into a cricketing family - his brothers J...</td>\n",
       "    </tr>\n",
       "    <tr>\n",
       "      <th>...</th>\n",
       "      <td>...</td>\n",
       "      <td>...</td>\n",
       "      <td>...</td>\n",
       "      <td>...</td>\n",
       "      <td>...</td>\n",
       "      <td>...</td>\n",
       "    </tr>\n",
       "    <tr>\n",
       "      <th>220</th>\n",
       "      <td>Aiden Markram</td>\n",
       "      <td>South Africa</td>\n",
       "      <td>Right hand Bat</td>\n",
       "      <td>Right arm Offbreak</td>\n",
       "      <td>Opening Batter</td>\n",
       "      <td>The first South Africa captain to win a World ...</td>\n",
       "    </tr>\n",
       "    <tr>\n",
       "      <th>221</th>\n",
       "      <td>Regis Chakabva</td>\n",
       "      <td>Zimbabwe</td>\n",
       "      <td>Right hand Bat</td>\n",
       "      <td>Right arm Offbreak</td>\n",
       "      <td>Wicketkeeper</td>\n",
       "      <td>A doughty wicketkeeper-batsman, Regis Chakabva...</td>\n",
       "    </tr>\n",
       "    <tr>\n",
       "      <th>222</th>\n",
       "      <td>Rilee Rossouw</td>\n",
       "      <td>South Africa</td>\n",
       "      <td>Left hand Bat</td>\n",
       "      <td>Right arm Offbreak</td>\n",
       "      <td>Top order Batter</td>\n",
       "      <td>A stylish top-order player with an elegant and...</td>\n",
       "    </tr>\n",
       "    <tr>\n",
       "      <th>223</th>\n",
       "      <td>Haider Ali</td>\n",
       "      <td>Pakistan</td>\n",
       "      <td>Right hand Bat</td>\n",
       "      <td>Bat</td>\n",
       "      <td>Batting &amp; Fielding</td>\n",
       "      <td></td>\n",
       "    </tr>\n",
       "    <tr>\n",
       "      <th>224</th>\n",
       "      <td>Tendai Chatara</td>\n",
       "      <td>Zimbabwe</td>\n",
       "      <td>Right hand Bat</td>\n",
       "      <td>Right arm Fast medium</td>\n",
       "      <td>Bowler</td>\n",
       "      <td>The first thing one notices when watching Tend...</td>\n",
       "    </tr>\n",
       "  </tbody>\n",
       "</table>\n",
       "<p>225 rows × 6 columns</p>\n",
       "</div>"
      ],
      "text/plain": [
       "                     name          team    battingStyle  \\\n",
       "0       Michael Bracewell   New Zealand   Left hand Bat   \n",
       "1    Roelof van der Merwe   Netherlands  Right hand Bat   \n",
       "2            Akeal Hosein   West Indies   Left hand Bat   \n",
       "3          Barry McCarthy       Ireland  Right hand Bat   \n",
       "4            Harry Tector       Ireland  Right hand Bat   \n",
       "..                    ...           ...             ...   \n",
       "220         Aiden Markram  South Africa  Right hand Bat   \n",
       "221        Regis Chakabva      Zimbabwe  Right hand Bat   \n",
       "222         Rilee Rossouw  South Africa   Left hand Bat   \n",
       "223            Haider Ali      Pakistan  Right hand Bat   \n",
       "224        Tendai Chatara      Zimbabwe  Right hand Bat   \n",
       "\n",
       "               bowlingStyle          playingRole  \\\n",
       "0        Right arm Offbreak         Wicketkeeper   \n",
       "1    Slow Left arm Orthodox           Allrounder   \n",
       "2    Slow Left arm Orthodox               Bowler   \n",
       "3     Right arm Fast medium               Bowler   \n",
       "4        Right arm Offbreak  Middle order Batter   \n",
       "..                      ...                  ...   \n",
       "220      Right arm Offbreak       Opening Batter   \n",
       "221      Right arm Offbreak         Wicketkeeper   \n",
       "222      Right arm Offbreak     Top order Batter   \n",
       "223                     Bat   Batting & Fielding   \n",
       "224   Right arm Fast medium               Bowler   \n",
       "\n",
       "                                           description  \n",
       "0    The latest member of the Bracewell dynasty to ...  \n",
       "1    Tidy left-arm spinner and hard-hitting batter ...  \n",
       "2    Akeal Hosein was handed a chance to impress fo...  \n",
       "3    Barry McCarthy is an Ireland seam bowler whose...  \n",
       "4    Born into a cricketing family - his brothers J...  \n",
       "..                                                 ...  \n",
       "220  The first South Africa captain to win a World ...  \n",
       "221  A doughty wicketkeeper-batsman, Regis Chakabva...  \n",
       "222  A stylish top-order player with an elegant and...  \n",
       "223                                                     \n",
       "224  The first thing one notices when watching Tend...  \n",
       "\n",
       "[225 rows x 6 columns]"
      ]
     },
     "execution_count": 482,
     "metadata": {},
     "output_type": "execute_result"
    }
   ],
   "source": [
    "df_player_info=pd.DataFrame(columns=['name','team','battingStyle','bowlingStyle','playingRole','description'])\n",
    "for index,i in enumerate(final_player_links):\n",
    "    player_data  = requests.get(i).text \n",
    "    player_soup = BeautifulSoup(player_data,\"html.parser\")\n",
    "    test_2=player_soup.find_all(class_=\"ds-text-tight-m ds-font-regular ds-uppercase ds-text-typo-mid3\")\n",
    "    flag=0\n",
    "    for i in test_2 :\n",
    "        if \"Other\" in i:\n",
    "            flag=1\n",
    "    if flag==1:\n",
    "        print('yes')\n",
    "        continue;\n",
    "    match_tables=player_soup.find(class_='ds-cursor-pointer ds-inline-flex ds-items-start ds-leading-none')\n",
    "    Team=match_tables.text\n",
    "    match_tables=player_soup.find('h1')\n",
    "    Name=match_tables.text\n",
    "    match_tables=player_soup.find_all('h5')\n",
    "    \n",
    "    test=player_soup.find_all(class_=\"ds-text-tight-m ds-font-regular ds-uppercase ds-text-typo-mid3\")\n",
    "    \n",
    "    if 'Also Known As' in test[3]:\n",
    "        BattingStyle=match_tables[4].text\n",
    "        if 'Bowling Style'in  test[5]:\n",
    "            BowlingStyle=match_tables[5].text\n",
    "        else:\n",
    "            BowlingStyle='Bat'\n",
    "        PlayingRole=match_tables[6].text\n",
    "    else:\n",
    "        BattingStyle=match_tables[3].text \n",
    "        if 'Bowling Style'in  test[4]:\n",
    "            BowlingStyle=match_tables[4].text\n",
    "        else:\n",
    "            BowlingStyle='Bat'\n",
    "        PlayingRole=match_tables[5].text\n",
    "    \n",
    "        \n",
    "        \n",
    "    \n",
    "    \n",
    "    match_tables=player_soup.find(class_='ci-player-bio-content')\n",
    "    if match_tables==None:\n",
    "        Description=''\n",
    "    else:\n",
    "        Description=match_tables.p.text\n",
    "        \n",
    "\n",
    "    df_player_info=df_player_info.append({'name':Name,'team':Team,'battingStyle':BattingStyle,'bowlingStyle':BowlingStyle,'playingRole':PlayingRole,'description':Description}, ignore_index=True)\n",
    "    print(index)\n",
    "df_player_info"
   ]
  },
  {
   "cell_type": "code",
   "execution_count": 483,
   "id": "28508504",
   "metadata": {},
   "outputs": [],
   "source": [
    "df_player_info.to_csv('C:/Users/SKS/Desktop/IPL project/player_info_new2.csv',index=False)"
   ]
  }
 ],
 "metadata": {
  "kernelspec": {
   "display_name": "Python 3 (ipykernel)",
   "language": "python",
   "name": "python3"
  },
  "language_info": {
   "codemirror_mode": {
    "name": "ipython",
    "version": 3
   },
   "file_extension": ".py",
   "mimetype": "text/x-python",
   "name": "python",
   "nbconvert_exporter": "python",
   "pygments_lexer": "ipython3",
   "version": "3.9.12"
  }
 },
 "nbformat": 4,
 "nbformat_minor": 5
}
